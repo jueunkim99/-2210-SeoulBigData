{
 "cells": [
  {
   "cell_type": "markdown",
   "metadata": {},
   "source": [
    "## 0. 환경설정"
   ]
  },
  {
   "cell_type": "code",
   "execution_count": 1,
   "metadata": {},
   "outputs": [],
   "source": [
    "import pandas as pd\n",
    "import numpy as np\n",
    "import matplotlib.pyplot as plt\n",
    "import seaborn as sns\n",
    "\n",
    "import warnings\n",
    "warnings.filterwarnings(\"ignore\")\n",
    "pd.set_option('display.max_columns', None)\n",
    "pd.set_option('display.max_rows', None)\n",
    "\n",
    "# 시각화 관련\n",
    "from wordcloud import WordCloud, STOPWORDS, ImageColorGenerator\n",
    "from collections import Counter\n",
    "from PIL import Image\n",
    "from matplotlib import rc\n",
    "\n",
    "# 그래프에서 한글 폰트 깨지는 문제에 대한 대처(전역 글꼴 설정)\n",
    "import matplotlib.font_manager as fm\n",
    "import warnings\n",
    "warnings.filterwarnings(action='ignore') \n",
    "\n",
    "import matplotlib\n",
    "matplotlib.rcParams['font.family'] ='Malgun Gothic'\n",
    "matplotlib.rcParams['axes.unicode_minus'] =False"
   ]
  },
  {
   "cell_type": "markdown",
   "metadata": {},
   "source": [
    "## 1. 안전성"
   ]
  },
  {
   "cell_type": "markdown",
   "metadata": {},
   "source": [
    "### 1-1. data 전처리"
   ]
  },
  {
   "cell_type": "code",
   "execution_count": 2,
   "metadata": {},
   "outputs": [
    {
     "data": {
      "text/html": [
       "<div>\n",
       "<style scoped>\n",
       "    .dataframe tbody tr th:only-of-type {\n",
       "        vertical-align: middle;\n",
       "    }\n",
       "\n",
       "    .dataframe tbody tr th {\n",
       "        vertical-align: top;\n",
       "    }\n",
       "\n",
       "    .dataframe thead th {\n",
       "        text-align: right;\n",
       "    }\n",
       "</style>\n",
       "<table border=\"1\" class=\"dataframe\">\n",
       "  <thead>\n",
       "    <tr style=\"text-align: right;\">\n",
       "      <th></th>\n",
       "      <th>year</th>\n",
       "      <th>Gu</th>\n",
       "      <th>num</th>\n",
       "      <th>car10000_num</th>\n",
       "      <th>dead</th>\n",
       "      <th>dead_per100000</th>\n",
       "      <th>injured</th>\n",
       "      <th>injured_per100000</th>\n",
       "    </tr>\n",
       "  </thead>\n",
       "  <tbody>\n",
       "    <tr>\n",
       "      <th>0</th>\n",
       "      <td>2021</td>\n",
       "      <td>종로구</td>\n",
       "      <td>778.0</td>\n",
       "      <td>122.6</td>\n",
       "      <td>6.0</td>\n",
       "      <td>3.9</td>\n",
       "      <td>1050.0</td>\n",
       "      <td>682.8</td>\n",
       "    </tr>\n",
       "    <tr>\n",
       "      <th>1</th>\n",
       "      <td>2021</td>\n",
       "      <td>중구</td>\n",
       "      <td>854.0</td>\n",
       "      <td>113.3</td>\n",
       "      <td>3.0</td>\n",
       "      <td>2.3</td>\n",
       "      <td>1156.0</td>\n",
       "      <td>877.2</td>\n",
       "    </tr>\n",
       "    <tr>\n",
       "      <th>2</th>\n",
       "      <td>2021</td>\n",
       "      <td>용산구</td>\n",
       "      <td>1014.0</td>\n",
       "      <td>105.1</td>\n",
       "      <td>5.0</td>\n",
       "      <td>2.1</td>\n",
       "      <td>1369.0</td>\n",
       "      <td>576.9</td>\n",
       "    </tr>\n",
       "    <tr>\n",
       "      <th>3</th>\n",
       "      <td>2021</td>\n",
       "      <td>성동구</td>\n",
       "      <td>1057.0</td>\n",
       "      <td>84.6</td>\n",
       "      <td>8.0</td>\n",
       "      <td>2.7</td>\n",
       "      <td>1362.0</td>\n",
       "      <td>465.4</td>\n",
       "    </tr>\n",
       "    <tr>\n",
       "      <th>4</th>\n",
       "      <td>2021</td>\n",
       "      <td>광진구</td>\n",
       "      <td>922.0</td>\n",
       "      <td>78.7</td>\n",
       "      <td>4.0</td>\n",
       "      <td>1.1</td>\n",
       "      <td>1216.0</td>\n",
       "      <td>344.8</td>\n",
       "    </tr>\n",
       "  </tbody>\n",
       "</table>\n",
       "</div>"
      ],
      "text/plain": [
       "   year   Gu     num  car10000_num  dead  dead_per100000  injured  \\\n",
       "0  2021  종로구   778.0         122.6   6.0             3.9   1050.0   \n",
       "1  2021   중구   854.0         113.3   3.0             2.3   1156.0   \n",
       "2  2021  용산구  1014.0         105.1   5.0             2.1   1369.0   \n",
       "3  2021  성동구  1057.0          84.6   8.0             2.7   1362.0   \n",
       "4  2021  광진구   922.0          78.7   4.0             1.1   1216.0   \n",
       "\n",
       "   injured_per100000  \n",
       "0              682.8  \n",
       "1              877.2  \n",
       "2              576.9  \n",
       "3              465.4  \n",
       "4              344.8  "
      ]
     },
     "execution_count": 2,
     "metadata": {},
     "output_type": "execute_result"
    }
   ],
   "source": [
    "d1 = pd.read_csv('data/교통사고+현황(구별)_20221021121851.csv', encoding='cp949')\n",
    "d1 = d1['시점\\t자치구별(2)\\t발생건수 (건)\\t자동차 1만대당 발생건수 (건)\\t사망자수 (명)\\t인구 10만명당 사망자수 (명)\\t부상자수 (명)\\t인구 10만명당 부상자수 (명)'].str.split('\\t',expand = True)\n",
    "d1.columns = ['year','Gu','num','car10000_num','dead','dead_per100000','injured','injured_per100000']\n",
    "d1 = d1.astype({'num':'float'})\n",
    "d1 = d1.astype({'car10000_num':'float'})\n",
    "d1 = d1.astype({'dead':'float'})\n",
    "d1 = d1.astype({'dead_per100000':'float'})\n",
    "d1 = d1.astype({'injured':'float'})\n",
    "d1 = d1.astype({'injured_per100000':'float'})\n",
    "d1.head()"
   ]
  },
  {
   "cell_type": "code",
   "execution_count": 3,
   "metadata": {},
   "outputs": [
    {
     "data": {
      "text/html": [
       "<div>\n",
       "<style scoped>\n",
       "    .dataframe tbody tr th:only-of-type {\n",
       "        vertical-align: middle;\n",
       "    }\n",
       "\n",
       "    .dataframe tbody tr th {\n",
       "        vertical-align: top;\n",
       "    }\n",
       "\n",
       "    .dataframe thead th {\n",
       "        text-align: right;\n",
       "    }\n",
       "</style>\n",
       "<table border=\"1\" class=\"dataframe\">\n",
       "  <thead>\n",
       "    <tr style=\"text-align: right;\">\n",
       "      <th></th>\n",
       "      <th>서울시</th>\n",
       "      <th>Gu</th>\n",
       "      <th>2020교통안전지수</th>\n",
       "    </tr>\n",
       "  </thead>\n",
       "  <tbody>\n",
       "    <tr>\n",
       "      <th>1</th>\n",
       "      <td>서울시</td>\n",
       "      <td>종로구</td>\n",
       "      <td>79.78</td>\n",
       "    </tr>\n",
       "    <tr>\n",
       "      <th>2</th>\n",
       "      <td>서울시</td>\n",
       "      <td>중구</td>\n",
       "      <td>75.20</td>\n",
       "    </tr>\n",
       "    <tr>\n",
       "      <th>3</th>\n",
       "      <td>서울시</td>\n",
       "      <td>용산구</td>\n",
       "      <td>79.97</td>\n",
       "    </tr>\n",
       "    <tr>\n",
       "      <th>4</th>\n",
       "      <td>서울시</td>\n",
       "      <td>성동구</td>\n",
       "      <td>78.71</td>\n",
       "    </tr>\n",
       "    <tr>\n",
       "      <th>5</th>\n",
       "      <td>서울시</td>\n",
       "      <td>광진구</td>\n",
       "      <td>83.00</td>\n",
       "    </tr>\n",
       "  </tbody>\n",
       "</table>\n",
       "</div>"
      ],
      "text/plain": [
       "   서울시   Gu  2020교통안전지수\n",
       "1  서울시  종로구       79.78\n",
       "2  서울시   중구       75.20\n",
       "3  서울시  용산구       79.97\n",
       "4  서울시  성동구       78.71\n",
       "5  서울시  광진구       83.00"
      ]
     },
     "execution_count": 3,
     "metadata": {},
     "output_type": "execute_result"
    }
   ],
   "source": [
    "#100에 가까울수록 안전\n",
    "d2 = pd.read_csv('data/교통안전지수_20221021121453.csv')# encoding='cp949')\n",
    "d2.columns = ['서울시','Gu','2020교통안전지수']\n",
    "d2 = d2.drop(0, axis=0) #소계 행 삭제\n",
    "d2.head()"
   ]
  },
  {
   "cell_type": "code",
   "execution_count": 4,
   "metadata": {},
   "outputs": [
    {
     "data": {
      "text/html": [
       "<div>\n",
       "<style scoped>\n",
       "    .dataframe tbody tr th:only-of-type {\n",
       "        vertical-align: middle;\n",
       "    }\n",
       "\n",
       "    .dataframe tbody tr th {\n",
       "        vertical-align: top;\n",
       "    }\n",
       "\n",
       "    .dataframe thead th {\n",
       "        text-align: right;\n",
       "    }\n",
       "</style>\n",
       "<table border=\"1\" class=\"dataframe\">\n",
       "  <thead>\n",
       "    <tr style=\"text-align: right;\">\n",
       "      <th></th>\n",
       "      <th>Gu</th>\n",
       "      <th>num</th>\n",
       "      <th>car10000_num</th>\n",
       "      <th>dead</th>\n",
       "      <th>dead_per100000</th>\n",
       "      <th>injured</th>\n",
       "      <th>injured_per100000</th>\n",
       "      <th>2020교통안전지수</th>\n",
       "    </tr>\n",
       "  </thead>\n",
       "  <tbody>\n",
       "    <tr>\n",
       "      <th>0</th>\n",
       "      <td>종로구</td>\n",
       "      <td>778.0</td>\n",
       "      <td>122.6</td>\n",
       "      <td>6.0</td>\n",
       "      <td>3.9</td>\n",
       "      <td>1050.0</td>\n",
       "      <td>682.8</td>\n",
       "      <td>79.78</td>\n",
       "    </tr>\n",
       "    <tr>\n",
       "      <th>1</th>\n",
       "      <td>중구</td>\n",
       "      <td>854.0</td>\n",
       "      <td>113.3</td>\n",
       "      <td>3.0</td>\n",
       "      <td>2.3</td>\n",
       "      <td>1156.0</td>\n",
       "      <td>877.2</td>\n",
       "      <td>75.20</td>\n",
       "    </tr>\n",
       "    <tr>\n",
       "      <th>2</th>\n",
       "      <td>용산구</td>\n",
       "      <td>1014.0</td>\n",
       "      <td>105.1</td>\n",
       "      <td>5.0</td>\n",
       "      <td>2.1</td>\n",
       "      <td>1369.0</td>\n",
       "      <td>576.9</td>\n",
       "      <td>79.97</td>\n",
       "    </tr>\n",
       "    <tr>\n",
       "      <th>3</th>\n",
       "      <td>성동구</td>\n",
       "      <td>1057.0</td>\n",
       "      <td>84.6</td>\n",
       "      <td>8.0</td>\n",
       "      <td>2.7</td>\n",
       "      <td>1362.0</td>\n",
       "      <td>465.4</td>\n",
       "      <td>78.71</td>\n",
       "    </tr>\n",
       "    <tr>\n",
       "      <th>4</th>\n",
       "      <td>광진구</td>\n",
       "      <td>922.0</td>\n",
       "      <td>78.7</td>\n",
       "      <td>4.0</td>\n",
       "      <td>1.1</td>\n",
       "      <td>1216.0</td>\n",
       "      <td>344.8</td>\n",
       "      <td>83.00</td>\n",
       "    </tr>\n",
       "  </tbody>\n",
       "</table>\n",
       "</div>"
      ],
      "text/plain": [
       "    Gu     num  car10000_num  dead  dead_per100000  injured  \\\n",
       "0  종로구   778.0         122.6   6.0             3.9   1050.0   \n",
       "1   중구   854.0         113.3   3.0             2.3   1156.0   \n",
       "2  용산구  1014.0         105.1   5.0             2.1   1369.0   \n",
       "3  성동구  1057.0          84.6   8.0             2.7   1362.0   \n",
       "4  광진구   922.0          78.7   4.0             1.1   1216.0   \n",
       "\n",
       "   injured_per100000  2020교통안전지수  \n",
       "0              682.8       79.78  \n",
       "1              877.2       75.20  \n",
       "2              576.9       79.97  \n",
       "3              465.4       78.71  \n",
       "4              344.8       83.00  "
      ]
     },
     "execution_count": 4,
     "metadata": {},
     "output_type": "execute_result"
    }
   ],
   "source": [
    "#교통안전지수 제외 모두 2021data\n",
    "df_safety = pd.merge(d1,d2)\n",
    "df_safety = df_safety.drop(['서울시','year'],axis = 1)\n",
    "df_safety.head()\n",
    "#최종데이터: df_safety "
   ]
  },
  {
   "cell_type": "markdown",
   "metadata": {},
   "source": [
    "### 1-2. 안전성_탐색적 요인 분석"
   ]
  },
  {
   "cell_type": "code",
   "execution_count": 5,
   "metadata": {},
   "outputs": [
    {
     "data": {
      "text/html": [
       "<div>\n",
       "<style scoped>\n",
       "    .dataframe tbody tr th:only-of-type {\n",
       "        vertical-align: middle;\n",
       "    }\n",
       "\n",
       "    .dataframe tbody tr th {\n",
       "        vertical-align: top;\n",
       "    }\n",
       "\n",
       "    .dataframe thead th {\n",
       "        text-align: right;\n",
       "    }\n",
       "</style>\n",
       "<table border=\"1\" class=\"dataframe\">\n",
       "  <thead>\n",
       "    <tr style=\"text-align: right;\">\n",
       "      <th></th>\n",
       "      <th>num</th>\n",
       "      <th>car10000_num</th>\n",
       "      <th>dead</th>\n",
       "      <th>dead_per100000</th>\n",
       "      <th>injured</th>\n",
       "      <th>injured_per100000</th>\n",
       "      <th>2020교통안전지수</th>\n",
       "    </tr>\n",
       "  </thead>\n",
       "  <tbody>\n",
       "    <tr>\n",
       "      <th>0</th>\n",
       "      <td>0.057913</td>\n",
       "      <td>0.721053</td>\n",
       "      <td>0.214286</td>\n",
       "      <td>0.535714</td>\n",
       "      <td>0.063989</td>\n",
       "      <td>0.612774</td>\n",
       "      <td>0.791990</td>\n",
       "    </tr>\n",
       "    <tr>\n",
       "      <th>1</th>\n",
       "      <td>0.081449</td>\n",
       "      <td>0.623158</td>\n",
       "      <td>0.000000</td>\n",
       "      <td>0.250000</td>\n",
       "      <td>0.088042</td>\n",
       "      <td>0.882100</td>\n",
       "      <td>0.496124</td>\n",
       "    </tr>\n",
       "    <tr>\n",
       "      <th>2</th>\n",
       "      <td>0.131000</td>\n",
       "      <td>0.536842</td>\n",
       "      <td>0.142857</td>\n",
       "      <td>0.214286</td>\n",
       "      <td>0.136374</td>\n",
       "      <td>0.466057</td>\n",
       "      <td>0.804264</td>\n",
       "    </tr>\n",
       "    <tr>\n",
       "      <th>3</th>\n",
       "      <td>0.144317</td>\n",
       "      <td>0.321053</td>\n",
       "      <td>0.357143</td>\n",
       "      <td>0.321429</td>\n",
       "      <td>0.134786</td>\n",
       "      <td>0.311582</td>\n",
       "      <td>0.722868</td>\n",
       "    </tr>\n",
       "    <tr>\n",
       "      <th>4</th>\n",
       "      <td>0.102509</td>\n",
       "      <td>0.258947</td>\n",
       "      <td>0.071429</td>\n",
       "      <td>0.035714</td>\n",
       "      <td>0.101656</td>\n",
       "      <td>0.144500</td>\n",
       "      <td>1.000000</td>\n",
       "    </tr>\n",
       "  </tbody>\n",
       "</table>\n",
       "</div>"
      ],
      "text/plain": [
       "        num  car10000_num      dead  dead_per100000   injured  \\\n",
       "0  0.057913      0.721053  0.214286        0.535714  0.063989   \n",
       "1  0.081449      0.623158  0.000000        0.250000  0.088042   \n",
       "2  0.131000      0.536842  0.142857        0.214286  0.136374   \n",
       "3  0.144317      0.321053  0.357143        0.321429  0.134786   \n",
       "4  0.102509      0.258947  0.071429        0.035714  0.101656   \n",
       "\n",
       "   injured_per100000  2020교통안전지수  \n",
       "0           0.612774    0.791990  \n",
       "1           0.882100    0.496124  \n",
       "2           0.466057    0.804264  \n",
       "3           0.311582    0.722868  \n",
       "4           0.144500    1.000000  "
      ]
     },
     "execution_count": 5,
     "metadata": {},
     "output_type": "execute_result"
    }
   ],
   "source": [
    "from sklearn.preprocessing import MinMaxScaler\n",
    "df_safety_test = df_safety.drop(['Gu'],axis = 1)\n",
    "min_max_scaler = MinMaxScaler()\n",
    "fitted = min_max_scaler.fit(df_safety_test)\n",
    "df_safety_test_s = min_max_scaler.transform(df_safety_test)\n",
    "df_safety_test_s = pd.DataFrame(df_safety_test_s, columns=(df_safety_test).columns, index=list(df_safety_test.index.values))\n",
    "df_safety_test_s.head()"
   ]
  },
  {
   "cell_type": "code",
   "execution_count": 6,
   "metadata": {},
   "outputs": [
    {
     "name": "stdout",
     "output_type": "stream",
     "text": [
      "<class 'pandas.core.frame.DataFrame'>\n",
      "Int64Index: 25 entries, 0 to 24\n",
      "Data columns (total 7 columns):\n",
      " #   Column             Non-Null Count  Dtype  \n",
      "---  ------             --------------  -----  \n",
      " 0   num                25 non-null     float64\n",
      " 1   car10000_num       25 non-null     float64\n",
      " 2   dead               25 non-null     float64\n",
      " 3   dead_per100000     25 non-null     float64\n",
      " 4   injured            25 non-null     float64\n",
      " 5   injured_per100000  25 non-null     float64\n",
      " 6   2020교통안전지수         25 non-null     float64\n",
      "dtypes: float64(7)\n",
      "memory usage: 1.6 KB\n"
     ]
    }
   ],
   "source": [
    "df_safety_test_s.info()"
   ]
  },
  {
   "cell_type": "code",
   "execution_count": 7,
   "metadata": {},
   "outputs": [
    {
     "data": {
      "text/plain": [
       "(242.4796803837351, 1.3231646965854372e-39)"
      ]
     },
     "execution_count": 7,
     "metadata": {},
     "output_type": "execute_result"
    }
   ],
   "source": [
    "# Bartlett test\n",
    "from factor_analyzer.factor_analyzer import calculate_bartlett_sphericity\n",
    "chi_square_value, p_value = calculate_bartlett_sphericity(df_safety_test_s)\n",
    "chi_square_value, p_value "
   ]
  },
  {
   "cell_type": "code",
   "execution_count": 8,
   "metadata": {},
   "outputs": [
    {
     "data": {
      "text/plain": [
       "0.5605211481735087"
      ]
     },
     "execution_count": 8,
     "metadata": {},
     "output_type": "execute_result"
    }
   ],
   "source": [
    "#KMO검정\n",
    "from factor_analyzer.factor_analyzer import calculate_kmo\n",
    "kmo_all,kmo_model = calculate_kmo(df_safety_test_s)\n",
    "kmo_model"
   ]
  },
  {
   "cell_type": "code",
   "execution_count": 9,
   "metadata": {},
   "outputs": [
    {
     "data": {
      "text/plain": [
       "array([3.89271187e+00, 1.66759417e+00, 1.05035620e+00, 2.55061000e-01,\n",
       "       9.53477725e-02, 3.75117670e-02, 1.41721079e-03])"
      ]
     },
     "execution_count": 9,
     "metadata": {},
     "output_type": "execute_result"
    }
   ],
   "source": [
    "from factor_analyzer import FactorAnalyzer\n",
    "fa = FactorAnalyzer(n_factors = 10, rotation = None)\n",
    "fa.fit(df_safety_test_s)\n",
    "ev,v = fa.get_eigenvalues()\n",
    "ev"
   ]
  },
  {
   "cell_type": "markdown",
   "metadata": {},
   "source": [
    "* y축의 값이 1이상이면서 1에 가장 가까운 값이 가장 적합!->3"
   ]
  },
  {
   "cell_type": "code",
   "execution_count": 10,
   "metadata": {},
   "outputs": [
    {
     "data": {
      "image/png": "[encoded data removed]",
      "text/plain": [
       "<Figure size 640x480 with 1 Axes>"
      ]
     },
     "metadata": {},
     "output_type": "display_data"
    }
   ],
   "source": [
    "plt.scatter(range(1,df_safety_test_s.shape[1]+1),ev)\n",
    "plt.plot(range(1,df_safety_test_s.shape[1]+1),ev)\n",
    "plt.title('Scree Plot')\n",
    "plt.xlabel('Factors')\n",
    "plt.ylabel('Eigenvalue')\n",
    "plt.grid()\n",
    "plt.show()"
   ]
  },
  {
   "cell_type": "code",
   "execution_count": 11,
   "metadata": {},
   "outputs": [
    {
     "data": {
      "text/html": [
       "<div>\n",
       "<style scoped>\n",
       "    .dataframe tbody tr th:only-of-type {\n",
       "        vertical-align: middle;\n",
       "    }\n",
       "\n",
       "    .dataframe tbody tr th {\n",
       "        vertical-align: top;\n",
       "    }\n",
       "\n",
       "    .dataframe thead th {\n",
       "        text-align: right;\n",
       "    }\n",
       "</style>\n",
       "<table border=\"1\" class=\"dataframe\">\n",
       "  <thead>\n",
       "    <tr style=\"text-align: right;\">\n",
       "      <th></th>\n",
       "      <th>0</th>\n",
       "      <th>1</th>\n",
       "      <th>2</th>\n",
       "    </tr>\n",
       "  </thead>\n",
       "  <tbody>\n",
       "    <tr>\n",
       "      <th>num</th>\n",
       "      <td>0.955174</td>\n",
       "      <td>0.286490</td>\n",
       "      <td>0.043507</td>\n",
       "    </tr>\n",
       "    <tr>\n",
       "      <th>car10000_num</th>\n",
       "      <td>0.361798</td>\n",
       "      <td>0.781961</td>\n",
       "      <td>0.057999</td>\n",
       "    </tr>\n",
       "    <tr>\n",
       "      <th>dead</th>\n",
       "      <td>0.338670</td>\n",
       "      <td>-0.204789</td>\n",
       "      <td>0.873152</td>\n",
       "    </tr>\n",
       "    <tr>\n",
       "      <th>dead_per100000</th>\n",
       "      <td>-0.251472</td>\n",
       "      <td>0.245557</td>\n",
       "      <td>0.934067</td>\n",
       "    </tr>\n",
       "    <tr>\n",
       "      <th>injured</th>\n",
       "      <td>0.952744</td>\n",
       "      <td>0.290683</td>\n",
       "      <td>0.034118</td>\n",
       "    </tr>\n",
       "    <tr>\n",
       "      <th>injured_per100000</th>\n",
       "      <td>0.343664</td>\n",
       "      <td>0.940548</td>\n",
       "      <td>-0.012639</td>\n",
       "    </tr>\n",
       "    <tr>\n",
       "      <th>2020교통안전지수</th>\n",
       "      <td>-0.768976</td>\n",
       "      <td>-0.391662</td>\n",
       "      <td>0.003761</td>\n",
       "    </tr>\n",
       "  </tbody>\n",
       "</table>\n",
       "</div>"
      ],
      "text/plain": [
       "                          0         1         2\n",
       "num                0.955174  0.286490  0.043507\n",
       "car10000_num       0.361798  0.781961  0.057999\n",
       "dead               0.338670 -0.204789  0.873152\n",
       "dead_per100000    -0.251472  0.245557  0.934067\n",
       "injured            0.952744  0.290683  0.034118\n",
       "injured_per100000  0.343664  0.940548 -0.012639\n",
       "2020교통안전지수        -0.768976 -0.391662  0.003761"
      ]
     },
     "execution_count": 11,
     "metadata": {},
     "output_type": "execute_result"
    }
   ],
   "source": [
    "fa = FactorAnalyzer(n_factors=3,rotation = \"varimax\")\n",
    "fa.fit(df_safety_test_s)\n",
    "efa_result = pd.DataFrame(fa.loadings_,index = df_safety_test_s.columns)\n",
    "efa_result"
   ]
  },
  {
   "cell_type": "code",
   "execution_count": 12,
   "metadata": {},
   "outputs": [
    {
     "data": {
      "text/plain": [
       "<AxesSubplot: >"
      ]
     },
     "execution_count": 12,
     "metadata": {},
     "output_type": "execute_result"
    },
    {
     "data": {
      "image/png": "[encoded data removed]",
      "text/plain": [
       "<Figure size 400x600 with 2 Axes>"
      ]
     },
     "metadata": {},
     "output_type": "display_data"
    }
   ],
   "source": [
    "plt.figure(figsize = (4,6))\n",
    "sns.heatmap(efa_result,cmap = \"Blues\",annot = True, fmt = '.2f')"
   ]
  },
  {
   "cell_type": "code",
   "execution_count": 13,
   "metadata": {},
   "outputs": [
    {
     "data": {
      "text/html": [
       "<div>\n",
       "<style scoped>\n",
       "    .dataframe tbody tr th:only-of-type {\n",
       "        vertical-align: middle;\n",
       "    }\n",
       "\n",
       "    .dataframe tbody tr th {\n",
       "        vertical-align: top;\n",
       "    }\n",
       "\n",
       "    .dataframe thead th {\n",
       "        text-align: right;\n",
       "    }\n",
       "</style>\n",
       "<table border=\"1\" class=\"dataframe\">\n",
       "  <thead>\n",
       "    <tr style=\"text-align: right;\">\n",
       "      <th></th>\n",
       "      <th>0</th>\n",
       "      <th>1</th>\n",
       "      <th>2</th>\n",
       "      <th>mean</th>\n",
       "    </tr>\n",
       "  </thead>\n",
       "  <tbody>\n",
       "    <tr>\n",
       "      <th>num</th>\n",
       "      <td>0.955174</td>\n",
       "      <td>0.286490</td>\n",
       "      <td>0.043507</td>\n",
       "      <td>0.428390</td>\n",
       "    </tr>\n",
       "    <tr>\n",
       "      <th>car10000_num</th>\n",
       "      <td>0.361798</td>\n",
       "      <td>0.781961</td>\n",
       "      <td>0.057999</td>\n",
       "      <td>0.400586</td>\n",
       "    </tr>\n",
       "    <tr>\n",
       "      <th>dead</th>\n",
       "      <td>0.338670</td>\n",
       "      <td>-0.204789</td>\n",
       "      <td>0.873152</td>\n",
       "      <td>0.335678</td>\n",
       "    </tr>\n",
       "    <tr>\n",
       "      <th>dead_per100000</th>\n",
       "      <td>-0.251472</td>\n",
       "      <td>0.245557</td>\n",
       "      <td>0.934067</td>\n",
       "      <td>0.309384</td>\n",
       "    </tr>\n",
       "    <tr>\n",
       "      <th>injured</th>\n",
       "      <td>0.952744</td>\n",
       "      <td>0.290683</td>\n",
       "      <td>0.034118</td>\n",
       "      <td>0.425848</td>\n",
       "    </tr>\n",
       "    <tr>\n",
       "      <th>injured_per100000</th>\n",
       "      <td>0.343664</td>\n",
       "      <td>0.940548</td>\n",
       "      <td>-0.012639</td>\n",
       "      <td>0.423858</td>\n",
       "    </tr>\n",
       "    <tr>\n",
       "      <th>2020교통안전지수</th>\n",
       "      <td>-0.768976</td>\n",
       "      <td>-0.391662</td>\n",
       "      <td>0.003761</td>\n",
       "      <td>-0.385626</td>\n",
       "    </tr>\n",
       "  </tbody>\n",
       "</table>\n",
       "</div>"
      ],
      "text/plain": [
       "                          0         1         2      mean\n",
       "num                0.955174  0.286490  0.043507  0.428390\n",
       "car10000_num       0.361798  0.781961  0.057999  0.400586\n",
       "dead               0.338670 -0.204789  0.873152  0.335678\n",
       "dead_per100000    -0.251472  0.245557  0.934067  0.309384\n",
       "injured            0.952744  0.290683  0.034118  0.425848\n",
       "injured_per100000  0.343664  0.940548 -0.012639  0.423858\n",
       "2020교통안전지수        -0.768976 -0.391662  0.003761 -0.385626"
      ]
     },
     "execution_count": 13,
     "metadata": {},
     "output_type": "execute_result"
    }
   ],
   "source": [
    "efa_result['mean'] = (efa_result[0] +efa_result[1] +efa_result[2])/3\n",
    "efa_result"
   ]
  },
  {
   "cell_type": "code",
   "execution_count": 15,
   "metadata": {},
   "outputs": [
    {
     "name": "stdout",
     "output_type": "stream",
     "text": [
      "가중치_안전성\n",
      "1위 발생건수_num: 0.18\n",
      "2위 부상자수_injured: 0.18\n",
      "3위 10만명당 부상자수_injured_per100000: 0.18\n",
      "4위 차 1만대당 발생건수_car10000_num: 0.17\n",
      "5위 사망자_dead: 0.14\n",
      "6위 10만명당 사망자수_dead_per100000: 0.13\n"
     ]
    }
   ],
   "source": [
    "print('가중치_안전성')\n",
    "print('1위 발생건수_num:',round(0.428390/(0.428390+0.400586+0.335678+0.309384+0.425848+0.423858),2))\n",
    "print('2위 부상자수_injured:',round(0.425848/(0.428390+0.400586+0.335678+0.309384+0.425848+0.423858),2))\n",
    "print('3위 10만명당 부상자수_injured_per100000:',round(0.423858/(0.428390+0.400586+0.335678+0.309384+0.425848+0.423858),2))\n",
    "print('4위 차 1만대당 발생건수_car10000_num:',round(0.400586/(0.428390+0.400586+0.335678+0.309384+0.425848+0.423858),2))\n",
    "print('5위 사망자_dead:',round(0.335678/(0.428390+0.400586+0.335678+0.309384+0.425848+0.423858),2))\n",
    "print('6위 10만명당 사망자수_dead_per100000:',round(0.309384/(0.428390+0.400586+0.335678+0.309384+0.425848+0.423858),2))\n",
    "\n"
   ]
  },
  {
   "cell_type": "markdown",
   "metadata": {},
   "source": [
    "### 1-3. 안전성_최종지표_구_동"
   ]
  },
  {
   "cell_type": "markdown",
   "metadata": {},
   "source": [
    "* 가중치_안전성\n",
    "  * 1위 발생건수_num: 0.18\n",
    "  * 2위 부상자수_injured: 0.18\n",
    "  * 3위 10만명당 부상자수_injured_per100000: 0.18\n",
    "  * 4위 차 1만대당 발생건수_car10000_num: 0.17\n",
    "  * 5위 사망자_dead: 0.14\n",
    "  * 6위 10만명당 사망자수_dead_per100000: 0.13"
   ]
  },
  {
   "cell_type": "code",
   "execution_count": 48,
   "metadata": {},
   "outputs": [
    {
     "data": {
      "text/html": [
       "<div>\n",
       "<style scoped>\n",
       "    .dataframe tbody tr th:only-of-type {\n",
       "        vertical-align: middle;\n",
       "    }\n",
       "\n",
       "    .dataframe tbody tr th {\n",
       "        vertical-align: top;\n",
       "    }\n",
       "\n",
       "    .dataframe thead th {\n",
       "        text-align: right;\n",
       "    }\n",
       "</style>\n",
       "<table border=\"1\" class=\"dataframe\">\n",
       "  <thead>\n",
       "    <tr style=\"text-align: right;\">\n",
       "      <th></th>\n",
       "      <th>자치구명</th>\n",
       "      <th>num</th>\n",
       "      <th>car10000_num</th>\n",
       "      <th>dead</th>\n",
       "      <th>dead_per100000</th>\n",
       "      <th>injured</th>\n",
       "      <th>injured_per100000</th>\n",
       "      <th>2020교통안전지수</th>\n",
       "      <th>불안전성지표</th>\n",
       "    </tr>\n",
       "  </thead>\n",
       "  <tbody>\n",
       "    <tr>\n",
       "      <th>22</th>\n",
       "      <td>강남구</td>\n",
       "      <td>1.000000</td>\n",
       "      <td>1.000000</td>\n",
       "      <td>0.500000</td>\n",
       "      <td>0.178571</td>\n",
       "      <td>1.000000</td>\n",
       "      <td>1.000000</td>\n",
       "      <td>0.000000</td>\n",
       "      <td>0.803214</td>\n",
       "    </tr>\n",
       "    <tr>\n",
       "      <th>18</th>\n",
       "      <td>영등포구</td>\n",
       "      <td>0.491483</td>\n",
       "      <td>0.822105</td>\n",
       "      <td>0.857143</td>\n",
       "      <td>0.500000</td>\n",
       "      <td>0.498979</td>\n",
       "      <td>0.692158</td>\n",
       "      <td>0.497416</td>\n",
       "      <td>0.627630</td>\n",
       "    </tr>\n",
       "    <tr>\n",
       "      <th>23</th>\n",
       "      <td>송파구</td>\n",
       "      <td>0.624342</td>\n",
       "      <td>0.457895</td>\n",
       "      <td>0.785714</td>\n",
       "      <td>0.214286</td>\n",
       "      <td>0.621965</td>\n",
       "      <td>0.399002</td>\n",
       "      <td>0.394057</td>\n",
       "      <td>0.511855</td>\n",
       "    </tr>\n",
       "    <tr>\n",
       "      <th>5</th>\n",
       "      <td>동대문구</td>\n",
       "      <td>0.247445</td>\n",
       "      <td>0.624211</td>\n",
       "      <td>1.000000</td>\n",
       "      <td>0.696429</td>\n",
       "      <td>0.201498</td>\n",
       "      <td>0.318509</td>\n",
       "      <td>0.616925</td>\n",
       "      <td>0.474793</td>\n",
       "    </tr>\n",
       "    <tr>\n",
       "      <th>21</th>\n",
       "      <td>서초구</td>\n",
       "      <td>0.472902</td>\n",
       "      <td>0.611579</td>\n",
       "      <td>0.357143</td>\n",
       "      <td>0.178571</td>\n",
       "      <td>0.491037</td>\n",
       "      <td>0.642837</td>\n",
       "      <td>0.618863</td>\n",
       "      <td>0.466402</td>\n",
       "    </tr>\n",
       "  </tbody>\n",
       "</table>\n",
       "</div>"
      ],
      "text/plain": [
       "    자치구명       num  car10000_num      dead  dead_per100000   injured  \\\n",
       "22   강남구  1.000000      1.000000  0.500000        0.178571  1.000000   \n",
       "18  영등포구  0.491483      0.822105  0.857143        0.500000  0.498979   \n",
       "23   송파구  0.624342      0.457895  0.785714        0.214286  0.621965   \n",
       "5   동대문구  0.247445      0.624211  1.000000        0.696429  0.201498   \n",
       "21   서초구  0.472902      0.611579  0.357143        0.178571  0.491037   \n",
       "\n",
       "    injured_per100000  2020교통안전지수    불안전성지표  \n",
       "22           1.000000    0.000000  0.803214  \n",
       "18           0.692158    0.497416  0.627630  \n",
       "23           0.399002    0.394057  0.511855  \n",
       "5            0.318509    0.616925  0.474793  \n",
       "21           0.642837    0.618863  0.466402  "
      ]
     },
     "execution_count": 48,
     "metadata": {},
     "output_type": "execute_result"
    }
   ],
   "source": [
    "safety_final = pd.concat([df_safety['Gu'], df_safety_test_s],axis = 1)\n",
    "safety_final['불안전성지표'] = (safety_final['num']*0.18 + safety_final['injured']*0.18 \n",
    "                             + safety_final['injured_per100000']*0.18 + safety_final['car10000_num']*0.17\n",
    "                             +safety_final['dead']*0.14 + safety_final['dead_per100000']*0.13)\n",
    "safety_final= safety_final.sort_values(by = ['불안전성지표'],ascending = False)\n",
    "safety_final.rename(columns = {'Gu':'자치구명'},inplace=True)\n",
    "safety_final.head()\n"
   ]
  },
  {
   "cell_type": "code",
   "execution_count": 20,
   "metadata": {},
   "outputs": [
    {
     "data": {
      "text/html": [
       "<div>\n",
       "<style scoped>\n",
       "    .dataframe tbody tr th:only-of-type {\n",
       "        vertical-align: middle;\n",
       "    }\n",
       "\n",
       "    .dataframe tbody tr th {\n",
       "        vertical-align: top;\n",
       "    }\n",
       "\n",
       "    .dataframe thead th {\n",
       "        text-align: right;\n",
       "    }\n",
       "</style>\n",
       "<table border=\"1\" class=\"dataframe\">\n",
       "  <thead>\n",
       "    <tr style=\"text-align: right;\">\n",
       "      <th></th>\n",
       "      <th>Unnamed: 0</th>\n",
       "      <th>자치구명</th>\n",
       "      <th>행정구역명</th>\n",
       "      <th>행정동</th>\n",
       "      <th>법정동</th>\n",
       "      <th>행정구역분류</th>\n",
       "    </tr>\n",
       "  </thead>\n",
       "  <tbody>\n",
       "    <tr>\n",
       "      <th>0</th>\n",
       "      <td>2</td>\n",
       "      <td>종로구</td>\n",
       "      <td>청운효자동</td>\n",
       "      <td>청운효자동</td>\n",
       "      <td>청운동</td>\n",
       "      <td>1101072</td>\n",
       "    </tr>\n",
       "    <tr>\n",
       "      <th>1</th>\n",
       "      <td>3</td>\n",
       "      <td>종로구</td>\n",
       "      <td>청운효자동</td>\n",
       "      <td>청운효자동</td>\n",
       "      <td>신교동</td>\n",
       "      <td>1101072</td>\n",
       "    </tr>\n",
       "    <tr>\n",
       "      <th>2</th>\n",
       "      <td>4</td>\n",
       "      <td>종로구</td>\n",
       "      <td>청운효자동</td>\n",
       "      <td>청운효자동</td>\n",
       "      <td>궁정동</td>\n",
       "      <td>1101072</td>\n",
       "    </tr>\n",
       "    <tr>\n",
       "      <th>3</th>\n",
       "      <td>5</td>\n",
       "      <td>종로구</td>\n",
       "      <td>청운효자동</td>\n",
       "      <td>청운효자동</td>\n",
       "      <td>효자동</td>\n",
       "      <td>1101072</td>\n",
       "    </tr>\n",
       "    <tr>\n",
       "      <th>4</th>\n",
       "      <td>6</td>\n",
       "      <td>종로구</td>\n",
       "      <td>청운효자동</td>\n",
       "      <td>청운효자동</td>\n",
       "      <td>창성동</td>\n",
       "      <td>1101072</td>\n",
       "    </tr>\n",
       "  </tbody>\n",
       "</table>\n",
       "</div>"
      ],
      "text/plain": [
       "   Unnamed: 0 자치구명  행정구역명    행정동  법정동   행정구역분류\n",
       "0           2  종로구  청운효자동  청운효자동  청운동  1101072\n",
       "1           3  종로구  청운효자동  청운효자동  신교동  1101072\n",
       "2           4  종로구  청운효자동  청운효자동  궁정동  1101072\n",
       "3           5  종로구  청운효자동  청운효자동  효자동  1101072\n",
       "4           6  종로구  청운효자동  청운효자동  창성동  1101072"
      ]
     },
     "execution_count": 20,
     "metadata": {},
     "output_type": "execute_result"
    }
   ],
   "source": [
    "df_dong = pd.read_csv('data/행정구역전처리.csv')\n",
    "df_dong.head()"
   ]
  },
  {
   "cell_type": "code",
   "execution_count": 77,
   "metadata": {},
   "outputs": [
    {
     "name": "stdout",
     "output_type": "stream",
     "text": [
      "    자치구명   행정동    불안전성지표\n",
      "662  강남구   신사동  0.803214\n",
      "669  강남구  삼성2동  0.803214\n",
      "676  강남구  도곡2동  0.803214\n",
      "675  강남구  도곡1동  0.803214\n",
      "674  강남구  역삼2동  0.803214\n",
      "(741, 3)\n",
      "    자치구명   행정동    불안전성지표\n",
      "662  강남구   신사동  0.803214\n",
      "669  강남구  삼성2동  0.803214\n",
      "676  강남구  도곡2동  0.803214\n",
      "675  강남구  도곡1동  0.803214\n",
      "674  강남구  역삼2동  0.803214\n",
      "(426, 3)\n"
     ]
    }
   ],
   "source": [
    "safety_dong = pd.merge(df_dong,safety_final)\n",
    "safety_dong = safety_dong.drop(['Unnamed: 0','법정동','행정구역분류',\n",
    "                                'num','car10000_num','dead','dead_per100000',\n",
    "                                'injured','injured_per100000','2020교통안전지수','행정구역명'],axis=1)\n",
    "safety_dong= safety_dong.sort_values(by = ['불안전성지표'],ascending = False)\n",
    "print(safety_dong.head())\n",
    "print(safety_dong.shape)\n",
    "safety_dong= safety_dong.drop_duplicates()\n",
    "print(safety_dong.head())\n",
    "print(safety_dong.shape)"
   ]
  },
  {
   "cell_type": "code",
   "execution_count": 59,
   "metadata": {},
   "outputs": [
    {
     "name": "stdout",
     "output_type": "stream",
     "text": [
      "425\n",
      "25\n",
      "25\n"
     ]
    }
   ],
   "source": [
    "print(safety_dong['행정동'].nunique())\n",
    "print(safety_dong['불안전성지표'].nunique())\n",
    "print(safety_dong['자치구명'].nunique())"
   ]
  },
  {
   "cell_type": "code",
   "execution_count": 60,
   "metadata": {},
   "outputs": [],
   "source": [
    "safety_dong.to_csv('[221025]safety_dong.csv')"
   ]
  },
  {
   "cell_type": "markdown",
   "metadata": {},
   "source": [
    "## 2. 상업지역"
   ]
  },
  {
   "cell_type": "markdown",
   "metadata": {},
   "source": [
    "### 2-1. 데이터 전처리"
   ]
  },
  {
   "cell_type": "code",
   "execution_count": 2,
   "metadata": {},
   "outputs": [],
   "source": [
    "d1 = pd.read_csv('data/B058. 서울시 행정동단위 분기별 추정매출액/2. 파일데이터/2018/TBDM_BLCK_SELNG_QU_2018_4분기.txt',delimiter = '|')\n",
    "d2 = pd.read_csv('data/B058. 서울시 행정동단위 분기별 추정매출액/2. 파일데이터/2019/TBDM_BLCK_SELNG_QU_2019_1분기.txt',delimiter = '|')  \n",
    "d3 = pd.read_csv('data/B058. 서울시 행정동단위 분기별 추정매출액/2. 파일데이터/2019/TBDM_BLCK_SELNG_QU_2019_2분기.txt',delimiter = '|') \n",
    "d4 = pd.read_csv('data/B058. 서울시 행정동단위 분기별 추정매출액/2. 파일데이터/2019/TBDM_BLCK_SELNG_QU_2019_3분기.txt',delimiter = '|') "
   ]
  },
  {
   "cell_type": "code",
   "execution_count": 3,
   "metadata": {},
   "outputs": [
    {
     "data": {
      "text/html": [
       "<div>\n",
       "<style scoped>\n",
       "    .dataframe tbody tr th:only-of-type {\n",
       "        vertical-align: middle;\n",
       "    }\n",
       "\n",
       "    .dataframe tbody tr th {\n",
       "        vertical-align: top;\n",
       "    }\n",
       "\n",
       "    .dataframe thead th {\n",
       "        text-align: right;\n",
       "    }\n",
       "</style>\n",
       "<table border=\"1\" class=\"dataframe\">\n",
       "  <thead>\n",
       "    <tr style=\"text-align: right;\">\n",
       "      <th></th>\n",
       "      <th>ADSTRD_NM</th>\n",
       "      <th>서울_운영_영업_개월_평균</th>\n",
       "      <th>서울_폐업_영업_개월_평균</th>\n",
       "      <th>운영_영업_개월_평균</th>\n",
       "      <th>폐업_영업_개월_평균</th>\n",
       "    </tr>\n",
       "  </thead>\n",
       "  <tbody>\n",
       "    <tr>\n",
       "      <th>0</th>\n",
       "      <td>가락1동</td>\n",
       "      <td>116.5</td>\n",
       "      <td>54.75</td>\n",
       "      <td>178.00</td>\n",
       "      <td>151.00</td>\n",
       "    </tr>\n",
       "    <tr>\n",
       "      <th>1</th>\n",
       "      <td>가락2동</td>\n",
       "      <td>116.5</td>\n",
       "      <td>54.75</td>\n",
       "      <td>118.75</td>\n",
       "      <td>52.00</td>\n",
       "    </tr>\n",
       "    <tr>\n",
       "      <th>2</th>\n",
       "      <td>가락본동</td>\n",
       "      <td>116.5</td>\n",
       "      <td>54.75</td>\n",
       "      <td>114.25</td>\n",
       "      <td>49.00</td>\n",
       "    </tr>\n",
       "    <tr>\n",
       "      <th>3</th>\n",
       "      <td>가리봉동</td>\n",
       "      <td>116.5</td>\n",
       "      <td>54.75</td>\n",
       "      <td>126.75</td>\n",
       "      <td>53.50</td>\n",
       "    </tr>\n",
       "    <tr>\n",
       "      <th>4</th>\n",
       "      <td>가산동</td>\n",
       "      <td>116.5</td>\n",
       "      <td>54.75</td>\n",
       "      <td>98.00</td>\n",
       "      <td>49.25</td>\n",
       "    </tr>\n",
       "  </tbody>\n",
       "</table>\n",
       "</div>"
      ],
      "text/plain": [
       "  ADSTRD_NM  서울_운영_영업_개월_평균  서울_폐업_영업_개월_평균  운영_영업_개월_평균  폐업_영업_개월_평균\n",
       "0      가락1동           116.5           54.75       178.00       151.00\n",
       "1      가락2동           116.5           54.75       118.75        52.00\n",
       "2      가락본동           116.5           54.75       114.25        49.00\n",
       "3      가리봉동           116.5           54.75       126.75        53.50\n",
       "4       가산동           116.5           54.75        98.00        49.25"
      ]
     },
     "execution_count": 3,
     "metadata": {},
     "output_type": "execute_result"
    }
   ],
   "source": [
    "d5 = pd.read_csv('data/서울시 우리마을가게 상권분석서비스(행정동별 상권변화지표).csv',encoding='cp949')\n",
    "d5.rename(columns = {'행정동_코드_명':'ADSTRD_NM'},inplace=True)\n",
    "d5=d5.pivot_table(values = ['운영_영업_개월_평균','폐업_영업_개월_평균','서울_운영_영업_개월_평균','서울_폐업_영업_개월_평균'],index = ['ADSTRD_NM'],aggfunc=\"mean\")\n",
    "d5 = d5.reset_index()\n",
    "d5.head()\n",
    "#2021 data"
   ]
  },
  {
   "cell_type": "code",
   "execution_count": 4,
   "metadata": {},
   "outputs": [
    {
     "data": {
      "text/html": [
       "<div>\n",
       "<style scoped>\n",
       "    .dataframe tbody tr th:only-of-type {\n",
       "        vertical-align: middle;\n",
       "    }\n",
       "\n",
       "    .dataframe tbody tr th {\n",
       "        vertical-align: top;\n",
       "    }\n",
       "\n",
       "    .dataframe thead th {\n",
       "        text-align: right;\n",
       "    }\n",
       "</style>\n",
       "<table border=\"1\" class=\"dataframe\">\n",
       "  <thead>\n",
       "    <tr style=\"text-align: right;\">\n",
       "      <th></th>\n",
       "      <th>ADSTRD_NM</th>\n",
       "      <th>SUM_SELNG_AMT</th>\n",
       "      <th>SUM_SELNG_CO</th>\n",
       "    </tr>\n",
       "  </thead>\n",
       "  <tbody>\n",
       "    <tr>\n",
       "      <th>0</th>\n",
       "      <td>가락1동</td>\n",
       "      <td>250239049096</td>\n",
       "      <td>6632777</td>\n",
       "    </tr>\n",
       "    <tr>\n",
       "      <th>1</th>\n",
       "      <td>가락2동</td>\n",
       "      <td>233581351355</td>\n",
       "      <td>10922847</td>\n",
       "    </tr>\n",
       "    <tr>\n",
       "      <th>2</th>\n",
       "      <td>가락본동</td>\n",
       "      <td>295067067226</td>\n",
       "      <td>15633802</td>\n",
       "    </tr>\n",
       "    <tr>\n",
       "      <th>3</th>\n",
       "      <td>가리봉동</td>\n",
       "      <td>80613761036</td>\n",
       "      <td>5472862</td>\n",
       "    </tr>\n",
       "    <tr>\n",
       "      <th>4</th>\n",
       "      <td>가산동</td>\n",
       "      <td>779453179401</td>\n",
       "      <td>44222847</td>\n",
       "    </tr>\n",
       "  </tbody>\n",
       "</table>\n",
       "</div>"
      ],
      "text/plain": [
       "  ADSTRD_NM  SUM_SELNG_AMT  SUM_SELNG_CO\n",
       "0      가락1동   250239049096       6632777\n",
       "1      가락2동   233581351355      10922847\n",
       "2      가락본동   295067067226      15633802\n",
       "3      가리봉동    80613761036       5472862\n",
       "4       가산동   779453179401      44222847"
      ]
     },
     "execution_count": 4,
     "metadata": {},
     "output_type": "execute_result"
    }
   ],
   "source": [
    "df_commercial = pd.concat([d1,d2,d3,d4], axis = 0) \n",
    "df_commercial=df_commercial.pivot_table(values = ['SUM_SELNG_AMT','SUM_SELNG_CO'],index = ['ADSTRD_NM'],aggfunc=\"sum\")\n",
    "df_commercial = df_commercial.reset_index()\n",
    "df_commercial.head()\n",
    "#최종 데이터 df_commercial"
   ]
  },
  {
   "cell_type": "code",
   "execution_count": 5,
   "metadata": {},
   "outputs": [
    {
     "data": {
      "text/html": [
       "<div>\n",
       "<style scoped>\n",
       "    .dataframe tbody tr th:only-of-type {\n",
       "        vertical-align: middle;\n",
       "    }\n",
       "\n",
       "    .dataframe tbody tr th {\n",
       "        vertical-align: top;\n",
       "    }\n",
       "\n",
       "    .dataframe thead th {\n",
       "        text-align: right;\n",
       "    }\n",
       "</style>\n",
       "<table border=\"1\" class=\"dataframe\">\n",
       "  <thead>\n",
       "    <tr style=\"text-align: right;\">\n",
       "      <th></th>\n",
       "      <th>ADSTRD_NM</th>\n",
       "      <th>SUM_SELNG_AMT</th>\n",
       "      <th>SUM_SELNG_CO</th>\n",
       "      <th>운영_영업_개월_평균</th>\n",
       "      <th>폐업_영업_개월_평균</th>\n",
       "    </tr>\n",
       "  </thead>\n",
       "  <tbody>\n",
       "    <tr>\n",
       "      <th>0</th>\n",
       "      <td>가락1동</td>\n",
       "      <td>250239049096</td>\n",
       "      <td>6632777</td>\n",
       "      <td>178.00</td>\n",
       "      <td>151.00</td>\n",
       "    </tr>\n",
       "    <tr>\n",
       "      <th>1</th>\n",
       "      <td>가락2동</td>\n",
       "      <td>233581351355</td>\n",
       "      <td>10922847</td>\n",
       "      <td>118.75</td>\n",
       "      <td>52.00</td>\n",
       "    </tr>\n",
       "    <tr>\n",
       "      <th>2</th>\n",
       "      <td>가락본동</td>\n",
       "      <td>295067067226</td>\n",
       "      <td>15633802</td>\n",
       "      <td>114.25</td>\n",
       "      <td>49.00</td>\n",
       "    </tr>\n",
       "    <tr>\n",
       "      <th>3</th>\n",
       "      <td>가리봉동</td>\n",
       "      <td>80613761036</td>\n",
       "      <td>5472862</td>\n",
       "      <td>126.75</td>\n",
       "      <td>53.50</td>\n",
       "    </tr>\n",
       "    <tr>\n",
       "      <th>4</th>\n",
       "      <td>가산동</td>\n",
       "      <td>779453179401</td>\n",
       "      <td>44222847</td>\n",
       "      <td>98.00</td>\n",
       "      <td>49.25</td>\n",
       "    </tr>\n",
       "  </tbody>\n",
       "</table>\n",
       "</div>"
      ],
      "text/plain": [
       "  ADSTRD_NM  SUM_SELNG_AMT  SUM_SELNG_CO  운영_영업_개월_평균  폐업_영업_개월_평균\n",
       "0      가락1동   250239049096       6632777       178.00       151.00\n",
       "1      가락2동   233581351355      10922847       118.75        52.00\n",
       "2      가락본동   295067067226      15633802       114.25        49.00\n",
       "3      가리봉동    80613761036       5472862       126.75        53.50\n",
       "4       가산동   779453179401      44222847        98.00        49.25"
      ]
     },
     "execution_count": 5,
     "metadata": {},
     "output_type": "execute_result"
    }
   ],
   "source": [
    "#행정동기준으로 merge, concat\n",
    "df_commercial = pd.merge(df_commercial,d5)\n",
    "df_commercial = df_commercial.drop(['서울_운영_영업_개월_평균','서울_폐업_영업_개월_평균'],axis=1)\n",
    "df_commercial .head()"
   ]
  },
  {
   "cell_type": "markdown",
   "metadata": {},
   "source": [
    "### 2-2. 상업지역_탐색적요인분석"
   ]
  },
  {
   "cell_type": "code",
   "execution_count": 34,
   "metadata": {},
   "outputs": [
    {
     "data": {
      "text/html": [
       "<div>\n",
       "<style scoped>\n",
       "    .dataframe tbody tr th:only-of-type {\n",
       "        vertical-align: middle;\n",
       "    }\n",
       "\n",
       "    .dataframe tbody tr th {\n",
       "        vertical-align: top;\n",
       "    }\n",
       "\n",
       "    .dataframe thead th {\n",
       "        text-align: right;\n",
       "    }\n",
       "</style>\n",
       "<table border=\"1\" class=\"dataframe\">\n",
       "  <thead>\n",
       "    <tr style=\"text-align: right;\">\n",
       "      <th></th>\n",
       "      <th>SUM_SELNG_AMT</th>\n",
       "      <th>SUM_SELNG_CO</th>\n",
       "      <th>운영_영업_개월_평균</th>\n",
       "      <th>폐업_영업_개월_평균</th>\n",
       "    </tr>\n",
       "  </thead>\n",
       "  <tbody>\n",
       "    <tr>\n",
       "      <th>0</th>\n",
       "      <td>0.135054</td>\n",
       "      <td>0.065196</td>\n",
       "      <td>1.000000</td>\n",
       "      <td>1.000000</td>\n",
       "    </tr>\n",
       "    <tr>\n",
       "      <th>1</th>\n",
       "      <td>0.125953</td>\n",
       "      <td>0.108255</td>\n",
       "      <td>0.574506</td>\n",
       "      <td>0.200000</td>\n",
       "    </tr>\n",
       "    <tr>\n",
       "      <th>2</th>\n",
       "      <td>0.159545</td>\n",
       "      <td>0.155539</td>\n",
       "      <td>0.542190</td>\n",
       "      <td>0.175758</td>\n",
       "    </tr>\n",
       "    <tr>\n",
       "      <th>3</th>\n",
       "      <td>0.042382</td>\n",
       "      <td>0.053554</td>\n",
       "      <td>0.631957</td>\n",
       "      <td>0.212121</td>\n",
       "    </tr>\n",
       "    <tr>\n",
       "      <th>4</th>\n",
       "      <td>0.424181</td>\n",
       "      <td>0.442487</td>\n",
       "      <td>0.425494</td>\n",
       "      <td>0.177778</td>\n",
       "    </tr>\n",
       "  </tbody>\n",
       "</table>\n",
       "</div>"
      ],
      "text/plain": [
       "   SUM_SELNG_AMT  SUM_SELNG_CO  운영_영업_개월_평균  폐업_영업_개월_평균\n",
       "0       0.135054      0.065196     1.000000     1.000000\n",
       "1       0.125953      0.108255     0.574506     0.200000\n",
       "2       0.159545      0.155539     0.542190     0.175758\n",
       "3       0.042382      0.053554     0.631957     0.212121\n",
       "4       0.424181      0.442487     0.425494     0.177778"
      ]
     },
     "execution_count": 34,
     "metadata": {},
     "output_type": "execute_result"
    }
   ],
   "source": [
    "from sklearn.preprocessing import MinMaxScaler\n",
    "min_max_scaler = MinMaxScaler()\n",
    "fitted = min_max_scaler.fit(df_commercial.drop(['ADSTRD_NM'],axis = 1))\n",
    "df_commercial_s = min_max_scaler.transform(df_commercial.drop(['ADSTRD_NM'],axis = 1))\n",
    "df_commercial_s = pd.DataFrame(df_commercial_s, columns=(df_commercial.drop(['ADSTRD_NM'],axis = 1)).columns, index=list(df_commercial.drop(['ADSTRD_NM'],axis = 1).index.values))\n",
    "df_commercial_s.head()"
   ]
  },
  {
   "cell_type": "code",
   "execution_count": 35,
   "metadata": {},
   "outputs": [
    {
     "data": {
      "text/plain": [
       "(1172.438079729501, 4.4144573079029833e-250)"
      ]
     },
     "execution_count": 35,
     "metadata": {},
     "output_type": "execute_result"
    }
   ],
   "source": [
    "# Bartlett test\n",
    "from factor_analyzer.factor_analyzer import calculate_bartlett_sphericity\n",
    "chi_square_value, p_value = calculate_bartlett_sphericity(df_commercial_s)\n",
    "chi_square_value, p_value "
   ]
  },
  {
   "cell_type": "code",
   "execution_count": 36,
   "metadata": {},
   "outputs": [
    {
     "data": {
      "text/plain": [
       "0.5009854666045733"
      ]
     },
     "execution_count": 36,
     "metadata": {},
     "output_type": "execute_result"
    }
   ],
   "source": [
    "#KMO검정\n",
    "from factor_analyzer.factor_analyzer import calculate_kmo\n",
    "kmo_all,kmo_model = calculate_kmo(df_commercial_s)\n",
    "kmo_model"
   ]
  },
  {
   "cell_type": "code",
   "execution_count": 37,
   "metadata": {},
   "outputs": [
    {
     "data": {
      "text/plain": [
       "array([1.9730719 , 1.63551001, 0.33469938, 0.0567187 ])"
      ]
     },
     "execution_count": 37,
     "metadata": {},
     "output_type": "execute_result"
    }
   ],
   "source": [
    "from factor_analyzer import FactorAnalyzer\n",
    "fa = FactorAnalyzer(n_factors = 10, rotation = None)\n",
    "fa.fit(df_commercial_s)\n",
    "ev,v = fa.get_eigenvalues()\n",
    "ev"
   ]
  },
  {
   "cell_type": "code",
   "execution_count": 38,
   "metadata": {},
   "outputs": [
    {
     "data": {
      "image/png": "[encoded data removed]",
      "text/plain": [
       "<Figure size 640x480 with 1 Axes>"
      ]
     },
     "metadata": {},
     "output_type": "display_data"
    }
   ],
   "source": [
    "plt.scatter(range(1,df_commercial_s.shape[1]+1),ev)\n",
    "plt.plot(range(1,df_commercial_s.shape[1]+1),ev)\n",
    "plt.title('Scree Plot')\n",
    "plt.xlabel('Factors')\n",
    "plt.ylabel('Eigenvalue')\n",
    "plt.grid()\n",
    "plt.show()\n",
    "#2"
   ]
  },
  {
   "cell_type": "code",
   "execution_count": 39,
   "metadata": {},
   "outputs": [
    {
     "data": {
      "text/html": [
       "<div>\n",
       "<style scoped>\n",
       "    .dataframe tbody tr th:only-of-type {\n",
       "        vertical-align: middle;\n",
       "    }\n",
       "\n",
       "    .dataframe tbody tr th {\n",
       "        vertical-align: top;\n",
       "    }\n",
       "\n",
       "    .dataframe thead th {\n",
       "        text-align: right;\n",
       "    }\n",
       "</style>\n",
       "<table border=\"1\" class=\"dataframe\">\n",
       "  <thead>\n",
       "    <tr style=\"text-align: right;\">\n",
       "      <th></th>\n",
       "      <th>0</th>\n",
       "      <th>1</th>\n",
       "    </tr>\n",
       "  </thead>\n",
       "  <tbody>\n",
       "    <tr>\n",
       "      <th>SUM_SELNG_AMT</th>\n",
       "      <td>0.997306</td>\n",
       "      <td>0.009675</td>\n",
       "    </tr>\n",
       "    <tr>\n",
       "      <th>SUM_SELNG_CO</th>\n",
       "      <td>0.944746</td>\n",
       "      <td>-0.041459</td>\n",
       "    </tr>\n",
       "    <tr>\n",
       "      <th>운영_영업_개월_평균</th>\n",
       "      <td>0.009848</td>\n",
       "      <td>0.837641</td>\n",
       "    </tr>\n",
       "    <tr>\n",
       "      <th>폐업_영업_개월_평균</th>\n",
       "      <td>-0.076858</td>\n",
       "      <td>0.790903</td>\n",
       "    </tr>\n",
       "  </tbody>\n",
       "</table>\n",
       "</div>"
      ],
      "text/plain": [
       "                      0         1\n",
       "SUM_SELNG_AMT  0.997306  0.009675\n",
       "SUM_SELNG_CO   0.944746 -0.041459\n",
       "운영_영업_개월_평균    0.009848  0.837641\n",
       "폐업_영업_개월_평균   -0.076858  0.790903"
      ]
     },
     "execution_count": 39,
     "metadata": {},
     "output_type": "execute_result"
    }
   ],
   "source": [
    "fa = FactorAnalyzer(n_factors=2,rotation = \"varimax\")\n",
    "fa.fit(df_commercial_s)\n",
    "efa_result = pd.DataFrame(fa.loadings_,index = df_commercial_s .columns)\n",
    "efa_result"
   ]
  },
  {
   "cell_type": "code",
   "execution_count": 40,
   "metadata": {},
   "outputs": [
    {
     "data": {
      "text/plain": [
       "<AxesSubplot: >"
      ]
     },
     "execution_count": 40,
     "metadata": {},
     "output_type": "execute_result"
    },
    {
     "data": {
      "image/png": "[encoded data removed]",
      "text/plain": [
       "<Figure size 300x400 with 2 Axes>"
      ]
     },
     "metadata": {},
     "output_type": "display_data"
    }
   ],
   "source": [
    "plt.figure(figsize = (3,4))\n",
    "sns.heatmap(efa_result,cmap = \"Blues\",annot = True, fmt = '.2f')"
   ]
  },
  {
   "cell_type": "code",
   "execution_count": 41,
   "metadata": {},
   "outputs": [
    {
     "data": {
      "text/html": [
       "<div>\n",
       "<style scoped>\n",
       "    .dataframe tbody tr th:only-of-type {\n",
       "        vertical-align: middle;\n",
       "    }\n",
       "\n",
       "    .dataframe tbody tr th {\n",
       "        vertical-align: top;\n",
       "    }\n",
       "\n",
       "    .dataframe thead th {\n",
       "        text-align: right;\n",
       "    }\n",
       "</style>\n",
       "<table border=\"1\" class=\"dataframe\">\n",
       "  <thead>\n",
       "    <tr style=\"text-align: right;\">\n",
       "      <th></th>\n",
       "      <th>0</th>\n",
       "      <th>1</th>\n",
       "      <th>mean</th>\n",
       "    </tr>\n",
       "  </thead>\n",
       "  <tbody>\n",
       "    <tr>\n",
       "      <th>SUM_SELNG_AMT</th>\n",
       "      <td>0.997306</td>\n",
       "      <td>0.009675</td>\n",
       "      <td>0.503491</td>\n",
       "    </tr>\n",
       "    <tr>\n",
       "      <th>SUM_SELNG_CO</th>\n",
       "      <td>0.944746</td>\n",
       "      <td>-0.041459</td>\n",
       "      <td>0.451643</td>\n",
       "    </tr>\n",
       "    <tr>\n",
       "      <th>운영_영업_개월_평균</th>\n",
       "      <td>0.009848</td>\n",
       "      <td>0.837641</td>\n",
       "      <td>0.423744</td>\n",
       "    </tr>\n",
       "    <tr>\n",
       "      <th>폐업_영업_개월_평균</th>\n",
       "      <td>-0.076858</td>\n",
       "      <td>0.790903</td>\n",
       "      <td>0.357022</td>\n",
       "    </tr>\n",
       "  </tbody>\n",
       "</table>\n",
       "</div>"
      ],
      "text/plain": [
       "                      0         1      mean\n",
       "SUM_SELNG_AMT  0.997306  0.009675  0.503491\n",
       "SUM_SELNG_CO   0.944746 -0.041459  0.451643\n",
       "운영_영업_개월_평균    0.009848  0.837641  0.423744\n",
       "폐업_영업_개월_평균   -0.076858  0.790903  0.357022"
      ]
     },
     "execution_count": 41,
     "metadata": {},
     "output_type": "execute_result"
    }
   ],
   "source": [
    "efa_result['mean'] = (efa_result[0] +efa_result[1])/2\n",
    "efa_result"
   ]
  },
  {
   "cell_type": "code",
   "execution_count": 42,
   "metadata": {},
   "outputs": [
    {
     "name": "stdout",
     "output_type": "stream",
     "text": [
      "가중치_안전성\n",
      "1위 SUM_SELNG_AMT: 0.29\n",
      "2위 SUM_SELNG_CO: 0.26\n",
      "3위 운영_영업_개월_평균: 0.24\n",
      "4위 폐업_영업_개월_평균: 0.21\n"
     ]
    }
   ],
   "source": [
    "print('가중치_안전성')\n",
    "print('1위 SUM_SELNG_AMT:',round(0.503491/(0.503491+0.451643+0.423744+0.357022),2))\n",
    "print('2위 SUM_SELNG_CO:',round(0.451643/(0.503491+0.451643+0.423744+0.357022),2))\n",
    "print('3위 운영_영업_개월_평균:',round(0.423744/(0.503491+0.451643+0.423744+0.357022),2))\n",
    "print('4위 폐업_영업_개월_평균:',round(0.357022/(0.503491+0.451643+0.423744+0.357022),2))"
   ]
  },
  {
   "cell_type": "markdown",
   "metadata": {},
   "source": [
    "### 2-3.상업지역_최종지표_구_동"
   ]
  },
  {
   "cell_type": "markdown",
   "metadata": {},
   "source": [
    "* 가중치_상업지역\n",
    "  * 1위 SUM_SELNG_AMT: 0.29\n",
    "  * 2위 SUM_SELNG_CO: 0.26\n",
    "  * 3위 운영_영업_개월_평균: 0.24\n",
    "  * 4위 폐업_영업_개월_평균: 0.21"
   ]
  },
  {
   "cell_type": "code",
   "execution_count": 70,
   "metadata": {},
   "outputs": [
    {
     "name": "stdout",
     "output_type": "stream",
     "text": [
      "           행정구역명  SUM_SELNG_AMT  SUM_SELNG_CO  운영_영업_개월_평균  폐업_영업_개월_평균  \\\n",
      "277         역삼1동       1.000000      1.000000     0.477558     0.167677   \n",
      "352  종로1.2.3.4가동       0.629086      0.573802     0.804309     0.339394   \n",
      "187          서교동       0.846377      0.830552     0.377020     0.169697   \n",
      "108           명동       0.498397      0.527745     0.836625     0.254545   \n",
      "0           가락1동       0.135054      0.065196     1.000000     1.000000   \n",
      "\n",
      "         상업지표  \n",
      "277  0.699826  \n",
      "352  0.595930  \n",
      "187  0.587514  \n",
      "108  0.535993  \n",
      "0    0.506117  \n",
      "423\n"
     ]
    }
   ],
   "source": [
    "commercial_final = pd.concat([df_commercial['ADSTRD_NM'],df_commercial_s],axis = 1)\n",
    "commercial_final['상업지표'] = (commercial_final['SUM_SELNG_AMT']*0.29 + commercial_final['SUM_SELNG_CO']*0.26 \n",
    "                             + commercial_final['운영_영업_개월_평균']*0.24 + commercial_final['폐업_영업_개월_평균']*0.21)\n",
    "commercial_final= commercial_final.sort_values(by = ['상업지표'],ascending = False)\n",
    "commercial_final.rename(columns = {'ADSTRD_NM':'행정구역명'},inplace=True)\n",
    "print(commercial_final.head())\n",
    "print(commercial_final['행정구역명'].nunique())"
   ]
  },
  {
   "cell_type": "code",
   "execution_count": 46,
   "metadata": {},
   "outputs": [
    {
     "data": {
      "text/html": [
       "<div>\n",
       "<style scoped>\n",
       "    .dataframe tbody tr th:only-of-type {\n",
       "        vertical-align: middle;\n",
       "    }\n",
       "\n",
       "    .dataframe tbody tr th {\n",
       "        vertical-align: top;\n",
       "    }\n",
       "\n",
       "    .dataframe thead th {\n",
       "        text-align: right;\n",
       "    }\n",
       "</style>\n",
       "<table border=\"1\" class=\"dataframe\">\n",
       "  <thead>\n",
       "    <tr style=\"text-align: right;\">\n",
       "      <th></th>\n",
       "      <th>Unnamed: 0</th>\n",
       "      <th>자치구명</th>\n",
       "      <th>행정구역명</th>\n",
       "      <th>행정동</th>\n",
       "      <th>법정동</th>\n",
       "      <th>행정구역분류</th>\n",
       "    </tr>\n",
       "  </thead>\n",
       "  <tbody>\n",
       "    <tr>\n",
       "      <th>0</th>\n",
       "      <td>2</td>\n",
       "      <td>종로구</td>\n",
       "      <td>청운효자동</td>\n",
       "      <td>청운효자동</td>\n",
       "      <td>청운동</td>\n",
       "      <td>1101072</td>\n",
       "    </tr>\n",
       "    <tr>\n",
       "      <th>1</th>\n",
       "      <td>3</td>\n",
       "      <td>종로구</td>\n",
       "      <td>청운효자동</td>\n",
       "      <td>청운효자동</td>\n",
       "      <td>신교동</td>\n",
       "      <td>1101072</td>\n",
       "    </tr>\n",
       "    <tr>\n",
       "      <th>2</th>\n",
       "      <td>4</td>\n",
       "      <td>종로구</td>\n",
       "      <td>청운효자동</td>\n",
       "      <td>청운효자동</td>\n",
       "      <td>궁정동</td>\n",
       "      <td>1101072</td>\n",
       "    </tr>\n",
       "    <tr>\n",
       "      <th>3</th>\n",
       "      <td>5</td>\n",
       "      <td>종로구</td>\n",
       "      <td>청운효자동</td>\n",
       "      <td>청운효자동</td>\n",
       "      <td>효자동</td>\n",
       "      <td>1101072</td>\n",
       "    </tr>\n",
       "    <tr>\n",
       "      <th>4</th>\n",
       "      <td>6</td>\n",
       "      <td>종로구</td>\n",
       "      <td>청운효자동</td>\n",
       "      <td>청운효자동</td>\n",
       "      <td>창성동</td>\n",
       "      <td>1101072</td>\n",
       "    </tr>\n",
       "  </tbody>\n",
       "</table>\n",
       "</div>"
      ],
      "text/plain": [
       "   Unnamed: 0 자치구명  행정구역명    행정동  법정동   행정구역분류\n",
       "0           2  종로구  청운효자동  청운효자동  청운동  1101072\n",
       "1           3  종로구  청운효자동  청운효자동  신교동  1101072\n",
       "2           4  종로구  청운효자동  청운효자동  궁정동  1101072\n",
       "3           5  종로구  청운효자동  청운효자동  효자동  1101072\n",
       "4           6  종로구  청운효자동  청운효자동  창성동  1101072"
      ]
     },
     "execution_count": 46,
     "metadata": {},
     "output_type": "execute_result"
    }
   ],
   "source": [
    "df_dong = pd.read_csv('data/행정구역전처리.csv')\n",
    "df_dong.head()"
   ]
  },
  {
   "cell_type": "code",
   "execution_count": 67,
   "metadata": {},
   "outputs": [
    {
     "name": "stdout",
     "output_type": "stream",
     "text": [
      "425\n",
      "425\n"
     ]
    }
   ],
   "source": [
    "print(df_dong['행정동'].nunique())\n",
    "print(df_dong['행정구역명'].nunique())"
   ]
  },
  {
   "cell_type": "code",
   "execution_count": 76,
   "metadata": {},
   "outputs": [
    {
     "name": "stdout",
     "output_type": "stream",
     "text": [
      "    자치구명          행정동      상업지표\n",
      "672  강남구         역삼1동  0.699826\n",
      "61   종로구  종로1.2.3.4가동  0.595930\n",
      "56   종로구  종로1.2.3.4가동  0.595930\n",
      "46   종로구  종로1.2.3.4가동  0.595930\n",
      "60   종로구  종로1.2.3.4가동  0.595930\n",
      "(738, 3)\n",
      "    자치구명          행정동      상업지표\n",
      "672  강남구         역삼1동  0.699826\n",
      "61   종로구  종로1.2.3.4가동  0.595930\n",
      "464  마포구          서교동  0.587514\n",
      "120   중구           명동  0.535993\n",
      "706  송파구         가락1동  0.506117\n",
      "(423, 3)\n"
     ]
    }
   ],
   "source": [
    "commercial_dong = pd.merge(df_dong,commercial_final)\n",
    "commercial_dong = commercial_dong.drop(['Unnamed: 0','법정동','행정구역분류',\n",
    "                                'SUM_SELNG_AMT','SUM_SELNG_CO','운영_영업_개월_평균',\n",
    "                                '폐업_영업_개월_평균','행정구역명'],axis=1)\n",
    "commercial_dong= commercial_dong.sort_values(by = ['상업지표'],ascending = False)\n",
    "\n",
    "print(commercial_dong.head())\n",
    "print(commercial_dong.shape)\n",
    "commercial_dong= commercial_dong.drop_duplicates()\n",
    "print(commercial_dong.head())\n",
    "print(commercial_dong.shape)"
   ]
  },
  {
   "cell_type": "code",
   "execution_count": 74,
   "metadata": {},
   "outputs": [
    {
     "name": "stdout",
     "output_type": "stream",
     "text": [
      "25\n",
      "422\n",
      "422\n"
     ]
    }
   ],
   "source": [
    "print(commercial_dong['자치구명'].nunique())\n",
    "print(commercial_dong['행정동'].nunique())\n",
    "print(commercial_dong['상업지표'].nunique())"
   ]
  },
  {
   "cell_type": "code",
   "execution_count": 75,
   "metadata": {},
   "outputs": [],
   "source": [
    "commercial_dong.to_csv('[221025]commercial_dong.csv')"
   ]
  },
  {
   "cell_type": "code",
   "execution_count": 79,
   "metadata": {},
   "outputs": [
    {
     "data": {
      "text/html": [
       "<div>\n",
       "<style scoped>\n",
       "    .dataframe tbody tr th:only-of-type {\n",
       "        vertical-align: middle;\n",
       "    }\n",
       "\n",
       "    .dataframe tbody tr th {\n",
       "        vertical-align: top;\n",
       "    }\n",
       "\n",
       "    .dataframe thead th {\n",
       "        text-align: right;\n",
       "    }\n",
       "</style>\n",
       "<table border=\"1\" class=\"dataframe\">\n",
       "  <thead>\n",
       "    <tr style=\"text-align: right;\">\n",
       "      <th></th>\n",
       "      <th>자치구명</th>\n",
       "      <th>행정동</th>\n",
       "      <th>상업지표</th>\n",
       "    </tr>\n",
       "  </thead>\n",
       "  <tbody>\n",
       "    <tr>\n",
       "      <th>630</th>\n",
       "      <td>강남구</td>\n",
       "      <td>신사동</td>\n",
       "      <td>0.430837</td>\n",
       "    </tr>\n",
       "  </tbody>\n",
       "</table>\n",
       "</div>"
      ],
      "text/plain": [
       "    자치구명  행정동      상업지표\n",
       "630  강남구  신사동  0.430837"
      ]
     },
     "execution_count": 79,
     "metadata": {},
     "output_type": "execute_result"
    }
   ],
   "source": [
    "commercial_dong[(commercial_dong['자치구명'] == \"강남구\") & (commercial_dong['행정동'] == \"신사동\")]\n",
    "#df[(df['country']=='한국') | (df['country']=='호주')]"
   ]
  },
  {
   "cell_type": "code",
   "execution_count": 80,
   "metadata": {},
   "outputs": [
    {
     "data": {
      "text/html": [
       "<div>\n",
       "<style scoped>\n",
       "    .dataframe tbody tr th:only-of-type {\n",
       "        vertical-align: middle;\n",
       "    }\n",
       "\n",
       "    .dataframe tbody tr th {\n",
       "        vertical-align: top;\n",
       "    }\n",
       "\n",
       "    .dataframe thead th {\n",
       "        text-align: right;\n",
       "    }\n",
       "</style>\n",
       "<table border=\"1\" class=\"dataframe\">\n",
       "  <thead>\n",
       "    <tr style=\"text-align: right;\">\n",
       "      <th></th>\n",
       "      <th>자치구명</th>\n",
       "      <th>행정동</th>\n",
       "      <th>상업지표</th>\n",
       "    </tr>\n",
       "  </thead>\n",
       "  <tbody>\n",
       "    <tr>\n",
       "      <th>629</th>\n",
       "      <td>관악구</td>\n",
       "      <td>신사동</td>\n",
       "      <td>0.430837</td>\n",
       "    </tr>\n",
       "  </tbody>\n",
       "</table>\n",
       "</div>"
      ],
      "text/plain": [
       "    자치구명  행정동      상업지표\n",
       "629  관악구  신사동  0.430837"
      ]
     },
     "execution_count": 80,
     "metadata": {},
     "output_type": "execute_result"
    }
   ],
   "source": [
    "commercial_dong[(commercial_dong['자치구명'] == \"관악구\") & (commercial_dong['행정동'] == \"신사동\")]"
   ]
  },
  {
   "cell_type": "markdown",
   "metadata": {},
   "source": [
    "## 3. [221026]상업 전처리 파일 다시생성_신사동"
   ]
  },
  {
   "cell_type": "code",
   "execution_count": 6,
   "metadata": {},
   "outputs": [
    {
     "data": {
      "text/html": [
       "<div>\n",
       "<style scoped>\n",
       "    .dataframe tbody tr th:only-of-type {\n",
       "        vertical-align: middle;\n",
       "    }\n",
       "\n",
       "    .dataframe tbody tr th {\n",
       "        vertical-align: top;\n",
       "    }\n",
       "\n",
       "    .dataframe thead th {\n",
       "        text-align: right;\n",
       "    }\n",
       "</style>\n",
       "<table border=\"1\" class=\"dataframe\">\n",
       "  <thead>\n",
       "    <tr style=\"text-align: right;\">\n",
       "      <th></th>\n",
       "      <th>자치구명</th>\n",
       "      <th>행정동</th>\n",
       "      <th>행정기관코드</th>\n",
       "      <th>운영_영업_개월_평균</th>\n",
       "      <th>폐업_영업_개월_평균</th>\n",
       "    </tr>\n",
       "  </thead>\n",
       "  <tbody>\n",
       "    <tr>\n",
       "      <th>0</th>\n",
       "      <td>종로구</td>\n",
       "      <td>청운효자동</td>\n",
       "      <td>11110515</td>\n",
       "      <td>106.0</td>\n",
       "      <td>61.25</td>\n",
       "    </tr>\n",
       "    <tr>\n",
       "      <th>1</th>\n",
       "      <td>종로구</td>\n",
       "      <td>청운효자동</td>\n",
       "      <td>11110515</td>\n",
       "      <td>106.0</td>\n",
       "      <td>61.25</td>\n",
       "    </tr>\n",
       "    <tr>\n",
       "      <th>2</th>\n",
       "      <td>종로구</td>\n",
       "      <td>청운효자동</td>\n",
       "      <td>11110515</td>\n",
       "      <td>106.0</td>\n",
       "      <td>61.25</td>\n",
       "    </tr>\n",
       "    <tr>\n",
       "      <th>3</th>\n",
       "      <td>종로구</td>\n",
       "      <td>청운효자동</td>\n",
       "      <td>11110515</td>\n",
       "      <td>106.0</td>\n",
       "      <td>61.25</td>\n",
       "    </tr>\n",
       "    <tr>\n",
       "      <th>4</th>\n",
       "      <td>종로구</td>\n",
       "      <td>청운효자동</td>\n",
       "      <td>11110515</td>\n",
       "      <td>106.0</td>\n",
       "      <td>61.25</td>\n",
       "    </tr>\n",
       "  </tbody>\n",
       "</table>\n",
       "</div>"
      ],
      "text/plain": [
       "  자치구명    행정동    행정기관코드  운영_영업_개월_평균  폐업_영업_개월_평균\n",
       "0  종로구  청운효자동  11110515        106.0        61.25\n",
       "1  종로구  청운효자동  11110515        106.0        61.25\n",
       "2  종로구  청운효자동  11110515        106.0        61.25\n",
       "3  종로구  청운효자동  11110515        106.0        61.25\n",
       "4  종로구  청운효자동  11110515        106.0        61.25"
      ]
     },
     "execution_count": 6,
     "metadata": {},
     "output_type": "execute_result"
    }
   ],
   "source": [
    "d5 = pd.read_csv('data/서울시 우리마을가게 상권분석서비스(행정동별 상권변화지표).csv',encoding='cp949')\n",
    "d5.rename(columns = {'행정동_코드':'행정기관코드'},inplace=True)\n",
    "d5=d5.pivot_table(values = ['운영_영업_개월_평균','폐업_영업_개월_평균'],index = ['행정기관코드'],aggfunc=\"mean\")\n",
    "d5 = d5.reset_index()\n",
    "#기관코드\n",
    "df_dong_gu= pd.read_csv('data/행정구역_기관코드포함.csv')\n",
    "d5 = pd.merge(df_dong_gu,d5)\n",
    "d5.drop(['Unnamed: 0','행정구역명','행정구역분류','자치구행정동','법정동'],axis = 1,inplace = True)\n",
    "d5.head()"
   ]
  },
  {
   "cell_type": "code",
   "execution_count": 118,
   "metadata": {},
   "outputs": [
    {
     "name": "stdout",
     "output_type": "stream",
     "text": [
      "417\n",
      "179\n",
      "96\n"
     ]
    }
   ],
   "source": [
    "print(d5['행정기관코드'].nunique())\n",
    "print(d5['운영_영업_개월_평균'].nunique())\n",
    "print(d5['폐업_영업_개월_평균'].nunique())"
   ]
  },
  {
   "cell_type": "code",
   "execution_count": 7,
   "metadata": {},
   "outputs": [],
   "source": [
    "d1 = pd.read_csv('data/B058. 서울시 행정동단위 분기별 추정매출액/2. 파일데이터/2018/TBDM_BLCK_SELNG_QU_2018_4분기.txt',delimiter = '|')\n",
    "d2 = pd.read_csv('data/B058. 서울시 행정동단위 분기별 추정매출액/2. 파일데이터/2019/TBDM_BLCK_SELNG_QU_2019_1분기.txt',delimiter = '|')  \n",
    "d3 = pd.read_csv('data/B058. 서울시 행정동단위 분기별 추정매출액/2. 파일데이터/2019/TBDM_BLCK_SELNG_QU_2019_2분기.txt',delimiter = '|') \n",
    "d4 = pd.read_csv('data/B058. 서울시 행정동단위 분기별 추정매출액/2. 파일데이터/2019/TBDM_BLCK_SELNG_QU_2019_3분기.txt',delimiter = '|') "
   ]
  },
  {
   "cell_type": "code",
   "execution_count": 8,
   "metadata": {},
   "outputs": [
    {
     "data": {
      "text/html": [
       "<div>\n",
       "<style scoped>\n",
       "    .dataframe tbody tr th:only-of-type {\n",
       "        vertical-align: middle;\n",
       "    }\n",
       "\n",
       "    .dataframe tbody tr th {\n",
       "        vertical-align: top;\n",
       "    }\n",
       "\n",
       "    .dataframe thead th {\n",
       "        text-align: right;\n",
       "    }\n",
       "</style>\n",
       "<table border=\"1\" class=\"dataframe\">\n",
       "  <thead>\n",
       "    <tr style=\"text-align: right;\">\n",
       "      <th></th>\n",
       "      <th>자치구명</th>\n",
       "      <th>행정동</th>\n",
       "      <th>행정기관코드</th>\n",
       "      <th>SUM_SELNG_AMT</th>\n",
       "      <th>SUM_SELNG_CO</th>\n",
       "    </tr>\n",
       "  </thead>\n",
       "  <tbody>\n",
       "    <tr>\n",
       "      <th>0</th>\n",
       "      <td>종로구</td>\n",
       "      <td>청운효자동</td>\n",
       "      <td>11110515</td>\n",
       "      <td>76717519157</td>\n",
       "      <td>4891664</td>\n",
       "    </tr>\n",
       "    <tr>\n",
       "      <th>1</th>\n",
       "      <td>종로구</td>\n",
       "      <td>청운효자동</td>\n",
       "      <td>11110515</td>\n",
       "      <td>76717519157</td>\n",
       "      <td>4891664</td>\n",
       "    </tr>\n",
       "    <tr>\n",
       "      <th>2</th>\n",
       "      <td>종로구</td>\n",
       "      <td>청운효자동</td>\n",
       "      <td>11110515</td>\n",
       "      <td>76717519157</td>\n",
       "      <td>4891664</td>\n",
       "    </tr>\n",
       "    <tr>\n",
       "      <th>3</th>\n",
       "      <td>종로구</td>\n",
       "      <td>청운효자동</td>\n",
       "      <td>11110515</td>\n",
       "      <td>76717519157</td>\n",
       "      <td>4891664</td>\n",
       "    </tr>\n",
       "    <tr>\n",
       "      <th>4</th>\n",
       "      <td>종로구</td>\n",
       "      <td>청운효자동</td>\n",
       "      <td>11110515</td>\n",
       "      <td>76717519157</td>\n",
       "      <td>4891664</td>\n",
       "    </tr>\n",
       "  </tbody>\n",
       "</table>\n",
       "</div>"
      ],
      "text/plain": [
       "  자치구명    행정동    행정기관코드  SUM_SELNG_AMT  SUM_SELNG_CO\n",
       "0  종로구  청운효자동  11110515    76717519157       4891664\n",
       "1  종로구  청운효자동  11110515    76717519157       4891664\n",
       "2  종로구  청운효자동  11110515    76717519157       4891664\n",
       "3  종로구  청운효자동  11110515    76717519157       4891664\n",
       "4  종로구  청운효자동  11110515    76717519157       4891664"
      ]
     },
     "execution_count": 8,
     "metadata": {},
     "output_type": "execute_result"
    }
   ],
   "source": [
    "df_commercial = pd.concat([d1,d2,d3,d4], axis = 0) \n",
    "df_commercial.rename(columns = {'ADSTRD_CD':'행정기관코드'},inplace=True)\n",
    "df_commercial=df_commercial.pivot_table(values = ['SUM_SELNG_AMT','SUM_SELNG_CO'],index = ['행정기관코드'],aggfunc=\"sum\")\n",
    "df_commercial = df_commercial.reset_index()\n",
    "df_commercial = pd.merge(df_dong_gu,df_commercial)\n",
    "df_commercial.drop(['Unnamed: 0','행정구역명','행정구역분류','자치구행정동','법정동'],axis = 1,inplace = True)\n",
    "df_commercial.head()"
   ]
  },
  {
   "cell_type": "code",
   "execution_count": 117,
   "metadata": {},
   "outputs": [
    {
     "name": "stdout",
     "output_type": "stream",
     "text": [
      "417\n",
      "417\n"
     ]
    }
   ],
   "source": [
    "print(df_commercial['행정기관코드'].nunique())\n",
    "print(df_commercial['SUM_SELNG_AMT'].nunique())"
   ]
  },
  {
   "cell_type": "code",
   "execution_count": 9,
   "metadata": {},
   "outputs": [
    {
     "data": {
      "text/html": [
       "<div>\n",
       "<style scoped>\n",
       "    .dataframe tbody tr th:only-of-type {\n",
       "        vertical-align: middle;\n",
       "    }\n",
       "\n",
       "    .dataframe tbody tr th {\n",
       "        vertical-align: top;\n",
       "    }\n",
       "\n",
       "    .dataframe thead th {\n",
       "        text-align: right;\n",
       "    }\n",
       "</style>\n",
       "<table border=\"1\" class=\"dataframe\">\n",
       "  <thead>\n",
       "    <tr style=\"text-align: right;\">\n",
       "      <th></th>\n",
       "      <th>자치구명</th>\n",
       "      <th>행정동</th>\n",
       "      <th>SUM_SELNG_AMT</th>\n",
       "      <th>SUM_SELNG_CO</th>\n",
       "      <th>운영_영업_개월_평균</th>\n",
       "      <th>폐업_영업_개월_평균</th>\n",
       "    </tr>\n",
       "  </thead>\n",
       "  <tbody>\n",
       "    <tr>\n",
       "      <th>0</th>\n",
       "      <td>종로구</td>\n",
       "      <td>청운효자동</td>\n",
       "      <td>76717519157</td>\n",
       "      <td>4891664</td>\n",
       "      <td>106.0</td>\n",
       "      <td>61.25</td>\n",
       "    </tr>\n",
       "    <tr>\n",
       "      <th>1</th>\n",
       "      <td>종로구</td>\n",
       "      <td>청운효자동</td>\n",
       "      <td>76717519157</td>\n",
       "      <td>4891664</td>\n",
       "      <td>106.0</td>\n",
       "      <td>61.25</td>\n",
       "    </tr>\n",
       "    <tr>\n",
       "      <th>2</th>\n",
       "      <td>종로구</td>\n",
       "      <td>청운효자동</td>\n",
       "      <td>76717519157</td>\n",
       "      <td>4891664</td>\n",
       "      <td>106.0</td>\n",
       "      <td>61.25</td>\n",
       "    </tr>\n",
       "    <tr>\n",
       "      <th>3</th>\n",
       "      <td>종로구</td>\n",
       "      <td>청운효자동</td>\n",
       "      <td>76717519157</td>\n",
       "      <td>4891664</td>\n",
       "      <td>106.0</td>\n",
       "      <td>61.25</td>\n",
       "    </tr>\n",
       "    <tr>\n",
       "      <th>4</th>\n",
       "      <td>종로구</td>\n",
       "      <td>청운효자동</td>\n",
       "      <td>76717519157</td>\n",
       "      <td>4891664</td>\n",
       "      <td>106.0</td>\n",
       "      <td>61.25</td>\n",
       "    </tr>\n",
       "  </tbody>\n",
       "</table>\n",
       "</div>"
      ],
      "text/plain": [
       "  자치구명    행정동  SUM_SELNG_AMT  SUM_SELNG_CO  운영_영업_개월_평균  폐업_영업_개월_평균\n",
       "0  종로구  청운효자동    76717519157       4891664        106.0        61.25\n",
       "1  종로구  청운효자동    76717519157       4891664        106.0        61.25\n",
       "2  종로구  청운효자동    76717519157       4891664        106.0        61.25\n",
       "3  종로구  청운효자동    76717519157       4891664        106.0        61.25\n",
       "4  종로구  청운효자동    76717519157       4891664        106.0        61.25"
      ]
     },
     "execution_count": 9,
     "metadata": {},
     "output_type": "execute_result"
    }
   ],
   "source": [
    "df_commercial = pd.merge(df_commercial,d5)\n",
    "df_commercial.drop(['행정기관코드'],axis = 1,inplace= True)\n",
    "df_commercial.head()"
   ]
  },
  {
   "cell_type": "code",
   "execution_count": 121,
   "metadata": {},
   "outputs": [],
   "source": [
    "df_commercial.to_csv('상업.csv')"
   ]
  },
  {
   "cell_type": "code",
   "execution_count": 10,
   "metadata": {},
   "outputs": [
    {
     "name": "stdout",
     "output_type": "stream",
     "text": [
      "<class 'pandas.core.frame.DataFrame'>\n",
      "Int64Index: 3710 entries, 0 to 3709\n",
      "Data columns (total 6 columns):\n",
      " #   Column         Non-Null Count  Dtype  \n",
      "---  ------         --------------  -----  \n",
      " 0   자치구명           3710 non-null   object \n",
      " 1   행정동            3710 non-null   object \n",
      " 2   SUM_SELNG_AMT  3710 non-null   int64  \n",
      " 3   SUM_SELNG_CO   3710 non-null   int64  \n",
      " 4   운영_영업_개월_평균    3710 non-null   float64\n",
      " 5   폐업_영업_개월_평균    3710 non-null   float64\n",
      "dtypes: float64(2), int64(2), object(2)\n",
      "memory usage: 202.9+ KB\n"
     ]
    }
   ],
   "source": [
    "df_commercial.info()"
   ]
  },
  {
   "cell_type": "code",
   "execution_count": 11,
   "metadata": {},
   "outputs": [
    {
     "name": "stdout",
     "output_type": "stream",
     "text": [
      "<class 'pandas.core.frame.DataFrame'>\n",
      "Int64Index: 417 entries, 0 to 3709\n",
      "Data columns (total 6 columns):\n",
      " #   Column         Non-Null Count  Dtype  \n",
      "---  ------         --------------  -----  \n",
      " 0   자치구명           417 non-null    object \n",
      " 1   행정동            417 non-null    object \n",
      " 2   SUM_SELNG_AMT  417 non-null    int64  \n",
      " 3   SUM_SELNG_CO   417 non-null    int64  \n",
      " 4   운영_영업_개월_평균    417 non-null    float64\n",
      " 5   폐업_영업_개월_평균    417 non-null    float64\n",
      "dtypes: float64(2), int64(2), object(2)\n",
      "memory usage: 22.8+ KB\n"
     ]
    }
   ],
   "source": [
    "df_commercial = df_commercial.drop_duplicates()\n",
    "df_commercial.info()"
   ]
  },
  {
   "cell_type": "code",
   "execution_count": 12,
   "metadata": {},
   "outputs": [],
   "source": [
    "df_commercial.to_csv('[221117]상업_원시지표.csv')"
   ]
  },
  {
   "cell_type": "code",
   "execution_count": 7,
   "metadata": {},
   "outputs": [
    {
     "data": {
      "text/html": [
       "<div>\n",
       "<style scoped>\n",
       "    .dataframe tbody tr th:only-of-type {\n",
       "        vertical-align: middle;\n",
       "    }\n",
       "\n",
       "    .dataframe tbody tr th {\n",
       "        vertical-align: top;\n",
       "    }\n",
       "\n",
       "    .dataframe thead th {\n",
       "        text-align: right;\n",
       "    }\n",
       "</style>\n",
       "<table border=\"1\" class=\"dataframe\">\n",
       "  <thead>\n",
       "    <tr style=\"text-align: right;\">\n",
       "      <th></th>\n",
       "      <th>자치구</th>\n",
       "      <th>행정동</th>\n",
       "      <th>SUM_SELNG_AMT</th>\n",
       "      <th>SUM_SELNG_CO</th>\n",
       "      <th>운영_영업_개월_평균</th>\n",
       "      <th>폐업_영업_개월_평균</th>\n",
       "    </tr>\n",
       "  </thead>\n",
       "  <tbody>\n",
       "    <tr>\n",
       "      <th>0</th>\n",
       "      <td>종로구</td>\n",
       "      <td>청운효자동</td>\n",
       "      <td>76717519157</td>\n",
       "      <td>4891664</td>\n",
       "      <td>106.00</td>\n",
       "      <td>61.25</td>\n",
       "    </tr>\n",
       "    <tr>\n",
       "      <th>1</th>\n",
       "      <td>종로구</td>\n",
       "      <td>사직동</td>\n",
       "      <td>294186825721</td>\n",
       "      <td>18441604</td>\n",
       "      <td>130.75</td>\n",
       "      <td>61.25</td>\n",
       "    </tr>\n",
       "    <tr>\n",
       "      <th>2</th>\n",
       "      <td>종로구</td>\n",
       "      <td>삼청동</td>\n",
       "      <td>93482870462</td>\n",
       "      <td>4547785</td>\n",
       "      <td>102.50</td>\n",
       "      <td>57.00</td>\n",
       "    </tr>\n",
       "    <tr>\n",
       "      <th>3</th>\n",
       "      <td>종로구</td>\n",
       "      <td>부암동</td>\n",
       "      <td>35862202180</td>\n",
       "      <td>2678128</td>\n",
       "      <td>105.25</td>\n",
       "      <td>59.25</td>\n",
       "    </tr>\n",
       "    <tr>\n",
       "      <th>4</th>\n",
       "      <td>종로구</td>\n",
       "      <td>평창동</td>\n",
       "      <td>70961467717</td>\n",
       "      <td>3319554</td>\n",
       "      <td>123.25</td>\n",
       "      <td>60.50</td>\n",
       "    </tr>\n",
       "  </tbody>\n",
       "</table>\n",
       "</div>"
      ],
      "text/plain": [
       "   자치구    행정동  SUM_SELNG_AMT  SUM_SELNG_CO  운영_영업_개월_평균  폐업_영업_개월_평균\n",
       "0  종로구  청운효자동    76717519157       4891664       106.00        61.25\n",
       "1  종로구    사직동   294186825721      18441604       130.75        61.25\n",
       "2  종로구    삼청동    93482870462       4547785       102.50        57.00\n",
       "3  종로구    부암동    35862202180       2678128       105.25        59.25\n",
       "4  종로구    평창동    70961467717       3319554       123.25        60.50"
      ]
     },
     "execution_count": 7,
     "metadata": {},
     "output_type": "execute_result"
    }
   ],
   "source": [
    "df_commercial=pd.read_csv('[221117]상업_원시지표.csv')\n",
    "df_commercial.rename(columns = {'자치구명' : '자치구'}, inplace = True)\n",
    "df_commercial.drop(['Unnamed: 0'],axis = 1,inplace = True)\n",
    "df_commercial.head()"
   ]
  },
  {
   "cell_type": "code",
   "execution_count": 8,
   "metadata": {},
   "outputs": [
    {
     "data": {
      "text/html": [
       "<div>\n",
       "<style scoped>\n",
       "    .dataframe tbody tr th:only-of-type {\n",
       "        vertical-align: middle;\n",
       "    }\n",
       "\n",
       "    .dataframe tbody tr th {\n",
       "        vertical-align: top;\n",
       "    }\n",
       "\n",
       "    .dataframe thead th {\n",
       "        text-align: right;\n",
       "    }\n",
       "</style>\n",
       "<table border=\"1\" class=\"dataframe\">\n",
       "  <thead>\n",
       "    <tr style=\"text-align: right;\">\n",
       "      <th></th>\n",
       "      <th>자치구</th>\n",
       "      <th>행정동</th>\n",
       "      <th>불안전성지표</th>\n",
       "      <th>접근성지표</th>\n",
       "      <th>비환경지표</th>\n",
       "      <th>상업지표</th>\n",
       "      <th>주거지표</th>\n",
       "      <th>문화지표</th>\n",
       "    </tr>\n",
       "  </thead>\n",
       "  <tbody>\n",
       "    <tr>\n",
       "      <th>0</th>\n",
       "      <td>강남구</td>\n",
       "      <td>신사동</td>\n",
       "      <td>0.803214</td>\n",
       "      <td>0.190622</td>\n",
       "      <td>0.410824</td>\n",
       "      <td>0.385027</td>\n",
       "      <td>0.295505</td>\n",
       "      <td>0.122344</td>\n",
       "    </tr>\n",
       "    <tr>\n",
       "      <th>1</th>\n",
       "      <td>강남구</td>\n",
       "      <td>삼성2동</td>\n",
       "      <td>0.803214</td>\n",
       "      <td>0.172469</td>\n",
       "      <td>0.223742</td>\n",
       "      <td>0.254874</td>\n",
       "      <td>0.504201</td>\n",
       "      <td>0.103986</td>\n",
       "    </tr>\n",
       "    <tr>\n",
       "      <th>2</th>\n",
       "      <td>강남구</td>\n",
       "      <td>도곡2동</td>\n",
       "      <td>0.803214</td>\n",
       "      <td>0.157665</td>\n",
       "      <td>0.187969</td>\n",
       "      <td>0.246147</td>\n",
       "      <td>0.498438</td>\n",
       "      <td>0.021014</td>\n",
       "    </tr>\n",
       "    <tr>\n",
       "      <th>3</th>\n",
       "      <td>강남구</td>\n",
       "      <td>도곡1동</td>\n",
       "      <td>0.803214</td>\n",
       "      <td>0.160310</td>\n",
       "      <td>0.296284</td>\n",
       "      <td>0.238506</td>\n",
       "      <td>0.364411</td>\n",
       "      <td>0.011785</td>\n",
       "    </tr>\n",
       "    <tr>\n",
       "      <th>4</th>\n",
       "      <td>강남구</td>\n",
       "      <td>역삼2동</td>\n",
       "      <td>0.803214</td>\n",
       "      <td>0.130481</td>\n",
       "      <td>0.268705</td>\n",
       "      <td>0.263553</td>\n",
       "      <td>0.611094</td>\n",
       "      <td>0.038454</td>\n",
       "    </tr>\n",
       "  </tbody>\n",
       "</table>\n",
       "</div>"
      ],
      "text/plain": [
       "   자치구   행정동    불안전성지표     접근성지표     비환경지표      상업지표      주거지표      문화지표\n",
       "0  강남구   신사동  0.803214  0.190622  0.410824  0.385027  0.295505  0.122344\n",
       "1  강남구  삼성2동  0.803214  0.172469  0.223742  0.254874  0.504201  0.103986\n",
       "2  강남구  도곡2동  0.803214  0.157665  0.187969  0.246147  0.498438  0.021014\n",
       "3  강남구  도곡1동  0.803214  0.160310  0.296284  0.238506  0.364411  0.011785\n",
       "4  강남구  역삼2동  0.803214  0.130481  0.268705  0.263553  0.611094  0.038454"
      ]
     },
     "execution_count": 8,
     "metadata": {},
     "output_type": "execute_result"
    }
   ],
   "source": [
    "df = pd.read_csv('[221029]Indicator_concat_ver1.csv')\n",
    "df.drop(['Unnamed: 0'],axis = 1,inplace = True)\n",
    "df.head()"
   ]
  },
  {
   "cell_type": "code",
   "execution_count": 9,
   "metadata": {},
   "outputs": [
    {
     "name": "stdout",
     "output_type": "stream",
     "text": [
      "<class 'pandas.core.frame.DataFrame'>\n",
      "Int64Index: 417 entries, 0 to 416\n",
      "Data columns (total 12 columns):\n",
      " #   Column         Non-Null Count  Dtype  \n",
      "---  ------         --------------  -----  \n",
      " 0   자치구            417 non-null    object \n",
      " 1   행정동            417 non-null    object \n",
      " 2   SUM_SELNG_AMT  417 non-null    int64  \n",
      " 3   SUM_SELNG_CO   417 non-null    int64  \n",
      " 4   운영_영업_개월_평균    417 non-null    float64\n",
      " 5   폐업_영업_개월_평균    417 non-null    float64\n",
      " 6   불안전성지표         417 non-null    float64\n",
      " 7   접근성지표          417 non-null    float64\n",
      " 8   비환경지표          417 non-null    float64\n",
      " 9   상업지표           417 non-null    float64\n",
      " 10  주거지표           417 non-null    float64\n",
      " 11  문화지표           417 non-null    float64\n",
      "dtypes: float64(8), int64(2), object(2)\n",
      "memory usage: 42.4+ KB\n"
     ]
    }
   ],
   "source": [
    "df_final =pd.merge(df_commercial,df)\n",
    "df_final.info()"
   ]
  },
  {
   "cell_type": "code",
   "execution_count": 10,
   "metadata": {},
   "outputs": [
    {
     "data": {
      "text/html": [
       "<div>\n",
       "<style scoped>\n",
       "    .dataframe tbody tr th:only-of-type {\n",
       "        vertical-align: middle;\n",
       "    }\n",
       "\n",
       "    .dataframe tbody tr th {\n",
       "        vertical-align: top;\n",
       "    }\n",
       "\n",
       "    .dataframe thead th {\n",
       "        text-align: right;\n",
       "    }\n",
       "</style>\n",
       "<table border=\"1\" class=\"dataframe\">\n",
       "  <thead>\n",
       "    <tr style=\"text-align: right;\">\n",
       "      <th></th>\n",
       "      <th>자치구</th>\n",
       "      <th>행정동</th>\n",
       "      <th>SUM_SELNG_AMT</th>\n",
       "      <th>SUM_SELNG_CO</th>\n",
       "      <th>운영_영업_개월_평균</th>\n",
       "      <th>폐업_영업_개월_평균</th>\n",
       "      <th>불안전성지표</th>\n",
       "      <th>접근성지표</th>\n",
       "      <th>비환경지표</th>\n",
       "      <th>상업지표</th>\n",
       "      <th>주거지표</th>\n",
       "      <th>문화지표</th>\n",
       "    </tr>\n",
       "  </thead>\n",
       "  <tbody>\n",
       "    <tr>\n",
       "      <th>0</th>\n",
       "      <td>종로구</td>\n",
       "      <td>청운효자동</td>\n",
       "      <td>76717519157</td>\n",
       "      <td>4891664</td>\n",
       "      <td>106.00</td>\n",
       "      <td>61.25</td>\n",
       "      <td>0.354463</td>\n",
       "      <td>0.100722</td>\n",
       "      <td>0.158494</td>\n",
       "      <td>0.202037</td>\n",
       "      <td>0.208008</td>\n",
       "      <td>0.128717</td>\n",
       "    </tr>\n",
       "    <tr>\n",
       "      <th>1</th>\n",
       "      <td>종로구</td>\n",
       "      <td>사직동</td>\n",
       "      <td>294186825721</td>\n",
       "      <td>18441604</td>\n",
       "      <td>130.75</td>\n",
       "      <td>61.25</td>\n",
       "      <td>0.354463</td>\n",
       "      <td>0.344329</td>\n",
       "      <td>0.319950</td>\n",
       "      <td>0.314926</td>\n",
       "      <td>0.181815</td>\n",
       "      <td>0.130618</td>\n",
       "    </tr>\n",
       "    <tr>\n",
       "      <th>2</th>\n",
       "      <td>종로구</td>\n",
       "      <td>삼청동</td>\n",
       "      <td>93482870462</td>\n",
       "      <td>4547785</td>\n",
       "      <td>102.50</td>\n",
       "      <td>57.00</td>\n",
       "      <td>0.354463</td>\n",
       "      <td>0.078244</td>\n",
       "      <td>0.156656</td>\n",
       "      <td>0.190334</td>\n",
       "      <td>0.045034</td>\n",
       "      <td>0.075384</td>\n",
       "    </tr>\n",
       "    <tr>\n",
       "      <th>3</th>\n",
       "      <td>종로구</td>\n",
       "      <td>부암동</td>\n",
       "      <td>35862202180</td>\n",
       "      <td>2678128</td>\n",
       "      <td>105.25</td>\n",
       "      <td>59.25</td>\n",
       "      <td>0.354463</td>\n",
       "      <td>0.124857</td>\n",
       "      <td>0.169565</td>\n",
       "      <td>0.185269</td>\n",
       "      <td>0.162146</td>\n",
       "      <td>0.145680</td>\n",
       "    </tr>\n",
       "    <tr>\n",
       "      <th>4</th>\n",
       "      <td>종로구</td>\n",
       "      <td>평창동</td>\n",
       "      <td>70961467717</td>\n",
       "      <td>3319554</td>\n",
       "      <td>123.25</td>\n",
       "      <td>60.50</td>\n",
       "      <td>0.354463</td>\n",
       "      <td>0.152640</td>\n",
       "      <td>0.120060</td>\n",
       "      <td>0.226877</td>\n",
       "      <td>0.285614</td>\n",
       "      <td>0.161079</td>\n",
       "    </tr>\n",
       "  </tbody>\n",
       "</table>\n",
       "</div>"
      ],
      "text/plain": [
       "   자치구    행정동  SUM_SELNG_AMT  SUM_SELNG_CO  운영_영업_개월_평균  폐업_영업_개월_평균  \\\n",
       "0  종로구  청운효자동    76717519157       4891664       106.00        61.25   \n",
       "1  종로구    사직동   294186825721      18441604       130.75        61.25   \n",
       "2  종로구    삼청동    93482870462       4547785       102.50        57.00   \n",
       "3  종로구    부암동    35862202180       2678128       105.25        59.25   \n",
       "4  종로구    평창동    70961467717       3319554       123.25        60.50   \n",
       "\n",
       "     불안전성지표     접근성지표     비환경지표      상업지표      주거지표      문화지표  \n",
       "0  0.354463  0.100722  0.158494  0.202037  0.208008  0.128717  \n",
       "1  0.354463  0.344329  0.319950  0.314926  0.181815  0.130618  \n",
       "2  0.354463  0.078244  0.156656  0.190334  0.045034  0.075384  \n",
       "3  0.354463  0.124857  0.169565  0.185269  0.162146  0.145680  \n",
       "4  0.354463  0.152640  0.120060  0.226877  0.285614  0.161079  "
      ]
     },
     "execution_count": 10,
     "metadata": {},
     "output_type": "execute_result"
    }
   ],
   "source": [
    "df_final.head()"
   ]
  },
  {
   "cell_type": "code",
   "execution_count": null,
   "metadata": {},
   "outputs": [],
   "source": []
  }
 ],
 "metadata": {
  "kernelspec": {
   "display_name": "Python 3.10.6 ('adv_analysis')",
   "language": "python",
   "name": "python3"
  },
  "language_info": {
   "codemirror_mode": {
    "name": "ipython",
    "version": 3
   },
   "file_extension": ".py",
   "mimetype": "text/x-python",
   "name": "python",
   "nbconvert_exporter": "python",
   "pygments_lexer": "ipython3",
   "version": "3.10.6"
  },
  "orig_nbformat": 4,
  "vscode": {
   "interpreter": {
    "hash": "fd4ca7ec3520f3d442737cc20e06f79c0e856b30e86c015e6f25d8bfdc13a88a"
   }
  }
 },
 "nbformat": 4,
 "nbformat_minor": 2
}

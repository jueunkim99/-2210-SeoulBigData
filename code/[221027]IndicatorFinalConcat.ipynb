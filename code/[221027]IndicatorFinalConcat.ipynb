{
 "cells": [
  {
   "cell_type": "markdown",
   "metadata": {},
   "source": [
    "## 0. 환경설정"
   ]
  },
  {
   "cell_type": "code",
   "execution_count": 1,
   "metadata": {},
   "outputs": [],
   "source": [
    "import pandas as pd\n",
    "import numpy as np\n",
    "import matplotlib.pyplot as plt\n",
    "import seaborn as sns\n",
    "\n",
    "import warnings\n",
    "warnings.filterwarnings(\"ignore\")\n",
    "pd.set_option('display.max_columns', None)\n",
    "pd.set_option('display.max_rows', None)\n",
    "\n",
    "# 시각화 관련\n",
    "from wordcloud import WordCloud, STOPWORDS, ImageColorGenerator\n",
    "from collections import Counter\n",
    "from PIL import Image\n",
    "from matplotlib import rc\n",
    "\n",
    "# 그래프에서 한글 폰트 깨지는 문제에 대한 대처(전역 글꼴 설정)\n",
    "import matplotlib.font_manager as fm\n",
    "import warnings\n",
    "warnings.filterwarnings(action='ignore') \n",
    "\n",
    "import matplotlib\n",
    "matplotlib.rcParams['font.family'] ='Malgun Gothic'\n",
    "matplotlib.rcParams['axes.unicode_minus'] =False"
   ]
  },
  {
   "cell_type": "markdown",
   "metadata": {},
   "source": [
    "## 1. concat"
   ]
  },
  {
   "cell_type": "code",
   "execution_count": 2,
   "metadata": {},
   "outputs": [
    {
     "name": "stdout",
     "output_type": "stream",
     "text": [
      "   자치구   행정동    불안전성지표\n",
      "0  강남구   신사동  0.803214\n",
      "1  강남구  삼성2동  0.803214\n",
      "    자치구  행정동     접근성지표\n",
      "0  영등포구  여의동  0.733603\n",
      "1   마포구  서교동  0.677007\n",
      "   자치구    행정동     비환경지표\n",
      "0  종로구  청운효자동  0.158494\n",
      "1  종로구    사직동  0.319950\n",
      "   자치구          행정동      상업지표\n",
      "0  강남구         역삼1동  0.694602\n",
      "1  종로구  종로1.2.3.4가동  0.598236\n",
      "   자치구    행정동      주거지표\n",
      "0  은평구    진관동  0.865993\n",
      "1  강서구  화곡제1동  0.844055\n",
      "   자치구    행정동      문화지표\n",
      "0  종로구  청운효자동  0.128717\n",
      "1  종로구    사직동  0.130618\n"
     ]
    }
   ],
   "source": [
    "d1 = pd.read_csv('[221025]safety_dong.csv')\n",
    "d2 = pd.read_csv('[221026]accessibility_dong.csv')\n",
    "d3 = pd.read_csv('[221027]environ_dong.csv',encoding = \"cp949\")\n",
    "d3.drop(['추정교통량','교통및생활소음민원수','미세먼지수치'],axis = 1,inplace=True)\n",
    "\n",
    "d5 = pd.read_csv('[221026]commercial_dong.csv')\n",
    "d6 = pd.read_csv('[221026]residence_dong.csv')\n",
    "d7 = pd.read_csv('[221027]culture_dong.csv',encoding = \"cp949\")\n",
    "d7.drop(['유적지수','관광명소수','문화생활인구','전통시장수'],axis = 1,inplace=True)\n",
    "\n",
    "d1.drop(['Unnamed: 0'],axis=1,inplace = True)\n",
    "d2.drop(['Unnamed: 0'],axis=1,inplace = True)\n",
    "d3.drop(['Unnamed: 0'],axis=1,inplace = True)\n",
    "d5.drop(['Unnamed: 0'],axis=1,inplace = True)\n",
    "d6.drop(['Unnamed: 0'],axis=1,inplace = True)\n",
    "d7.drop(['Unnamed: 0'],axis=1,inplace = True)\n",
    "\n",
    "\n",
    "d1.columns = ['자치구','행정동','불안전성지표']\n",
    "d2.columns = ['자치구','행정동','접근성지표']\n",
    "d3.columns = ['자치구','행정동','비환경지표']\n",
    "d5.columns = ['자치구','행정동','상업지표']\n",
    "d6.columns = ['자치구','행정동','주거지표']\n",
    "d7.columns = ['자치구','행정동','문화지표']\n",
    "\n",
    "print(d1.head(2))\n",
    "print(d2.head(2))\n",
    "print(d3.head(2))\n",
    "print(d5.head(2))\n",
    "print(d6.head(2))\n",
    "print(d7.head(2))"
   ]
  },
  {
   "cell_type": "code",
   "execution_count": 5,
   "metadata": {},
   "outputs": [
    {
     "data": {
      "text/html": [
       "<div>\n",
       "<style scoped>\n",
       "    .dataframe tbody tr th:only-of-type {\n",
       "        vertical-align: middle;\n",
       "    }\n",
       "\n",
       "    .dataframe tbody tr th {\n",
       "        vertical-align: top;\n",
       "    }\n",
       "\n",
       "    .dataframe thead th {\n",
       "        text-align: right;\n",
       "    }\n",
       "</style>\n",
       "<table border=\"1\" class=\"dataframe\">\n",
       "  <thead>\n",
       "    <tr style=\"text-align: right;\">\n",
       "      <th></th>\n",
       "      <th>자치구</th>\n",
       "      <th>행정동</th>\n",
       "      <th>불안전성지표</th>\n",
       "      <th>접근성지표</th>\n",
       "      <th>비환경지표</th>\n",
       "      <th>상업지표</th>\n",
       "      <th>주거지표</th>\n",
       "      <th>문화지표</th>\n",
       "    </tr>\n",
       "  </thead>\n",
       "  <tbody>\n",
       "    <tr>\n",
       "      <th>0</th>\n",
       "      <td>강남구</td>\n",
       "      <td>신사동</td>\n",
       "      <td>0.803214</td>\n",
       "      <td>0.190622</td>\n",
       "      <td>0.410824</td>\n",
       "      <td>0.385027</td>\n",
       "      <td>0.295505</td>\n",
       "      <td>0.122344</td>\n",
       "    </tr>\n",
       "    <tr>\n",
       "      <th>1</th>\n",
       "      <td>강남구</td>\n",
       "      <td>삼성2동</td>\n",
       "      <td>0.803214</td>\n",
       "      <td>0.172469</td>\n",
       "      <td>0.223742</td>\n",
       "      <td>0.254874</td>\n",
       "      <td>0.504201</td>\n",
       "      <td>0.103986</td>\n",
       "    </tr>\n",
       "    <tr>\n",
       "      <th>2</th>\n",
       "      <td>강남구</td>\n",
       "      <td>도곡2동</td>\n",
       "      <td>0.803214</td>\n",
       "      <td>0.157665</td>\n",
       "      <td>0.187969</td>\n",
       "      <td>0.246147</td>\n",
       "      <td>0.498438</td>\n",
       "      <td>0.021014</td>\n",
       "    </tr>\n",
       "    <tr>\n",
       "      <th>3</th>\n",
       "      <td>강남구</td>\n",
       "      <td>도곡1동</td>\n",
       "      <td>0.803214</td>\n",
       "      <td>0.160310</td>\n",
       "      <td>0.296284</td>\n",
       "      <td>0.238506</td>\n",
       "      <td>0.364411</td>\n",
       "      <td>0.011785</td>\n",
       "    </tr>\n",
       "    <tr>\n",
       "      <th>4</th>\n",
       "      <td>강남구</td>\n",
       "      <td>역삼2동</td>\n",
       "      <td>0.803214</td>\n",
       "      <td>0.130481</td>\n",
       "      <td>0.268705</td>\n",
       "      <td>0.263553</td>\n",
       "      <td>0.611094</td>\n",
       "      <td>0.038454</td>\n",
       "    </tr>\n",
       "  </tbody>\n",
       "</table>\n",
       "</div>"
      ],
      "text/plain": [
       "   자치구   행정동    불안전성지표     접근성지표     비환경지표      상업지표      주거지표      문화지표\n",
       "0  강남구   신사동  0.803214  0.190622  0.410824  0.385027  0.295505  0.122344\n",
       "1  강남구  삼성2동  0.803214  0.172469  0.223742  0.254874  0.504201  0.103986\n",
       "2  강남구  도곡2동  0.803214  0.157665  0.187969  0.246147  0.498438  0.021014\n",
       "3  강남구  도곡1동  0.803214  0.160310  0.296284  0.238506  0.364411  0.011785\n",
       "4  강남구  역삼2동  0.803214  0.130481  0.268705  0.263553  0.611094  0.038454"
      ]
     },
     "execution_count": 5,
     "metadata": {},
     "output_type": "execute_result"
    }
   ],
   "source": [
    "df = pd.merge(d1,d2,how='outer')\n",
    "df = pd.merge(df,d3,how='outer')\n",
    "df = pd.merge(df,d5,how='outer')\n",
    "df = pd.merge(df,d6,how='outer')\n",
    "df = pd.merge(df,d7,how='outer')\n",
    "df.head()"
   ]
  },
  {
   "cell_type": "code",
   "execution_count": 6,
   "metadata": {},
   "outputs": [
    {
     "name": "stdout",
     "output_type": "stream",
     "text": [
      "<class 'pandas.core.frame.DataFrame'>\n",
      "Int64Index: 426 entries, 0 to 425\n",
      "Data columns (total 8 columns):\n",
      " #   Column  Non-Null Count  Dtype  \n",
      "---  ------  --------------  -----  \n",
      " 0   자치구     426 non-null    object \n",
      " 1   행정동     426 non-null    object \n",
      " 2   불안전성지표  426 non-null    float64\n",
      " 3   접근성지표   426 non-null    float64\n",
      " 4   비환경지표   426 non-null    float64\n",
      " 5   상업지표    417 non-null    float64\n",
      " 6   주거지표    426 non-null    float64\n",
      " 7   문화지표    426 non-null    float64\n",
      "dtypes: float64(6), object(2)\n",
      "memory usage: 30.0+ KB\n"
     ]
    }
   ],
   "source": [
    "df.info()"
   ]
  },
  {
   "cell_type": "code",
   "execution_count": 8,
   "metadata": {},
   "outputs": [
    {
     "data": {
      "text/html": [
       "<div>\n",
       "<style scoped>\n",
       "    .dataframe tbody tr th:only-of-type {\n",
       "        vertical-align: middle;\n",
       "    }\n",
       "\n",
       "    .dataframe tbody tr th {\n",
       "        vertical-align: top;\n",
       "    }\n",
       "\n",
       "    .dataframe thead th {\n",
       "        text-align: right;\n",
       "    }\n",
       "</style>\n",
       "<table border=\"1\" class=\"dataframe\">\n",
       "  <thead>\n",
       "    <tr style=\"text-align: right;\">\n",
       "      <th></th>\n",
       "      <th>자치구</th>\n",
       "      <th>행정동</th>\n",
       "      <th>불안전성지표</th>\n",
       "      <th>접근성지표</th>\n",
       "      <th>비환경지표</th>\n",
       "      <th>상업지표</th>\n",
       "      <th>주거지표</th>\n",
       "      <th>문화지표</th>\n",
       "    </tr>\n",
       "  </thead>\n",
       "  <tbody>\n",
       "    <tr>\n",
       "      <th>0</th>\n",
       "      <td>강남구</td>\n",
       "      <td>신사동</td>\n",
       "      <td>0.803214</td>\n",
       "      <td>0.190622</td>\n",
       "      <td>0.410824</td>\n",
       "      <td>0.385027</td>\n",
       "      <td>0.295505</td>\n",
       "      <td>0.122344</td>\n",
       "    </tr>\n",
       "    <tr>\n",
       "      <th>1</th>\n",
       "      <td>강남구</td>\n",
       "      <td>삼성2동</td>\n",
       "      <td>0.803214</td>\n",
       "      <td>0.172469</td>\n",
       "      <td>0.223742</td>\n",
       "      <td>0.254874</td>\n",
       "      <td>0.504201</td>\n",
       "      <td>0.103986</td>\n",
       "    </tr>\n",
       "    <tr>\n",
       "      <th>2</th>\n",
       "      <td>강남구</td>\n",
       "      <td>도곡2동</td>\n",
       "      <td>0.803214</td>\n",
       "      <td>0.157665</td>\n",
       "      <td>0.187969</td>\n",
       "      <td>0.246147</td>\n",
       "      <td>0.498438</td>\n",
       "      <td>0.021014</td>\n",
       "    </tr>\n",
       "    <tr>\n",
       "      <th>3</th>\n",
       "      <td>강남구</td>\n",
       "      <td>도곡1동</td>\n",
       "      <td>0.803214</td>\n",
       "      <td>0.160310</td>\n",
       "      <td>0.296284</td>\n",
       "      <td>0.238506</td>\n",
       "      <td>0.364411</td>\n",
       "      <td>0.011785</td>\n",
       "    </tr>\n",
       "    <tr>\n",
       "      <th>4</th>\n",
       "      <td>강남구</td>\n",
       "      <td>역삼2동</td>\n",
       "      <td>0.803214</td>\n",
       "      <td>0.130481</td>\n",
       "      <td>0.268705</td>\n",
       "      <td>0.263553</td>\n",
       "      <td>0.611094</td>\n",
       "      <td>0.038454</td>\n",
       "    </tr>\n",
       "  </tbody>\n",
       "</table>\n",
       "</div>"
      ],
      "text/plain": [
       "   자치구   행정동    불안전성지표     접근성지표     비환경지표      상업지표      주거지표      문화지표\n",
       "0  강남구   신사동  0.803214  0.190622  0.410824  0.385027  0.295505  0.122344\n",
       "1  강남구  삼성2동  0.803214  0.172469  0.223742  0.254874  0.504201  0.103986\n",
       "2  강남구  도곡2동  0.803214  0.157665  0.187969  0.246147  0.498438  0.021014\n",
       "3  강남구  도곡1동  0.803214  0.160310  0.296284  0.238506  0.364411  0.011785\n",
       "4  강남구  역삼2동  0.803214  0.130481  0.268705  0.263553  0.611094  0.038454"
      ]
     },
     "execution_count": 8,
     "metadata": {},
     "output_type": "execute_result"
    }
   ],
   "source": [
    "df.head()"
   ]
  },
  {
   "cell_type": "code",
   "execution_count": 9,
   "metadata": {},
   "outputs": [],
   "source": [
    "df.to_csv('[221029]Indicator_concat_ver1.csv')"
   ]
  },
  {
   "cell_type": "markdown",
   "metadata": {},
   "source": [
    "## 비고.\n",
    "* merge 설명 : https://mizykk.tistory.com/82"
   ]
  },
  {
   "cell_type": "markdown",
   "metadata": {},
   "source": []
  }
 ],
 "metadata": {
  "kernelspec": {
   "display_name": "Python 3.10.6 ('adv_analysis')",
   "language": "python",
   "name": "python3"
  },
  "language_info": {
   "codemirror_mode": {
    "name": "ipython",
    "version": 3
   },
   "file_extension": ".py",
   "mimetype": "text/x-python",
   "name": "python",
   "nbconvert_exporter": "python",
   "pygments_lexer": "ipython3",
   "version": "3.10.6"
  },
  "orig_nbformat": 4,
  "vscode": {
   "interpreter": {
    "hash": "fd4ca7ec3520f3d442737cc20e06f79c0e856b30e86c015e6f25d8bfdc13a88a"
   }
  }
 },
 "nbformat": 4,
 "nbformat_minor": 2
}

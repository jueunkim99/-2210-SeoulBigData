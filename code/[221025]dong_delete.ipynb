{
 "cells": [
  {
   "cell_type": "markdown",
   "metadata": {},
   "source": [
    "### 0. 환경설정"
   ]
  },
  {
   "cell_type": "code",
   "execution_count": 2,
   "metadata": {},
   "outputs": [],
   "source": [
    "import pandas as pd\n",
    "import numpy as np\n",
    "import matplotlib.pyplot as plt\n",
    "import seaborn as sns\n",
    "\n",
    "import warnings\n",
    "warnings.filterwarnings(\"ignore\")\n",
    "pd.set_option('display.max_columns', None)\n",
    "pd.set_option('display.max_rows', None)\n",
    "\n",
    "# 시각화 관련\n",
    "from wordcloud import WordCloud, STOPWORDS, ImageColorGenerator\n",
    "from collections import Counter\n",
    "from PIL import Image\n",
    "from matplotlib import rc\n",
    "\n",
    "# 그래프에서 한글 폰트 깨지는 문제에 대한 대처(전역 글꼴 설정)\n",
    "import matplotlib.font_manager as fm\n",
    "import warnings\n",
    "warnings.filterwarnings(action='ignore') \n",
    "\n",
    "import matplotlib\n",
    "matplotlib.rcParams['font.family'] ='Malgun Gothic'\n",
    "matplotlib.rcParams['axes.unicode_minus'] =False"
   ]
  },
  {
   "cell_type": "markdown",
   "metadata": {},
   "source": [
    "### 1. 버스\n",
    "* [후과정]공식명칭 행정동 추출_(동만 추출하는 과정은 X)\n",
    "* 전체과정은 '2.자전거'로 가기"
   ]
  },
  {
   "cell_type": "code",
   "execution_count": 4,
   "metadata": {},
   "outputs": [
    {
     "data": {
      "text/html": [
       "<div>\n",
       "<style scoped>\n",
       "    .dataframe tbody tr th:only-of-type {\n",
       "        vertical-align: middle;\n",
       "    }\n",
       "\n",
       "    .dataframe tbody tr th {\n",
       "        vertical-align: top;\n",
       "    }\n",
       "\n",
       "    .dataframe thead th {\n",
       "        text-align: right;\n",
       "    }\n",
       "</style>\n",
       "<table border=\"1\" class=\"dataframe\">\n",
       "  <thead>\n",
       "    <tr style=\"text-align: right;\">\n",
       "      <th></th>\n",
       "      <th>자치구명</th>\n",
       "      <th>행정구역명</th>\n",
       "      <th>법정동</th>\n",
       "      <th>행정구역분류</th>\n",
       "    </tr>\n",
       "  </thead>\n",
       "  <tbody>\n",
       "    <tr>\n",
       "      <th>2</th>\n",
       "      <td>종로구</td>\n",
       "      <td>청운효자동</td>\n",
       "      <td>청운동</td>\n",
       "      <td>1101072</td>\n",
       "    </tr>\n",
       "    <tr>\n",
       "      <th>3</th>\n",
       "      <td>종로구</td>\n",
       "      <td>청운효자동</td>\n",
       "      <td>신교동</td>\n",
       "      <td>1101072</td>\n",
       "    </tr>\n",
       "    <tr>\n",
       "      <th>4</th>\n",
       "      <td>종로구</td>\n",
       "      <td>청운효자동</td>\n",
       "      <td>궁정동</td>\n",
       "      <td>1101072</td>\n",
       "    </tr>\n",
       "    <tr>\n",
       "      <th>5</th>\n",
       "      <td>종로구</td>\n",
       "      <td>청운효자동</td>\n",
       "      <td>효자동</td>\n",
       "      <td>1101072</td>\n",
       "    </tr>\n",
       "    <tr>\n",
       "      <th>6</th>\n",
       "      <td>종로구</td>\n",
       "      <td>청운효자동</td>\n",
       "      <td>창성동</td>\n",
       "      <td>1101072</td>\n",
       "    </tr>\n",
       "  </tbody>\n",
       "</table>\n",
       "</div>"
      ],
      "text/plain": [
       "  자치구명  행정구역명  법정동   행정구역분류\n",
       "2  종로구  청운효자동  청운동  1101072\n",
       "3  종로구  청운효자동  신교동  1101072\n",
       "4  종로구  청운효자동  궁정동  1101072\n",
       "5  종로구  청운효자동  효자동  1101072\n",
       "6  종로구  청운효자동  창성동  1101072"
      ]
     },
     "execution_count": 4,
     "metadata": {},
     "output_type": "execute_result"
    }
   ],
   "source": [
    "df = pd.read_csv(\"data/행정구역전처리.csv\", index_col=0)\n",
    "df.head()"
   ]
  },
  {
   "cell_type": "code",
   "execution_count": 5,
   "metadata": {},
   "outputs": [
    {
     "data": {
      "text/plain": [
       "array(['청운효자동', '사직동', '삼청동', '부암동', '평창동', '무악동', '교남동', '가회동',\n",
       "       '종로1.2.3.4가동', '종로5.6가동', '이화동', '혜화동', '창신1동', '창신2동', '창신3동',\n",
       "       '숭인1동', '숭인2동', '소공동', '회현동', '명동', '필동', '장충동', '광희동', '을지로동',\n",
       "       '신당동', '다산동', '약수동', '청구동', '신당5동', '동화동', '황학동', '중림동', '후암동',\n",
       "       '용산2가동', '남영동', '청파동', '원효로1동', '원효로2동', '효창동', '용문동', '한강로동',\n",
       "       '이촌1동', '이촌2동', '이태원1동', '이태원2동', '한남동', '서빙고동', '보광동', '왕십리2동',\n",
       "       '왕십리도선동', '마장동', '사근동', '행당1동', '행당2동', '응봉동', '금호1가동', '금호2.3가동',\n",
       "       '금호4가동', '옥수동', '성수1가1동', '성수1가2동', '성수2가1동', '성수2가3동', '송정동',\n",
       "       '용답동', '화양동', '군자동', '중곡1동', '중곡2동', '중곡3동', '중곡4동', '능동', '광장동',\n",
       "       '자양1동', '자양2동', '자양3동', '자양4동', '구의1동', '구의2동', '구의3동', '용신동',\n",
       "       '제기동', '전농1동', '전농2동', '답십리1동', '답십리2동', '장안1동', '장안2동', '청량리동',\n",
       "       '회기동', '휘경1동', '휘경2동', '이문1동', '이문2동', '면목2동', '면목4동', '면목5동',\n",
       "       '면목본동', '면목7동', '면목3.8동', '상봉1동', '상봉2동', '중화1동', '중화2동', '묵1동',\n",
       "       '묵2동', '망우본동', '망우3동', '신내1동', '신내2동', '성북동', '삼선동', '동선동', '돈암1동',\n",
       "       '돈암2동', '안암동', '보문동', '정릉1동', '정릉2동', '정릉3동', '정릉4동', '길음1동',\n",
       "       '길음2동', '종암동', '월곡1동', '월곡2동', '장위1동', '장위2동', '장위3동', '석관동',\n",
       "       '삼양동', '미아동', '송중동', '송천동', '삼각산동', '번1동', '번2동', '번3동', '수유1동',\n",
       "       '수유2동', '수유3동', '우이동', '인수동', '창1동', '창2동', '창3동', '창4동', '창5동',\n",
       "       '도봉1동', '도봉2동', '쌍문1동', '쌍문2동', '쌍문3동', '쌍문4동', '방학1동', '방학2동',\n",
       "       '방학3동', '월계1동', '월계2동', '월계3동', '공릉1동', '공릉2동', '하계1동', '하계2동',\n",
       "       '중계본동', '중계1동', '중계4동', '중계2.3동', '상계1동', '상계2동', '상계3.4동', '상계5동',\n",
       "       '상계6.7동', '상계8동', '상계9동', '상계10동', '녹번동', '불광1동', '불광2동', '갈현1동',\n",
       "       '갈현2동', '구산동', '대조동', '응암1동', '응암2동', '응암3동', '역촌동', '신사1동',\n",
       "       '신사2동', '증산동', '수색동', '진관동', '천연동', '북아현동', '충현동', '신촌동', '연희동',\n",
       "       '홍제1동', '홍제3동', '홍제2동', '홍은1동', '홍은2동', '남가좌1동', '남가좌2동', '북가좌1동',\n",
       "       '북가좌2동', '아현동', '공덕동', '도화동', '용강동', '대흥동', '염리동', '신수동', '서강동',\n",
       "       '서교동', '합정동', '망원1동', '망원2동', '연남동', '성산1동', '성산2동', '상암동', '목1동',\n",
       "       '목2동', '목3동', '목4동', '목5동', '신월1동', '신월2동', '신월3동', '신월4동', '신월5동',\n",
       "       '신월6동', '신월7동', '신정1동', '신정2동', '신정3동', '신정4동', '신정6동', '신정7동',\n",
       "       '염창동', '등촌1동', '등촌2동', '등촌3동', '화곡1동', '화곡2동', '화곡3동', '화곡4동',\n",
       "       '화곡본동', '화곡6동', '화곡8동', '가양1동', '가양2동', '가양3동', '발산1동', '우장산동',\n",
       "       '공항동', '방화1동', '방화2동', '방화3동', '신도림동', '구로1동', '구로2동', '구로3동',\n",
       "       '구로4동', '구로5동', '가리봉동', '고척1동', '고척2동', '개봉1동', '개봉2동', '개봉3동',\n",
       "       '오류1동', '오류2동', '수궁동', '항동', '가산동', '독산1동', '독산2동', '독산3동', '독산4동',\n",
       "       '시흥1동', '시흥2동', '시흥3동', '시흥4동', '시흥5동', '영등포본동', '영등포동', '여의동',\n",
       "       '당산1동', '당산2동', '도림동', '문래동', '양평1동', '양평2동', '신길1동', '신길3동',\n",
       "       '신길4동', '신길5동', '신길6동', '신길7동', '대림1동', '대림2동', '대림3동', '노량진1동',\n",
       "       '노량진2동', '상도1동', '상도2동', '상도3동', '상도4동', '흑석동', '사당1동', '사당2동',\n",
       "       '사당3동', '사당4동', '사당5동', '대방동', '신대방1동', '신대방2동', '보라매동', '청림동',\n",
       "       '성현동', '행운동', '낙성대동', '청룡동', '은천동', '중앙동', '인헌동', '남현동', '서원동',\n",
       "       '신원동', '서림동', '신사동', '신림동', '난향동', '조원동', '대학동', '삼성동', '미성동',\n",
       "       '난곡동', '서초1동', '서초2동', '서초3동', '서초4동', '잠원동', '반포본동', '반포1동',\n",
       "       '반포2동', '반포3동', '반포4동', '방배본동', '방배1동', '방배2동', '방배3동', '방배4동',\n",
       "       '양재1동', '양재2동', '내곡동', '논현1동', '논현2동', '압구정동', '청담동', '삼성1동',\n",
       "       '삼성2동', '대치1동', '대치2동', '대치4동', '역삼1동', '역삼2동', '도곡1동', '도곡2동',\n",
       "       '개포1동', '개포2동', '개포4동', '세곡동', '일원본동', '일원1동', '일원2동', '수서동',\n",
       "       '풍납1동', '풍납2동', '거여1동', '거여2동', '마천1동', '마천2동', '방이1동', '방이2동',\n",
       "       '오륜동', '오금동', '송파1동', '송파2동', '석촌동', '삼전동', '가락본동', '가락1동', '가락2동',\n",
       "       '문정1동', '문정2동', '장지동', '위례동', '잠실본동', '잠실2동', '잠실3동', '잠실4동',\n",
       "       '잠실6동', '잠실7동', '강일동', '상일1동', '상일2동', '명일1동', '명일2동', '고덕1동',\n",
       "       '고덕2동', '암사1동', '암사2동', '암사3동', '천호1동', '천호2동', '천호3동', '성내1동',\n",
       "       '성내2동', '성내3동', '길동', '둔촌1동', '둔촌2동'], dtype=object)"
      ]
     },
     "execution_count": 5,
     "metadata": {},
     "output_type": "execute_result"
    }
   ],
   "source": [
    "df['행정구역명'].unique()"
   ]
  },
  {
   "cell_type": "code",
   "execution_count": 35,
   "metadata": {},
   "outputs": [
    {
     "data": {
      "text/html": [
       "<div>\n",
       "<style scoped>\n",
       "    .dataframe tbody tr th:only-of-type {\n",
       "        vertical-align: middle;\n",
       "    }\n",
       "\n",
       "    .dataframe tbody tr th {\n",
       "        vertical-align: top;\n",
       "    }\n",
       "\n",
       "    .dataframe thead th {\n",
       "        text-align: right;\n",
       "    }\n",
       "</style>\n",
       "<table border=\"1\" class=\"dataframe\">\n",
       "  <thead>\n",
       "    <tr style=\"text-align: right;\">\n",
       "      <th></th>\n",
       "      <th>0</th>\n",
       "      <th>1</th>\n",
       "    </tr>\n",
       "  </thead>\n",
       "  <tbody>\n",
       "    <tr>\n",
       "      <th>1</th>\n",
       "      <td>성북동</td>\n",
       "      <td>True</td>\n",
       "    </tr>\n",
       "    <tr>\n",
       "      <th>2</th>\n",
       "      <td>종로1.2.3.4가동</td>\n",
       "      <td>True</td>\n",
       "    </tr>\n",
       "    <tr>\n",
       "      <th>3</th>\n",
       "      <td>혜화동</td>\n",
       "      <td>True</td>\n",
       "    </tr>\n",
       "    <tr>\n",
       "      <th>5</th>\n",
       "      <td>성북동</td>\n",
       "      <td>True</td>\n",
       "    </tr>\n",
       "    <tr>\n",
       "      <th>7</th>\n",
       "      <td>혜화동</td>\n",
       "      <td>True</td>\n",
       "    </tr>\n",
       "  </tbody>\n",
       "</table>\n",
       "</div>"
      ],
      "text/plain": [
       "             0     1\n",
       "1          성북동  True\n",
       "2  종로1.2.3.4가동  True\n",
       "3          혜화동  True\n",
       "5          성북동  True\n",
       "7          혜화동  True"
      ]
     },
     "execution_count": 35,
     "metadata": {},
     "output_type": "execute_result"
    }
   ],
   "source": [
    "df2 = pd.read_csv(\"dong_bus.csv\", index_col=0,encoding = 'cp949')\n",
    "df2['0'] = df2['0'].str.replace(' ','')\n",
    "df2['0'] = df2['0'].str.replace('·','.')\n",
    "df2.head()"
   ]
  },
  {
   "cell_type": "code",
   "execution_count": 36,
   "metadata": {},
   "outputs": [
    {
     "data": {
      "text/plain": [
       "(11531, 2)"
      ]
     },
     "execution_count": 36,
     "metadata": {},
     "output_type": "execute_result"
    }
   ],
   "source": [
    "df2.shape"
   ]
  },
  {
   "cell_type": "code",
   "execution_count": 30,
   "metadata": {},
   "outputs": [
    {
     "data": {
      "text/plain": [
       "False"
      ]
     },
     "execution_count": 30,
     "metadata": {},
     "output_type": "execute_result"
    }
   ],
   "source": [
    "\"1동\" in df['행정구역명'].unique()"
   ]
  },
  {
   "cell_type": "code",
   "execution_count": 37,
   "metadata": {},
   "outputs": [
    {
     "data": {
      "text/html": [
       "<div>\n",
       "<style scoped>\n",
       "    .dataframe tbody tr th:only-of-type {\n",
       "        vertical-align: middle;\n",
       "    }\n",
       "\n",
       "    .dataframe tbody tr th {\n",
       "        vertical-align: top;\n",
       "    }\n",
       "\n",
       "    .dataframe thead th {\n",
       "        text-align: right;\n",
       "    }\n",
       "</style>\n",
       "<table border=\"1\" class=\"dataframe\">\n",
       "  <thead>\n",
       "    <tr style=\"text-align: right;\">\n",
       "      <th></th>\n",
       "      <th>0</th>\n",
       "      <th>1</th>\n",
       "      <th>final</th>\n",
       "    </tr>\n",
       "  </thead>\n",
       "  <tbody>\n",
       "    <tr>\n",
       "      <th>1</th>\n",
       "      <td>성북동</td>\n",
       "      <td>True</td>\n",
       "      <td>True</td>\n",
       "    </tr>\n",
       "    <tr>\n",
       "      <th>2</th>\n",
       "      <td>종로1.2.3.4가동</td>\n",
       "      <td>True</td>\n",
       "      <td>True</td>\n",
       "    </tr>\n",
       "    <tr>\n",
       "      <th>3</th>\n",
       "      <td>혜화동</td>\n",
       "      <td>True</td>\n",
       "      <td>True</td>\n",
       "    </tr>\n",
       "    <tr>\n",
       "      <th>5</th>\n",
       "      <td>성북동</td>\n",
       "      <td>True</td>\n",
       "      <td>True</td>\n",
       "    </tr>\n",
       "    <tr>\n",
       "      <th>7</th>\n",
       "      <td>혜화동</td>\n",
       "      <td>True</td>\n",
       "      <td>True</td>\n",
       "    </tr>\n",
       "  </tbody>\n",
       "</table>\n",
       "</div>"
      ],
      "text/plain": [
       "             0     1  final\n",
       "1          성북동  True   True\n",
       "2  종로1.2.3.4가동  True   True\n",
       "3          혜화동  True   True\n",
       "5          성북동  True   True\n",
       "7          혜화동  True   True"
      ]
     },
     "execution_count": 37,
     "metadata": {},
     "output_type": "execute_result"
    }
   ],
   "source": [
    "df2[\"final\"] = df2['0'].isin(df['행정구역명'].unique())\n",
    "df2.head()"
   ]
  },
  {
   "cell_type": "code",
   "execution_count": 39,
   "metadata": {},
   "outputs": [
    {
     "data": {
      "text/plain": [
       "(9707, 3)"
      ]
     },
     "execution_count": 39,
     "metadata": {},
     "output_type": "execute_result"
    }
   ],
   "source": [
    "df2 = df2[df2['final']==True]\n",
    "df2.shape"
   ]
  },
  {
   "cell_type": "code",
   "execution_count": 40,
   "metadata": {},
   "outputs": [
    {
     "data": {
      "text/html": [
       "<div>\n",
       "<style scoped>\n",
       "    .dataframe tbody tr th:only-of-type {\n",
       "        vertical-align: middle;\n",
       "    }\n",
       "\n",
       "    .dataframe tbody tr th {\n",
       "        vertical-align: top;\n",
       "    }\n",
       "\n",
       "    .dataframe thead th {\n",
       "        text-align: right;\n",
       "    }\n",
       "</style>\n",
       "<table border=\"1\" class=\"dataframe\">\n",
       "  <thead>\n",
       "    <tr style=\"text-align: right;\">\n",
       "      <th></th>\n",
       "      <th>0</th>\n",
       "      <th>1</th>\n",
       "      <th>final</th>\n",
       "    </tr>\n",
       "  </thead>\n",
       "  <tbody>\n",
       "    <tr>\n",
       "      <th>1</th>\n",
       "      <td>성북동</td>\n",
       "      <td>True</td>\n",
       "      <td>True</td>\n",
       "    </tr>\n",
       "    <tr>\n",
       "      <th>2</th>\n",
       "      <td>종로1.2.3.4가동</td>\n",
       "      <td>True</td>\n",
       "      <td>True</td>\n",
       "    </tr>\n",
       "    <tr>\n",
       "      <th>3</th>\n",
       "      <td>혜화동</td>\n",
       "      <td>True</td>\n",
       "      <td>True</td>\n",
       "    </tr>\n",
       "    <tr>\n",
       "      <th>5</th>\n",
       "      <td>성북동</td>\n",
       "      <td>True</td>\n",
       "      <td>True</td>\n",
       "    </tr>\n",
       "    <tr>\n",
       "      <th>7</th>\n",
       "      <td>혜화동</td>\n",
       "      <td>True</td>\n",
       "      <td>True</td>\n",
       "    </tr>\n",
       "  </tbody>\n",
       "</table>\n",
       "</div>"
      ],
      "text/plain": [
       "             0     1  final\n",
       "1          성북동  True   True\n",
       "2  종로1.2.3.4가동  True   True\n",
       "3          혜화동  True   True\n",
       "5          성북동  True   True\n",
       "7          혜화동  True   True"
      ]
     },
     "execution_count": 40,
     "metadata": {},
     "output_type": "execute_result"
    }
   ],
   "source": [
    "df2.head()"
   ]
  },
  {
   "cell_type": "code",
   "execution_count": 43,
   "metadata": {},
   "outputs": [
    {
     "data": {
      "text/html": [
       "<div>\n",
       "<style scoped>\n",
       "    .dataframe tbody tr th:only-of-type {\n",
       "        vertical-align: middle;\n",
       "    }\n",
       "\n",
       "    .dataframe tbody tr th {\n",
       "        vertical-align: top;\n",
       "    }\n",
       "\n",
       "    .dataframe thead th {\n",
       "        text-align: right;\n",
       "    }\n",
       "</style>\n",
       "<table border=\"1\" class=\"dataframe\">\n",
       "  <thead>\n",
       "    <tr style=\"text-align: right;\">\n",
       "      <th></th>\n",
       "      <th>0</th>\n",
       "    </tr>\n",
       "  </thead>\n",
       "  <tbody>\n",
       "    <tr>\n",
       "      <th>1</th>\n",
       "      <td>성북동</td>\n",
       "    </tr>\n",
       "    <tr>\n",
       "      <th>2</th>\n",
       "      <td>종로1.2.3.4가동</td>\n",
       "    </tr>\n",
       "    <tr>\n",
       "      <th>3</th>\n",
       "      <td>혜화동</td>\n",
       "    </tr>\n",
       "    <tr>\n",
       "      <th>5</th>\n",
       "      <td>성북동</td>\n",
       "    </tr>\n",
       "    <tr>\n",
       "      <th>7</th>\n",
       "      <td>혜화동</td>\n",
       "    </tr>\n",
       "  </tbody>\n",
       "</table>\n",
       "</div>"
      ],
      "text/plain": [
       "             0\n",
       "1          성북동\n",
       "2  종로1.2.3.4가동\n",
       "3          혜화동\n",
       "5          성북동\n",
       "7          혜화동"
      ]
     },
     "execution_count": 43,
     "metadata": {},
     "output_type": "execute_result"
    }
   ],
   "source": [
    "df2 = df2.drop(['1','final'],axis=1)\n",
    "df2.head()"
   ]
  },
  {
   "cell_type": "code",
   "execution_count": 44,
   "metadata": {},
   "outputs": [],
   "source": [
    "df2.to_csv('bus_dong_final.csv')"
   ]
  },
  {
   "cell_type": "markdown",
   "metadata": {},
   "source": [
    "### 2. 자전거\n",
    "* [전과정]원본 전처리->공식명칭 행정동 추출"
   ]
  },
  {
   "cell_type": "code",
   "execution_count": 46,
   "metadata": {},
   "outputs": [
    {
     "data": {
      "text/html": [
       "<div>\n",
       "<style scoped>\n",
       "    .dataframe tbody tr th:only-of-type {\n",
       "        vertical-align: middle;\n",
       "    }\n",
       "\n",
       "    .dataframe tbody tr th {\n",
       "        vertical-align: top;\n",
       "    }\n",
       "\n",
       "    .dataframe thead th {\n",
       "        text-align: right;\n",
       "    }\n",
       "</style>\n",
       "<table border=\"1\" class=\"dataframe\">\n",
       "  <thead>\n",
       "    <tr style=\"text-align: right;\">\n",
       "      <th></th>\n",
       "      <th>대여소번호</th>\n",
       "      <th>대여소명</th>\n",
       "      <th>자치구</th>\n",
       "      <th>상세주소</th>\n",
       "      <th>위도</th>\n",
       "      <th>경도</th>\n",
       "      <th>설치시기</th>\n",
       "      <th>설치형태LCD</th>\n",
       "      <th>설치형태QR</th>\n",
       "      <th>운영방식</th>\n",
       "      <th>address</th>\n",
       "    </tr>\n",
       "  </thead>\n",
       "  <tbody>\n",
       "    <tr>\n",
       "      <th>4</th>\n",
       "      <td>102.0</td>\n",
       "      <td>망원역 1번출구 앞</td>\n",
       "      <td>마포구</td>\n",
       "      <td>서울특별시 마포구 월드컵로 72</td>\n",
       "      <td>37.555649</td>\n",
       "      <td>126.910629</td>\n",
       "      <td>2022-05-03</td>\n",
       "      <td>NaN</td>\n",
       "      <td>15.0</td>\n",
       "      <td>QR</td>\n",
       "      <td>스타벅스, 74, 월드컵로, 서교동, 마포구, 서울, 04004, 대한민국</td>\n",
       "    </tr>\n",
       "    <tr>\n",
       "      <th>5</th>\n",
       "      <td>103.0</td>\n",
       "      <td>망원역 2번출구 앞</td>\n",
       "      <td>마포구</td>\n",
       "      <td>서울특별시 마포구 월드컵로 79</td>\n",
       "      <td>37.554951</td>\n",
       "      <td>126.910835</td>\n",
       "      <td>2022-05-03</td>\n",
       "      <td>NaN</td>\n",
       "      <td>14.0</td>\n",
       "      <td>QR</td>\n",
       "      <td>기업은행서교동지점 (최규하대통령가옥), 월드컵로11길, 19통, 망원1동, 마포구,...</td>\n",
       "    </tr>\n",
       "    <tr>\n",
       "      <th>6</th>\n",
       "      <td>104.0</td>\n",
       "      <td>합정역 1번출구 앞</td>\n",
       "      <td>마포구</td>\n",
       "      <td>서울특별시 마포구 양화로 59</td>\n",
       "      <td>37.550629</td>\n",
       "      <td>126.914986</td>\n",
       "      <td>2022-05-12</td>\n",
       "      <td>NaN</td>\n",
       "      <td>13.0</td>\n",
       "      <td>QR</td>\n",
       "      <td>합정역 1번출구, 양화로, 홍대거리, 서교동, 마포구, 서울, 04045, 대한민국</td>\n",
       "    </tr>\n",
       "  </tbody>\n",
       "</table>\n",
       "</div>"
      ],
      "text/plain": [
       "   대여소번호        대여소명  자치구               상세주소         위도          경도  \\\n",
       "4  102.0  망원역 1번출구 앞  마포구  서울특별시 마포구 월드컵로 72  37.555649  126.910629   \n",
       "5  103.0  망원역 2번출구 앞  마포구  서울특별시 마포구 월드컵로 79  37.554951  126.910835   \n",
       "6  104.0  합정역 1번출구 앞  마포구   서울특별시 마포구 양화로 59  37.550629  126.914986   \n",
       "\n",
       "         설치시기  설치형태LCD  설치형태QR 운영방식  \\\n",
       "4  2022-05-03      NaN    15.0   QR   \n",
       "5  2022-05-03      NaN    14.0   QR   \n",
       "6  2022-05-12      NaN    13.0   QR   \n",
       "\n",
       "                                             address  \n",
       "4          스타벅스, 74, 월드컵로, 서교동, 마포구, 서울, 04004, 대한민국  \n",
       "5  기업은행서교동지점 (최규하대통령가옥), 월드컵로11길, 19통, 망원1동, 마포구,...  \n",
       "6     합정역 1번출구, 양화로, 홍대거리, 서교동, 마포구, 서울, 04045, 대한민국  "
      ]
     },
     "execution_count": 46,
     "metadata": {},
     "output_type": "execute_result"
    }
   ],
   "source": [
    "df = pd.read_csv(\"data/자전거주소변환.csv\", index_col=0)\n",
    "df.head(3)"
   ]
  },
  {
   "cell_type": "code",
   "execution_count": 48,
   "metadata": {},
   "outputs": [
    {
     "data": {
      "text/plain": [
       "(2645, 11)"
      ]
     },
     "execution_count": 48,
     "metadata": {},
     "output_type": "execute_result"
    }
   ],
   "source": [
    "df = df[df['address'].str.contains('서울')] ## df[조건식]\n",
    "df.shape"
   ]
  },
  {
   "cell_type": "code",
   "execution_count": 50,
   "metadata": {},
   "outputs": [
    {
     "data": {
      "text/html": [
       "<div>\n",
       "<style scoped>\n",
       "    .dataframe tbody tr th:only-of-type {\n",
       "        vertical-align: middle;\n",
       "    }\n",
       "\n",
       "    .dataframe tbody tr th {\n",
       "        vertical-align: top;\n",
       "    }\n",
       "\n",
       "    .dataframe thead th {\n",
       "        text-align: right;\n",
       "    }\n",
       "</style>\n",
       "<table border=\"1\" class=\"dataframe\">\n",
       "  <thead>\n",
       "    <tr style=\"text-align: right;\">\n",
       "      <th></th>\n",
       "      <th>0</th>\n",
       "    </tr>\n",
       "  </thead>\n",
       "  <tbody>\n",
       "    <tr>\n",
       "      <th>0</th>\n",
       "      <td>서교동</td>\n",
       "    </tr>\n",
       "    <tr>\n",
       "      <th>1</th>\n",
       "      <td>기업은행서교동지점 (최규하대통령가옥)</td>\n",
       "    </tr>\n",
       "    <tr>\n",
       "      <th>2</th>\n",
       "      <td>망원1동</td>\n",
       "    </tr>\n",
       "    <tr>\n",
       "      <th>3</th>\n",
       "      <td>서교동</td>\n",
       "    </tr>\n",
       "    <tr>\n",
       "      <th>4</th>\n",
       "      <td>동양한강트레벨 오피스텔</td>\n",
       "    </tr>\n",
       "  </tbody>\n",
       "</table>\n",
       "</div>"
      ],
      "text/plain": [
       "                      0\n",
       "0                   서교동\n",
       "1  기업은행서교동지점 (최규하대통령가옥)\n",
       "2                  망원1동\n",
       "3                   서교동\n",
       "4          동양한강트레벨 오피스텔"
      ]
     },
     "execution_count": 50,
     "metadata": {},
     "output_type": "execute_result"
    }
   ],
   "source": [
    "address_list = df['address'].values.tolist()\n",
    "address_list = \",\".join(address_list)\n",
    "address_list = address_list.split(',')\n",
    "matching = [i for i in address_list if \"동\" in i]\n",
    "matching = pd.DataFrame(zip(matching))\n",
    "matching.head()"
   ]
  },
  {
   "cell_type": "code",
   "execution_count": 55,
   "metadata": {},
   "outputs": [
    {
     "data": {
      "text/html": [
       "<div>\n",
       "<style scoped>\n",
       "    .dataframe tbody tr th:only-of-type {\n",
       "        vertical-align: middle;\n",
       "    }\n",
       "\n",
       "    .dataframe tbody tr th {\n",
       "        vertical-align: top;\n",
       "    }\n",
       "\n",
       "    .dataframe thead th {\n",
       "        text-align: right;\n",
       "    }\n",
       "</style>\n",
       "<table border=\"1\" class=\"dataframe\">\n",
       "  <thead>\n",
       "    <tr style=\"text-align: right;\">\n",
       "      <th></th>\n",
       "      <th>0</th>\n",
       "      <th>1</th>\n",
       "    </tr>\n",
       "  </thead>\n",
       "  <tbody>\n",
       "    <tr>\n",
       "      <th>0</th>\n",
       "      <td>서교동</td>\n",
       "      <td>True</td>\n",
       "    </tr>\n",
       "    <tr>\n",
       "      <th>2</th>\n",
       "      <td>망원1동</td>\n",
       "      <td>True</td>\n",
       "    </tr>\n",
       "    <tr>\n",
       "      <th>3</th>\n",
       "      <td>서교동</td>\n",
       "      <td>True</td>\n",
       "    </tr>\n",
       "    <tr>\n",
       "      <th>5</th>\n",
       "      <td>서교동</td>\n",
       "      <td>True</td>\n",
       "    </tr>\n",
       "    <tr>\n",
       "      <th>6</th>\n",
       "      <td>합정동</td>\n",
       "      <td>True</td>\n",
       "    </tr>\n",
       "  </tbody>\n",
       "</table>\n",
       "</div>"
      ],
      "text/plain": [
       "      0     1\n",
       "0   서교동  True\n",
       "2  망원1동  True\n",
       "3   서교동  True\n",
       "5   서교동  True\n",
       "6   합정동  True"
      ]
     },
     "execution_count": 55,
     "metadata": {},
     "output_type": "execute_result"
    }
   ],
   "source": [
    "matching[1] = matching[0].str.endswith('동')\n",
    "matching_final =matching[matching[1]==True]\n",
    "matching_final[0] = matching_final[0].str.replace(' ','')\n",
    "matching_final[0] = matching_final[0].str.replace('·','.')\n",
    "matching_final.head()\n",
    "#matching.head()"
   ]
  },
  {
   "cell_type": "code",
   "execution_count": 56,
   "metadata": {},
   "outputs": [
    {
     "data": {
      "text/plain": [
       "(2782, 2)"
      ]
     },
     "execution_count": 56,
     "metadata": {},
     "output_type": "execute_result"
    }
   ],
   "source": [
    "matching_final.shape"
   ]
  },
  {
   "cell_type": "code",
   "execution_count": 57,
   "metadata": {},
   "outputs": [
    {
     "data": {
      "text/html": [
       "<div>\n",
       "<style scoped>\n",
       "    .dataframe tbody tr th:only-of-type {\n",
       "        vertical-align: middle;\n",
       "    }\n",
       "\n",
       "    .dataframe tbody tr th {\n",
       "        vertical-align: top;\n",
       "    }\n",
       "\n",
       "    .dataframe thead th {\n",
       "        text-align: right;\n",
       "    }\n",
       "</style>\n",
       "<table border=\"1\" class=\"dataframe\">\n",
       "  <thead>\n",
       "    <tr style=\"text-align: right;\">\n",
       "      <th></th>\n",
       "      <th>0</th>\n",
       "      <th>1</th>\n",
       "      <th>final</th>\n",
       "    </tr>\n",
       "  </thead>\n",
       "  <tbody>\n",
       "    <tr>\n",
       "      <th>0</th>\n",
       "      <td>서교동</td>\n",
       "      <td>True</td>\n",
       "      <td>True</td>\n",
       "    </tr>\n",
       "    <tr>\n",
       "      <th>2</th>\n",
       "      <td>망원1동</td>\n",
       "      <td>True</td>\n",
       "      <td>True</td>\n",
       "    </tr>\n",
       "    <tr>\n",
       "      <th>3</th>\n",
       "      <td>서교동</td>\n",
       "      <td>True</td>\n",
       "      <td>True</td>\n",
       "    </tr>\n",
       "    <tr>\n",
       "      <th>5</th>\n",
       "      <td>서교동</td>\n",
       "      <td>True</td>\n",
       "      <td>True</td>\n",
       "    </tr>\n",
       "    <tr>\n",
       "      <th>6</th>\n",
       "      <td>합정동</td>\n",
       "      <td>True</td>\n",
       "      <td>True</td>\n",
       "    </tr>\n",
       "  </tbody>\n",
       "</table>\n",
       "</div>"
      ],
      "text/plain": [
       "      0     1  final\n",
       "0   서교동  True   True\n",
       "2  망원1동  True   True\n",
       "3   서교동  True   True\n",
       "5   서교동  True   True\n",
       "6   합정동  True   True"
      ]
     },
     "execution_count": 57,
     "metadata": {},
     "output_type": "execute_result"
    }
   ],
   "source": [
    "df_dong = pd.read_csv(\"data/행정구역전처리.csv\", index_col=0)\n",
    "matching_final[\"final\"] = matching_final[0].isin(df_dong['행정구역명'].unique())\n",
    "matching_final = matching_final[matching_final['final']==True]\n",
    "\n",
    "matching_final.head()"
   ]
  },
  {
   "cell_type": "code",
   "execution_count": 58,
   "metadata": {},
   "outputs": [
    {
     "data": {
      "text/plain": [
       "(2332, 3)"
      ]
     },
     "execution_count": 58,
     "metadata": {},
     "output_type": "execute_result"
    }
   ],
   "source": [
    "matching_final.shape"
   ]
  },
  {
   "cell_type": "code",
   "execution_count": 59,
   "metadata": {},
   "outputs": [
    {
     "data": {
      "text/html": [
       "<div>\n",
       "<style scoped>\n",
       "    .dataframe tbody tr th:only-of-type {\n",
       "        vertical-align: middle;\n",
       "    }\n",
       "\n",
       "    .dataframe tbody tr th {\n",
       "        vertical-align: top;\n",
       "    }\n",
       "\n",
       "    .dataframe thead th {\n",
       "        text-align: right;\n",
       "    }\n",
       "</style>\n",
       "<table border=\"1\" class=\"dataframe\">\n",
       "  <thead>\n",
       "    <tr style=\"text-align: right;\">\n",
       "      <th></th>\n",
       "      <th>0</th>\n",
       "    </tr>\n",
       "  </thead>\n",
       "  <tbody>\n",
       "    <tr>\n",
       "      <th>0</th>\n",
       "      <td>서교동</td>\n",
       "    </tr>\n",
       "    <tr>\n",
       "      <th>2</th>\n",
       "      <td>망원1동</td>\n",
       "    </tr>\n",
       "    <tr>\n",
       "      <th>3</th>\n",
       "      <td>서교동</td>\n",
       "    </tr>\n",
       "    <tr>\n",
       "      <th>5</th>\n",
       "      <td>서교동</td>\n",
       "    </tr>\n",
       "    <tr>\n",
       "      <th>6</th>\n",
       "      <td>합정동</td>\n",
       "    </tr>\n",
       "  </tbody>\n",
       "</table>\n",
       "</div>"
      ],
      "text/plain": [
       "      0\n",
       "0   서교동\n",
       "2  망원1동\n",
       "3   서교동\n",
       "5   서교동\n",
       "6   합정동"
      ]
     },
     "execution_count": 59,
     "metadata": {},
     "output_type": "execute_result"
    }
   ],
   "source": [
    "matching_final = matching_final.drop([1,'final'],axis = 1)\n",
    "matching_final.head()"
   ]
  },
  {
   "cell_type": "code",
   "execution_count": null,
   "metadata": {},
   "outputs": [],
   "source": [
    "matching_final.to_csv('bike_dong_final.csv')"
   ]
  },
  {
   "cell_type": "markdown",
   "metadata": {},
   "source": [
    "## [221026]지하철_자치구_동"
   ]
  },
  {
   "cell_type": "markdown",
   "metadata": {},
   "source": [
    "### 1-1. 동"
   ]
  },
  {
   "cell_type": "code",
   "execution_count": 33,
   "metadata": {},
   "outputs": [
    {
     "name": "stdout",
     "output_type": "stream",
     "text": [
      "    호선  역사명    역사ID         위도          경도  \\\n",
      "1  1호선   남영  1002.0  37.541021  126.971300   \n",
      "2  1호선   용산  1003.0  37.529849  126.964561   \n",
      "3  1호선  노량진  1004.0  37.514219  126.942454   \n",
      "4  1호선   대방  1005.0  37.513342  126.926382   \n",
      "5  1호선  영등포  1006.0  37.515504  126.907628   \n",
      "\n",
      "                                     address  \n",
      "1      2, 한강대로77길, 남영동, 용산구, 서울, 04314, 대한민국  \n",
      "2  55, 한강대로23길, 한강로동, 한강로3가, 서울, 04377, 대한민국  \n",
      "3       3, 노량진로, 노량진1동, 동작구, 서울, 06922, 대한민국  \n",
      "4       2, 대방지하차도, 대방동, 동작구, 서울, 07354, 대한민국  \n",
      "5    6, 영신로19길, 영등포본동, 영등포구, 서울, 07313, 대한민국  \n",
      "(390, 6)\n"
     ]
    }
   ],
   "source": [
    "df = pd.read_csv(\"data/지하철역주소변환.csv\", index_col=0,encoding = 'cp949')\n",
    "df = df[df['address'].str.contains('서울')] ## df[조건식]\n",
    "print(df.head())\n",
    "print(df.shape)"
   ]
  },
  {
   "cell_type": "code",
   "execution_count": 6,
   "metadata": {},
   "outputs": [],
   "source": [
    "address_list = df['address'].values.tolist()\n",
    "address_list = \",\".join(address_list)\n",
    "address_list = address_list.split(',')"
   ]
  },
  {
   "cell_type": "code",
   "execution_count": 7,
   "metadata": {},
   "outputs": [
    {
     "data": {
      "text/html": [
       "<div>\n",
       "<style scoped>\n",
       "    .dataframe tbody tr th:only-of-type {\n",
       "        vertical-align: middle;\n",
       "    }\n",
       "\n",
       "    .dataframe tbody tr th {\n",
       "        vertical-align: top;\n",
       "    }\n",
       "\n",
       "    .dataframe thead th {\n",
       "        text-align: right;\n",
       "    }\n",
       "</style>\n",
       "<table border=\"1\" class=\"dataframe\">\n",
       "  <thead>\n",
       "    <tr style=\"text-align: right;\">\n",
       "      <th></th>\n",
       "      <th>자치구명</th>\n",
       "      <th>행정구역명</th>\n",
       "      <th>행정동</th>\n",
       "      <th>법정동</th>\n",
       "      <th>행정구역분류</th>\n",
       "    </tr>\n",
       "  </thead>\n",
       "  <tbody>\n",
       "    <tr>\n",
       "      <th>2</th>\n",
       "      <td>종로구</td>\n",
       "      <td>청운효자동</td>\n",
       "      <td>청운효자동</td>\n",
       "      <td>청운동</td>\n",
       "      <td>1101072</td>\n",
       "    </tr>\n",
       "    <tr>\n",
       "      <th>3</th>\n",
       "      <td>종로구</td>\n",
       "      <td>청운효자동</td>\n",
       "      <td>청운효자동</td>\n",
       "      <td>신교동</td>\n",
       "      <td>1101072</td>\n",
       "    </tr>\n",
       "    <tr>\n",
       "      <th>4</th>\n",
       "      <td>종로구</td>\n",
       "      <td>청운효자동</td>\n",
       "      <td>청운효자동</td>\n",
       "      <td>궁정동</td>\n",
       "      <td>1101072</td>\n",
       "    </tr>\n",
       "    <tr>\n",
       "      <th>5</th>\n",
       "      <td>종로구</td>\n",
       "      <td>청운효자동</td>\n",
       "      <td>청운효자동</td>\n",
       "      <td>효자동</td>\n",
       "      <td>1101072</td>\n",
       "    </tr>\n",
       "    <tr>\n",
       "      <th>6</th>\n",
       "      <td>종로구</td>\n",
       "      <td>청운효자동</td>\n",
       "      <td>청운효자동</td>\n",
       "      <td>창성동</td>\n",
       "      <td>1101072</td>\n",
       "    </tr>\n",
       "  </tbody>\n",
       "</table>\n",
       "</div>"
      ],
      "text/plain": [
       "  자치구명  행정구역명    행정동  법정동   행정구역분류\n",
       "2  종로구  청운효자동  청운효자동  청운동  1101072\n",
       "3  종로구  청운효자동  청운효자동  신교동  1101072\n",
       "4  종로구  청운효자동  청운효자동  궁정동  1101072\n",
       "5  종로구  청운효자동  청운효자동  효자동  1101072\n",
       "6  종로구  청운효자동  청운효자동  창성동  1101072"
      ]
     },
     "execution_count": 7,
     "metadata": {},
     "output_type": "execute_result"
    }
   ],
   "source": [
    "df_dong = pd.read_csv(\"data/행정구역전처리.csv\", index_col=0)\n",
    "df_dong.head()"
   ]
  },
  {
   "cell_type": "code",
   "execution_count": 32,
   "metadata": {},
   "outputs": [
    {
     "name": "stdout",
     "output_type": "stream",
     "text": [
      "       0     1  final\n",
      "0    남영동  True   True\n",
      "1   한강로동  True   True\n",
      "2  노량진1동  True   True\n",
      "4    대방동  True   True\n",
      "6  영등포본동  True   True\n",
      "(343, 3)\n"
     ]
    }
   ],
   "source": [
    "matching = [i for i in address_list if \"동\" in i]\n",
    "matching = pd.DataFrame(zip(matching))\n",
    "matching[1] = matching[0].str.endswith('동')\n",
    "matching[0] = matching[0].str.replace(' ','')\n",
    "matching[0] = matching[0].str.replace('·','.')\n",
    "matching_final =matching[matching[1]==True]#동으로 끝나기\n",
    "matching_final[\"final\"] = matching_final[0].isin(df_dong['행정구역명'].unique())\n",
    "matching_final = matching_final[matching_final['final']==True]#400->343\n",
    "print(matching_final.head())\n",
    "print(matching_final.shape)"
   ]
  },
  {
   "cell_type": "markdown",
   "metadata": {},
   "source": [
    "### 1-2.구\n"
   ]
  },
  {
   "cell_type": "code",
   "execution_count": 28,
   "metadata": {},
   "outputs": [
    {
     "name": "stdout",
     "output_type": "stream",
     "text": [
      "      0     1  final\n",
      "0   용산구  True   True\n",
      "1   동작구  True   True\n",
      "2   동작구  True   True\n",
      "3  영등포구  True   True\n",
      "4   구로구  True   True\n",
      "(388, 3)\n"
     ]
    }
   ],
   "source": [
    "matching2 = [i for i in address_list if \"구\" in i]\n",
    "matching2 = pd.DataFrame(zip(matching2))\n",
    "matching2[1] = matching2[0].str.endswith('구')\n",
    "matching2[0] = matching2[0].str.replace(' ','')\n",
    "#matching2[0] = matching2[0].str.replace('·','.')\n",
    "matching2_final = matching2[matching2[1]==True]#구로 끝나기\n",
    "matching2_final[\"final\"] = matching2_final[0].isin(df_dong['자치구명'].unique())\n",
    "matching2_final = matching2_final[matching2_final['final']==True]#471->388\n",
    "print(matching2_final.head())\n",
    "print(matching2_final.shape)"
   ]
  },
  {
   "cell_type": "code",
   "execution_count": 20,
   "metadata": {},
   "outputs": [
    {
     "data": {
      "text/html": [
       "<div>\n",
       "<style scoped>\n",
       "    .dataframe tbody tr th:only-of-type {\n",
       "        vertical-align: middle;\n",
       "    }\n",
       "\n",
       "    .dataframe tbody tr th {\n",
       "        vertical-align: top;\n",
       "    }\n",
       "\n",
       "    .dataframe thead th {\n",
       "        text-align: right;\n",
       "    }\n",
       "</style>\n",
       "<table border=\"1\" class=\"dataframe\">\n",
       "  <thead>\n",
       "    <tr style=\"text-align: right;\">\n",
       "      <th></th>\n",
       "      <th>0</th>\n",
       "      <th>1</th>\n",
       "    </tr>\n",
       "  </thead>\n",
       "  <tbody>\n",
       "    <tr>\n",
       "      <th>0</th>\n",
       "      <td>용산구</td>\n",
       "      <td>True</td>\n",
       "    </tr>\n",
       "    <tr>\n",
       "      <th>1</th>\n",
       "      <td>동작구</td>\n",
       "      <td>True</td>\n",
       "    </tr>\n",
       "    <tr>\n",
       "      <th>2</th>\n",
       "      <td>동작구</td>\n",
       "      <td>True</td>\n",
       "    </tr>\n",
       "    <tr>\n",
       "      <th>3</th>\n",
       "      <td>영등포구</td>\n",
       "      <td>True</td>\n",
       "    </tr>\n",
       "    <tr>\n",
       "      <th>4</th>\n",
       "      <td>구로구</td>\n",
       "      <td>True</td>\n",
       "    </tr>\n",
       "  </tbody>\n",
       "</table>\n",
       "</div>"
      ],
      "text/plain": [
       "       0     1\n",
       "0    용산구  True\n",
       "1    동작구  True\n",
       "2    동작구  True\n",
       "3   영등포구  True\n",
       "4    구로구  True"
      ]
     },
     "execution_count": 20,
     "metadata": {},
     "output_type": "execute_result"
    }
   ],
   "source": [
    "matching2.head()"
   ]
  },
  {
   "cell_type": "code",
   "execution_count": null,
   "metadata": {},
   "outputs": [],
   "source": [
    "##"
   ]
  },
  {
   "cell_type": "markdown",
   "metadata": {},
   "source": [
    "### 다정코드"
   ]
  },
  {
   "cell_type": "code",
   "execution_count": null,
   "metadata": {},
   "outputs": [],
   "source": [
    "#인덱스 재설정\n",
    "df_mh = df_mh.reset_index(drop=True, inplace=False)\n",
    "\n",
    "#위도,경도값이 존재하지 않았던 관측치 1개 삭제\n",
    "df_mh = df_mh[-pd.Series(df_mh['위도'].isnull())]\n",
    "df_mh\n",
    "\n",
    "\n",
    "# 가입 없이 좌표->주소 변환->법정동으로 추출되므로 일단 밑으로 내리기\n",
    "from geopy.geocoders import Nominatim\n",
    "\n",
    "def geocoding_reverse(lat_lng_str): \n",
    "    geolocoder = Nominatim(user_agent = 'South Korea', timeout=None)\n",
    "    address = geolocoder.reverse(lat_lng_str)\n",
    "\n",
    "    return address\n",
    "\n",
    "import math\n",
    "import time\n",
    "import datetime\n",
    "\n",
    "start = time.time()\n",
    "address=[]\n",
    "for i in range(0,(df_mh.shape[0])):\n",
    "    try:\n",
    "        address.append(geocoding_reverse(str(df_mh['위도'][i])+','+str(df_mh['경도'][i])))\n",
    "    except Exception as e:\n",
    "        print(e)\n",
    "end = time.time()\n",
    "sec = (end - start)\n",
    "result = datetime.timedelta(seconds=sec)\n",
    "print(result)\n",
    "result_list = str(datetime.timedelta(seconds=sec)).split(\".\")\n",
    "print(result_list[0])\n",
    "\n",
    "\n",
    "a = []\n",
    "for i in range(0, len(address)):\n",
    "    a.append(len(str(address[i]).split(',')))\n",
    "pd.DataFrame(a).value_counts()\n",
    "\n",
    "\n",
    "b = pd.DataFrame({'a':a, '행정동명':address, '찐행정동명':[str(0) for x in range(0,len(b))]})\n",
    "\n",
    "for i in range(0, b.shape[0]):\n",
    "    if b.iloc[i,0]==4:\n",
    "        b.iloc[i,2] = str(b.iloc[i,1]).split(',')[0]\n",
    "    elif b.iloc[i,0]==5:\n",
    "        b.iloc[i,2] = str(b.iloc[i,1]).split(',')[0]\n",
    "    elif b.iloc[i,0]==6:\n",
    "        b.iloc[i,2] = str(b.iloc[i,1]).split(',')[1]\n",
    "    elif b.iloc[i,0]==7:\n",
    "        b.iloc[i,2] = str(b.iloc[i,1]).split(',')[2]\n",
    "    elif b.iloc[i,0]==8:\n",
    "        b.iloc[i,2] = str(b.iloc[i,1]).split(',')[3]\n",
    "    elif b.iloc[i,0]==9:\n",
    "        b.iloc[i,2] = str(b.iloc[i,1]).split(',')[4]\n",
    "\n",
    "b"
   ]
  }
 ],
 "metadata": {
  "kernelspec": {
   "display_name": "Python 3.10.6 ('adv_analysis')",
   "language": "python",
   "name": "python3"
  },
  "language_info": {
   "codemirror_mode": {
    "name": "ipython",
    "version": 3
   },
   "file_extension": ".py",
   "mimetype": "text/x-python",
   "name": "python",
   "nbconvert_exporter": "python",
   "pygments_lexer": "ipython3",
   "version": "3.10.6"
  },
  "orig_nbformat": 4,
  "vscode": {
   "interpreter": {
    "hash": "fd4ca7ec3520f3d442737cc20e06f79c0e856b30e86c015e6f25d8bfdc13a88a"
   }
  }
 },
 "nbformat": 4,
 "nbformat_minor": 2
}

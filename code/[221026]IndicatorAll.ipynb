{
 "cells": [
  {
   "cell_type": "markdown",
   "metadata": {},
   "source": [
    "## 0. 환경설정"
   ]
  },
  {
   "cell_type": "code",
   "execution_count": 1,
   "metadata": {},
   "outputs": [],
   "source": [
    "import pandas as pd\n",
    "import numpy as np\n",
    "import matplotlib.pyplot as plt\n",
    "import seaborn as sns\n",
    "\n",
    "import warnings\n",
    "warnings.filterwarnings(\"ignore\")\n",
    "pd.set_option('display.max_columns', None)\n",
    "pd.set_option('display.max_rows', None)\n",
    "\n",
    "# 시각화 관련\n",
    "from wordcloud import WordCloud, STOPWORDS, ImageColorGenerator\n",
    "from collections import Counter\n",
    "from PIL import Image\n",
    "from matplotlib import rc\n",
    "\n",
    "# 그래프에서 한글 폰트 깨지는 문제에 대한 대처(전역 글꼴 설정)\n",
    "import matplotlib.font_manager as fm\n",
    "import warnings\n",
    "warnings.filterwarnings(action='ignore') \n",
    "\n",
    "import matplotlib\n",
    "matplotlib.rcParams['font.family'] ='Malgun Gothic'\n",
    "matplotlib.rcParams['axes.unicode_minus'] =False"
   ]
  },
  {
   "cell_type": "markdown",
   "metadata": {},
   "source": [
    "## 1. 접근성"
   ]
  },
  {
   "cell_type": "markdown",
   "metadata": {},
   "source": [
    "### 1-1. 탐색요인분석"
   ]
  },
  {
   "cell_type": "code",
   "execution_count": 29,
   "metadata": {},
   "outputs": [
    {
     "data": {
      "text/html": [
       "<div>\n",
       "<style scoped>\n",
       "    .dataframe tbody tr th:only-of-type {\n",
       "        vertical-align: middle;\n",
       "    }\n",
       "\n",
       "    .dataframe tbody tr th {\n",
       "        vertical-align: top;\n",
       "    }\n",
       "\n",
       "    .dataframe thead th {\n",
       "        text-align: right;\n",
       "    }\n",
       "</style>\n",
       "<table border=\"1\" class=\"dataframe\">\n",
       "  <thead>\n",
       "    <tr style=\"text-align: right;\">\n",
       "      <th></th>\n",
       "      <th>Unnamed: 0</th>\n",
       "      <th>자치구행정동</th>\n",
       "      <th>자치구</th>\n",
       "      <th>행정동</th>\n",
       "      <th>버스승객수</th>\n",
       "      <th>지하철승객수</th>\n",
       "      <th>버스정류장수</th>\n",
       "      <th>지하철역수</th>\n",
       "      <th>자전거대여소수</th>\n",
       "      <th>자전거도로수</th>\n",
       "      <th>주차장수</th>\n",
       "    </tr>\n",
       "  </thead>\n",
       "  <tbody>\n",
       "    <tr>\n",
       "      <th>0</th>\n",
       "      <td>0</td>\n",
       "      <td>종로구 청운효자동</td>\n",
       "      <td>종로구</td>\n",
       "      <td>청운효자동</td>\n",
       "      <td>2044107.0</td>\n",
       "      <td>0.0</td>\n",
       "      <td>27.0</td>\n",
       "      <td>0.0</td>\n",
       "      <td>3.0</td>\n",
       "      <td>42</td>\n",
       "      <td>226.0</td>\n",
       "    </tr>\n",
       "    <tr>\n",
       "      <th>1</th>\n",
       "      <td>1</td>\n",
       "      <td>종로구 사직동</td>\n",
       "      <td>종로구</td>\n",
       "      <td>사직동</td>\n",
       "      <td>6971522.0</td>\n",
       "      <td>13394787.0</td>\n",
       "      <td>32.0</td>\n",
       "      <td>2.0</td>\n",
       "      <td>15.0</td>\n",
       "      <td>42</td>\n",
       "      <td>177.0</td>\n",
       "    </tr>\n",
       "    <tr>\n",
       "      <th>2</th>\n",
       "      <td>2</td>\n",
       "      <td>종로구 삼청동</td>\n",
       "      <td>종로구</td>\n",
       "      <td>삼청동</td>\n",
       "      <td>1201780.0</td>\n",
       "      <td>0.0</td>\n",
       "      <td>13.0</td>\n",
       "      <td>0.0</td>\n",
       "      <td>5.0</td>\n",
       "      <td>42</td>\n",
       "      <td>134.0</td>\n",
       "    </tr>\n",
       "    <tr>\n",
       "      <th>3</th>\n",
       "      <td>3</td>\n",
       "      <td>종로구 부암동</td>\n",
       "      <td>종로구</td>\n",
       "      <td>부암동</td>\n",
       "      <td>2550275.0</td>\n",
       "      <td>0.0</td>\n",
       "      <td>34.0</td>\n",
       "      <td>0.0</td>\n",
       "      <td>5.0</td>\n",
       "      <td>42</td>\n",
       "      <td>124.0</td>\n",
       "    </tr>\n",
       "    <tr>\n",
       "      <th>4</th>\n",
       "      <td>4</td>\n",
       "      <td>종로구 평창동</td>\n",
       "      <td>종로구</td>\n",
       "      <td>평창동</td>\n",
       "      <td>2325866.0</td>\n",
       "      <td>0.0</td>\n",
       "      <td>54.0</td>\n",
       "      <td>0.0</td>\n",
       "      <td>6.0</td>\n",
       "      <td>42</td>\n",
       "      <td>238.0</td>\n",
       "    </tr>\n",
       "  </tbody>\n",
       "</table>\n",
       "</div>"
      ],
      "text/plain": [
       "   Unnamed: 0     자치구행정동  자치구    행정동      버스승객수      지하철승객수  버스정류장수  지하철역수  \\\n",
       "0           0  종로구 청운효자동  종로구  청운효자동  2044107.0         0.0    27.0    0.0   \n",
       "1           1    종로구 사직동  종로구    사직동  6971522.0  13394787.0    32.0    2.0   \n",
       "2           2    종로구 삼청동  종로구    삼청동  1201780.0         0.0    13.0    0.0   \n",
       "3           3    종로구 부암동  종로구    부암동  2550275.0         0.0    34.0    0.0   \n",
       "4           4    종로구 평창동  종로구    평창동  2325866.0         0.0    54.0    0.0   \n",
       "\n",
       "   자전거대여소수  자전거도로수   주차장수  \n",
       "0      3.0      42  226.0  \n",
       "1     15.0      42  177.0  \n",
       "2      5.0      42  134.0  \n",
       "3      5.0      42  124.0  \n",
       "4      6.0      42  238.0  "
      ]
     },
     "execution_count": 29,
     "metadata": {},
     "output_type": "execute_result"
    }
   ],
   "source": [
    "d1 = pd.read_csv('data/접근성.csv')\n",
    "d1.head()"
   ]
  },
  {
   "cell_type": "code",
   "execution_count": 19,
   "metadata": {},
   "outputs": [
    {
     "name": "stdout",
     "output_type": "stream",
     "text": [
      "      버스승객수    지하철승객수    버스정류장수     지하철역수   자전거대여소수    자전거도로수      주차장수\n",
      "0  0.126389  0.000000  0.259615  0.000000  0.065217  0.191011  0.097920\n",
      "1  0.431054  0.404963  0.307692  0.333333  0.326087  0.191011  0.076690\n",
      "2  0.074307  0.000000  0.125000  0.000000  0.108696  0.191011  0.058059\n",
      "3  0.157685  0.000000  0.326923  0.000000  0.108696  0.191011  0.053726\n",
      "4  0.143810  0.000000  0.519231  0.000000  0.130435  0.191011  0.103120\n",
      "<class 'pandas.core.frame.DataFrame'>\n",
      "Int64Index: 426 entries, 0 to 425\n",
      "Data columns (total 7 columns):\n",
      " #   Column   Non-Null Count  Dtype  \n",
      "---  ------   --------------  -----  \n",
      " 0   버스승객수    426 non-null    float64\n",
      " 1   지하철승객수   426 non-null    float64\n",
      " 2   버스정류장수   426 non-null    float64\n",
      " 3   지하철역수    426 non-null    float64\n",
      " 4   자전거대여소수  426 non-null    float64\n",
      " 5   자전거도로수   426 non-null    float64\n",
      " 6   주차장수     426 non-null    float64\n",
      "dtypes: float64(7)\n",
      "memory usage: 26.6 KB\n",
      "None\n"
     ]
    }
   ],
   "source": [
    "#스케일링\n",
    "from sklearn.preprocessing import MinMaxScaler\n",
    "d1_1 = d1.drop(['Unnamed: 0','자치구','행정동','자치구행정동'],axis = 1)\n",
    "min_max_scaler = MinMaxScaler()\n",
    "fitted = min_max_scaler.fit(d1_1)\n",
    "d1_1_s = min_max_scaler.transform(d1_1)\n",
    "d1_1_s = pd.DataFrame(d1_1_s, columns=(d1_1).columns, index=list(d1_1.index.values))\n",
    "print(d1_1_s.head())\n",
    "print(d1_1_s.info())"
   ]
  },
  {
   "cell_type": "code",
   "execution_count": 20,
   "metadata": {},
   "outputs": [
    {
     "data": {
      "text/plain": [
       "(880.0735923454893, 9.177259041201564e-173)"
      ]
     },
     "execution_count": 20,
     "metadata": {},
     "output_type": "execute_result"
    }
   ],
   "source": [
    "# Bartlett test\n",
    "from factor_analyzer.factor_analyzer import calculate_bartlett_sphericity\n",
    "chi_square_value, p_value = calculate_bartlett_sphericity(d1_1_s)\n",
    "chi_square_value, p_value "
   ]
  },
  {
   "cell_type": "code",
   "execution_count": 21,
   "metadata": {},
   "outputs": [
    {
     "data": {
      "text/plain": [
       "0.6099470657506119"
      ]
     },
     "execution_count": 21,
     "metadata": {},
     "output_type": "execute_result"
    }
   ],
   "source": [
    "#KMO검정\n",
    "from factor_analyzer.factor_analyzer import calculate_kmo\n",
    "kmo_all,kmo_model = calculate_kmo(d1_1_s)\n",
    "kmo_model"
   ]
  },
  {
   "cell_type": "code",
   "execution_count": 22,
   "metadata": {},
   "outputs": [
    {
     "data": {
      "image/png": "[encoded data removed]",
      "text/plain": [
       "<Figure size 640x480 with 1 Axes>"
      ]
     },
     "metadata": {},
     "output_type": "display_data"
    }
   ],
   "source": [
    "#scress plot\n",
    "from factor_analyzer import FactorAnalyzer\n",
    "fa = FactorAnalyzer(n_factors = 10, rotation = None)\n",
    "fa.fit(d1_1_s)\n",
    "ev,v = fa.get_eigenvalues()\n",
    "plt.scatter(range(1,d1_1_s.shape[1]+1),ev)\n",
    "plt.plot(range(1,d1_1_s.shape[1]+1),ev)\n",
    "plt.title('Scree Plot')\n",
    "plt.xlabel('Factors')\n",
    "plt.ylabel('Eigenvalue')\n",
    "plt.grid()\n",
    "plt.show()"
   ]
  },
  {
   "cell_type": "code",
   "execution_count": 23,
   "metadata": {},
   "outputs": [
    {
     "data": {
      "text/html": [
       "<div>\n",
       "<style scoped>\n",
       "    .dataframe tbody tr th:only-of-type {\n",
       "        vertical-align: middle;\n",
       "    }\n",
       "\n",
       "    .dataframe tbody tr th {\n",
       "        vertical-align: top;\n",
       "    }\n",
       "\n",
       "    .dataframe thead th {\n",
       "        text-align: right;\n",
       "    }\n",
       "</style>\n",
       "<table border=\"1\" class=\"dataframe\">\n",
       "  <thead>\n",
       "    <tr style=\"text-align: right;\">\n",
       "      <th></th>\n",
       "      <th>0</th>\n",
       "      <th>1</th>\n",
       "      <th>2</th>\n",
       "    </tr>\n",
       "  </thead>\n",
       "  <tbody>\n",
       "    <tr>\n",
       "      <th>버스승객수</th>\n",
       "      <td>0.407063</td>\n",
       "      <td>0.534889</td>\n",
       "      <td>-0.031922</td>\n",
       "    </tr>\n",
       "    <tr>\n",
       "      <th>지하철승객수</th>\n",
       "      <td>0.055184</td>\n",
       "      <td>0.996938</td>\n",
       "      <td>0.107114</td>\n",
       "    </tr>\n",
       "    <tr>\n",
       "      <th>버스정류장수</th>\n",
       "      <td>0.875650</td>\n",
       "      <td>0.106796</td>\n",
       "      <td>-0.028484</td>\n",
       "    </tr>\n",
       "    <tr>\n",
       "      <th>지하철역수</th>\n",
       "      <td>0.379963</td>\n",
       "      <td>0.464389</td>\n",
       "      <td>0.139560</td>\n",
       "    </tr>\n",
       "    <tr>\n",
       "      <th>자전거대여소수</th>\n",
       "      <td>0.728985</td>\n",
       "      <td>0.255411</td>\n",
       "      <td>0.215182</td>\n",
       "    </tr>\n",
       "    <tr>\n",
       "      <th>자전거도로수</th>\n",
       "      <td>-0.072014</td>\n",
       "      <td>-0.065030</td>\n",
       "      <td>0.997737</td>\n",
       "    </tr>\n",
       "    <tr>\n",
       "      <th>주차장수</th>\n",
       "      <td>0.123794</td>\n",
       "      <td>0.120996</td>\n",
       "      <td>0.298620</td>\n",
       "    </tr>\n",
       "  </tbody>\n",
       "</table>\n",
       "</div>"
      ],
      "text/plain": [
       "                0         1         2\n",
       "버스승객수    0.407063  0.534889 -0.031922\n",
       "지하철승객수   0.055184  0.996938  0.107114\n",
       "버스정류장수   0.875650  0.106796 -0.028484\n",
       "지하철역수    0.379963  0.464389  0.139560\n",
       "자전거대여소수  0.728985  0.255411  0.215182\n",
       "자전거도로수  -0.072014 -0.065030  0.997737\n",
       "주차장수     0.123794  0.120996  0.298620"
      ]
     },
     "execution_count": 23,
     "metadata": {},
     "output_type": "execute_result"
    }
   ],
   "source": [
    "fa = FactorAnalyzer(n_factors=3,rotation = \"varimax\")\n",
    "fa.fit(d1_1_s)\n",
    "efa_result = pd.DataFrame(fa.loadings_,index = d1_1_s.columns)\n",
    "efa_result"
   ]
  },
  {
   "cell_type": "code",
   "execution_count": 24,
   "metadata": {},
   "outputs": [
    {
     "data": {
      "text/plain": [
       "<AxesSubplot: >"
      ]
     },
     "execution_count": 24,
     "metadata": {},
     "output_type": "execute_result"
    },
    {
     "data": {
      "image/png": "[encoded data removed]",
      "text/plain": [
       "<Figure size 400x600 with 2 Axes>"
      ]
     },
     "metadata": {},
     "output_type": "display_data"
    }
   ],
   "source": [
    "plt.figure(figsize = (4,6))\n",
    "sns.heatmap(efa_result,cmap = \"Blues\",annot = True, fmt = '.2f')"
   ]
  },
  {
   "cell_type": "code",
   "execution_count": 25,
   "metadata": {},
   "outputs": [
    {
     "data": {
      "text/html": [
       "<div>\n",
       "<style scoped>\n",
       "    .dataframe tbody tr th:only-of-type {\n",
       "        vertical-align: middle;\n",
       "    }\n",
       "\n",
       "    .dataframe tbody tr th {\n",
       "        vertical-align: top;\n",
       "    }\n",
       "\n",
       "    .dataframe thead th {\n",
       "        text-align: right;\n",
       "    }\n",
       "</style>\n",
       "<table border=\"1\" class=\"dataframe\">\n",
       "  <thead>\n",
       "    <tr style=\"text-align: right;\">\n",
       "      <th></th>\n",
       "      <th>0</th>\n",
       "      <th>1</th>\n",
       "      <th>2</th>\n",
       "      <th>mean</th>\n",
       "    </tr>\n",
       "  </thead>\n",
       "  <tbody>\n",
       "    <tr>\n",
       "      <th>버스승객수</th>\n",
       "      <td>0.407063</td>\n",
       "      <td>0.534889</td>\n",
       "      <td>-0.031922</td>\n",
       "      <td>0.303343</td>\n",
       "    </tr>\n",
       "    <tr>\n",
       "      <th>지하철승객수</th>\n",
       "      <td>0.055184</td>\n",
       "      <td>0.996938</td>\n",
       "      <td>0.107114</td>\n",
       "      <td>0.386412</td>\n",
       "    </tr>\n",
       "    <tr>\n",
       "      <th>버스정류장수</th>\n",
       "      <td>0.875650</td>\n",
       "      <td>0.106796</td>\n",
       "      <td>-0.028484</td>\n",
       "      <td>0.317987</td>\n",
       "    </tr>\n",
       "    <tr>\n",
       "      <th>지하철역수</th>\n",
       "      <td>0.379963</td>\n",
       "      <td>0.464389</td>\n",
       "      <td>0.139560</td>\n",
       "      <td>0.327971</td>\n",
       "    </tr>\n",
       "    <tr>\n",
       "      <th>자전거대여소수</th>\n",
       "      <td>0.728985</td>\n",
       "      <td>0.255411</td>\n",
       "      <td>0.215182</td>\n",
       "      <td>0.399859</td>\n",
       "    </tr>\n",
       "    <tr>\n",
       "      <th>자전거도로수</th>\n",
       "      <td>-0.072014</td>\n",
       "      <td>-0.065030</td>\n",
       "      <td>0.997737</td>\n",
       "      <td>0.286898</td>\n",
       "    </tr>\n",
       "    <tr>\n",
       "      <th>주차장수</th>\n",
       "      <td>0.123794</td>\n",
       "      <td>0.120996</td>\n",
       "      <td>0.298620</td>\n",
       "      <td>0.181137</td>\n",
       "    </tr>\n",
       "  </tbody>\n",
       "</table>\n",
       "</div>"
      ],
      "text/plain": [
       "                0         1         2      mean\n",
       "버스승객수    0.407063  0.534889 -0.031922  0.303343\n",
       "지하철승객수   0.055184  0.996938  0.107114  0.386412\n",
       "버스정류장수   0.875650  0.106796 -0.028484  0.317987\n",
       "지하철역수    0.379963  0.464389  0.139560  0.327971\n",
       "자전거대여소수  0.728985  0.255411  0.215182  0.399859\n",
       "자전거도로수  -0.072014 -0.065030  0.997737  0.286898\n",
       "주차장수     0.123794  0.120996  0.298620  0.181137"
      ]
     },
     "execution_count": 25,
     "metadata": {},
     "output_type": "execute_result"
    }
   ],
   "source": [
    "#값나온대로 변경하기\n",
    "efa_result['mean'] = (efa_result[0] +efa_result[1] +efa_result[2])/3\n",
    "efa_result"
   ]
  },
  {
   "cell_type": "code",
   "execution_count": 26,
   "metadata": {},
   "outputs": [
    {
     "name": "stdout",
     "output_type": "stream",
     "text": [
      "가중치_접근성\n",
      "1위 자전거대여소수: 0.18\n",
      "2위 지하철승객수: 0.18\n",
      "3위 지하철역수: 0.15\n",
      "4위 버스정류장수: 0.14\n",
      "5위 버스승객수: 0.14\n",
      "6위 자전거도로수: 0.13\n",
      "7위 주차장수: 0.08\n"
     ]
    }
   ],
   "source": [
    "print('가중치_접근성')\n",
    "print('1위 자전거대여소수:',round(0.399859/(0.399859+0.386412+0.327971+0.317987+0.303343+0.286898+0.181137),2))\n",
    "print('2위 지하철승객수:',round(0.386412/(0.399859+0.386412+0.327971+0.317987+0.303343+0.286898+0.181137),2))\n",
    "print('3위 지하철역수:',round(0.327971/(0.399859+0.386412+0.327971+0.317987+0.303343+0.286898+0.181137),2))\n",
    "print('4위 버스정류장수:',round(0.317987/(0.399859+0.386412+0.327971+0.317987+0.303343+0.286898+0.181137),2))\n",
    "print('5위 버스승객수:',round(0.303343/(0.399859+0.386412+0.327971+0.317987+0.303343+0.286898+0.181137),2))\n",
    "print('6위 자전거도로수:',round(0.286898/(0.399859+0.386412+0.327971+0.317987+0.303343+0.286898+0.181137),2))\n",
    "print('7위 주차장수:',round(0.181137/(0.399859+0.386412+0.327971+0.317987+0.303343+0.286898+0.181137),2))"
   ]
  },
  {
   "cell_type": "markdown",
   "metadata": {},
   "source": [
    "### 1-2. 접근성_최종지표"
   ]
  },
  {
   "cell_type": "code",
   "execution_count": 31,
   "metadata": {},
   "outputs": [
    {
     "name": "stdout",
     "output_type": "stream",
     "text": [
      "      자치구          행정동     버스승객수    지하철승객수    버스정류장수     지하철역수   자전거대여소수  \\\n",
      "288  영등포구          여의동  0.791133  0.672876  0.548077  0.833333  0.978261   \n",
      "214   마포구          서교동  0.858472  1.000000  0.798077  0.666667  0.304348   \n",
      "221   마포구          상암동  0.451991  0.180537  0.894231  0.500000  0.695652   \n",
      "251   강서구        가양제1동  0.212763  0.242898  0.500000  0.666667  1.000000   \n",
      "8     종로구  종로1.2.3.4가동  1.000000  0.816794  0.298077  0.000000  0.304348   \n",
      "\n",
      "       자전거도로수      주차장수     접근성지표  \n",
      "288  0.466292  0.331889  0.733603  \n",
      "214  0.320225  0.406846  0.677007  \n",
      "221  0.320225  0.061958  0.498974  \n",
      "251  0.398876  0.051993  0.492383  \n",
      "8    0.191011  0.152946  0.488368  \n",
      "(426, 10)\n",
      "(426,)\n",
      "(426,)\n"
     ]
    }
   ],
   "source": [
    "accessibility_final = pd.concat([d1[['자치구','행정동']], d1_1_s],axis = 1)\n",
    "accessibility_final['접근성지표'] = (accessibility_final['자전거대여소수']*0.18 + accessibility_final['지하철승객수']*0.18 \n",
    "                             + accessibility_final['지하철역수']*0.15 + accessibility_final['버스정류장수']*0.14\n",
    "                             + accessibility_final['버스승객수']*0.14 + accessibility_final['자전거도로수']*0.13\n",
    "                             + accessibility_final['버스승객수']*0.08)\n",
    "accessibility_final.sort_values(by = ['접근성지표'],ascending = False,inplace = True)\n",
    "#accessibility_final.rename(columns = {'Gu':'자치구명'},inplace=True)\n",
    "print(accessibility_final.head())\n",
    "print(accessibility_final.shape)\n",
    "print(accessibility_final['접근성지표'].shape)\n",
    "print(accessibility_final['행정동'].shape)"
   ]
  },
  {
   "cell_type": "code",
   "execution_count": 33,
   "metadata": {},
   "outputs": [
    {
     "name": "stdout",
     "output_type": "stream",
     "text": [
      "      자치구          행정동     접근성지표\n",
      "288  영등포구          여의동  0.733603\n",
      "214   마포구          서교동  0.677007\n",
      "221   마포구          상암동  0.498974\n",
      "251   강서구        가양제1동  0.492383\n",
      "8     종로구  종로1.2.3.4가동  0.488368\n",
      "(426, 3)\n",
      "      자치구          행정동     접근성지표\n",
      "288  영등포구          여의동  0.733603\n",
      "214   마포구          서교동  0.677007\n",
      "221   마포구          상암동  0.498974\n",
      "251   강서구        가양제1동  0.492383\n",
      "8     종로구  종로1.2.3.4가동  0.488368\n",
      "(426, 3)\n"
     ]
    }
   ],
   "source": [
    "accessibility_dong = accessibility_final.drop(['버스승객수','지하철승객수','버스정류장수',\n",
    "                                '지하철역수','자전거대여소수','자전거도로수',\n",
    "                                '주차장수'],axis=1)\n",
    "accessibility_dong.sort_values(by = ['접근성지표'],ascending = False,inplace= True)\n",
    "\n",
    "print(accessibility_dong.head())\n",
    "print(accessibility_dong.shape)\n",
    "accessibility_dong= accessibility_dong.drop_duplicates()\n",
    "print(accessibility_dong.head())\n",
    "print(accessibility_dong.shape)"
   ]
  },
  {
   "cell_type": "code",
   "execution_count": 34,
   "metadata": {},
   "outputs": [],
   "source": [
    "accessibility_dong.to_csv('[221026]accessibility_dong.csv')"
   ]
  },
  {
   "cell_type": "markdown",
   "metadata": {},
   "source": [
    "## 2. 상업"
   ]
  },
  {
   "cell_type": "markdown",
   "metadata": {},
   "source": [
    "### 2-1. 탐색요인분석"
   ]
  },
  {
   "cell_type": "code",
   "execution_count": 66,
   "metadata": {},
   "outputs": [
    {
     "name": "stdout",
     "output_type": "stream",
     "text": [
      "     자치구명    행정동  SUM_SELNG_AMT  SUM_SELNG_CO  운영_영업_개월_평균  폐업_영업_개월_평균\n",
      "0     종로구  청운효자동    76717519157       4891664       106.00        61.25\n",
      "1000  종로구    사직동   294186825721      18441604       130.75        61.25\n",
      "2728  종로구    삼청동    93482870462       4547785       102.50        57.00\n",
      "3071  종로구    부암동    35862202180       2678128       105.25        59.25\n",
      "3098  종로구    평창동    70961467717       3319554       123.25        60.50\n",
      "자치구명              25\n",
      "행정동              416\n",
      "SUM_SELNG_AMT    417\n",
      "SUM_SELNG_CO     417\n",
      "운영_영업_개월_평균      179\n",
      "폐업_영업_개월_평균       96\n",
      "dtype: int64\n"
     ]
    }
   ],
   "source": [
    "d1 = pd.read_csv('data/상업.csv')\n",
    "d1.drop(['Unnamed: 0'],axis = 1,inplace=True)\n",
    "d1.drop_duplicates(inplace=True)\n",
    "print(d1.head())\n",
    "print(d1.nunique())"
   ]
  },
  {
   "cell_type": "code",
   "execution_count": 67,
   "metadata": {},
   "outputs": [
    {
     "name": "stdout",
     "output_type": "stream",
     "text": [
      "      SUM_SELNG_AMT  SUM_SELNG_CO  운영_영업_개월_평균  폐업_영업_개월_평균\n",
      "0          0.040253      0.047720     0.482944     0.274747\n",
      "1000       0.159064      0.183721     0.660682     0.274747\n",
      "2728       0.049413      0.044269     0.457810     0.240404\n",
      "3071       0.017933      0.025503     0.477558     0.258586\n",
      "3098       0.037109      0.031941     0.606822     0.268687\n",
      "<class 'pandas.core.frame.DataFrame'>\n",
      "Int64Index: 417 entries, 0 to 52079\n",
      "Data columns (total 4 columns):\n",
      " #   Column         Non-Null Count  Dtype  \n",
      "---  ------         --------------  -----  \n",
      " 0   SUM_SELNG_AMT  417 non-null    float64\n",
      " 1   SUM_SELNG_CO   417 non-null    float64\n",
      " 2   운영_영업_개월_평균    417 non-null    float64\n",
      " 3   폐업_영업_개월_평균    417 non-null    float64\n",
      "dtypes: float64(4)\n",
      "memory usage: 16.3 KB\n",
      "None\n"
     ]
    }
   ],
   "source": [
    "from sklearn.preprocessing import MinMaxScaler\n",
    "d1_1 = d1.drop(['자치구명','행정동'],axis = 1)\n",
    "min_max_scaler = MinMaxScaler()\n",
    "fitted = min_max_scaler.fit(d1_1)\n",
    "d1_1_s = min_max_scaler.transform(d1_1)\n",
    "d1_1_s = pd.DataFrame(d1_1_s, columns=(d1_1).columns, index=list(d1_1.index.values))\n",
    "print(d1_1_s.head())\n",
    "print(d1_1_s.info())"
   ]
  },
  {
   "cell_type": "code",
   "execution_count": 68,
   "metadata": {},
   "outputs": [
    {
     "data": {
      "text/plain": [
       "(1138.0125356163192, 1.2429347379415767e-242)"
      ]
     },
     "execution_count": 68,
     "metadata": {},
     "output_type": "execute_result"
    }
   ],
   "source": [
    "# Bartlett test\n",
    "from factor_analyzer.factor_analyzer import calculate_bartlett_sphericity\n",
    "chi_square_value, p_value = calculate_bartlett_sphericity(d1_1_s)\n",
    "chi_square_value, p_value "
   ]
  },
  {
   "cell_type": "code",
   "execution_count": 69,
   "metadata": {},
   "outputs": [
    {
     "data": {
      "text/plain": [
       "0.5011010513731167"
      ]
     },
     "execution_count": 69,
     "metadata": {},
     "output_type": "execute_result"
    }
   ],
   "source": [
    "#KMO검정\n",
    "from factor_analyzer.factor_analyzer import calculate_kmo\n",
    "kmo_all,kmo_model = calculate_kmo(d1_1_s)\n",
    "kmo_model"
   ]
  },
  {
   "cell_type": "code",
   "execution_count": 70,
   "metadata": {},
   "outputs": [
    {
     "data": {
      "image/png": "[encoded data removed]",
      "text/plain": [
       "<Figure size 640x480 with 1 Axes>"
      ]
     },
     "metadata": {},
     "output_type": "display_data"
    }
   ],
   "source": [
    "#scress plot\n",
    "from factor_analyzer import FactorAnalyzer\n",
    "fa = FactorAnalyzer(n_factors = 10, rotation = None)\n",
    "fa.fit(d1_1_s)\n",
    "ev,v = fa.get_eigenvalues()\n",
    "plt.scatter(range(1,d1_1_s.shape[1]+1),ev)\n",
    "plt.plot(range(1,d1_1_s.shape[1]+1),ev)\n",
    "plt.title('Scree Plot')\n",
    "plt.xlabel('Factors')\n",
    "plt.ylabel('Eigenvalue')\n",
    "plt.grid()\n",
    "plt.show()"
   ]
  },
  {
   "cell_type": "code",
   "execution_count": 71,
   "metadata": {},
   "outputs": [
    {
     "data": {
      "text/html": [
       "<div>\n",
       "<style scoped>\n",
       "    .dataframe tbody tr th:only-of-type {\n",
       "        vertical-align: middle;\n",
       "    }\n",
       "\n",
       "    .dataframe tbody tr th {\n",
       "        vertical-align: top;\n",
       "    }\n",
       "\n",
       "    .dataframe thead th {\n",
       "        text-align: right;\n",
       "    }\n",
       "</style>\n",
       "<table border=\"1\" class=\"dataframe\">\n",
       "  <thead>\n",
       "    <tr style=\"text-align: right;\">\n",
       "      <th></th>\n",
       "      <th>0</th>\n",
       "      <th>1</th>\n",
       "      <th>2</th>\n",
       "    </tr>\n",
       "  </thead>\n",
       "  <tbody>\n",
       "    <tr>\n",
       "      <th>SUM_SELNG_AMT</th>\n",
       "      <td>0.970647</td>\n",
       "      <td>-0.016422</td>\n",
       "      <td>0.042845</td>\n",
       "    </tr>\n",
       "    <tr>\n",
       "      <th>SUM_SELNG_CO</th>\n",
       "      <td>0.968635</td>\n",
       "      <td>-0.064958</td>\n",
       "      <td>-0.038414</td>\n",
       "    </tr>\n",
       "    <tr>\n",
       "      <th>운영_영업_개월_평균</th>\n",
       "      <td>0.029150</td>\n",
       "      <td>0.815111</td>\n",
       "      <td>0.038297</td>\n",
       "    </tr>\n",
       "    <tr>\n",
       "      <th>폐업_영업_개월_평균</th>\n",
       "      <td>-0.053953</td>\n",
       "      <td>0.815697</td>\n",
       "      <td>-0.037521</td>\n",
       "    </tr>\n",
       "  </tbody>\n",
       "</table>\n",
       "</div>"
      ],
      "text/plain": [
       "                      0         1         2\n",
       "SUM_SELNG_AMT  0.970647 -0.016422  0.042845\n",
       "SUM_SELNG_CO   0.968635 -0.064958 -0.038414\n",
       "운영_영업_개월_평균    0.029150  0.815111  0.038297\n",
       "폐업_영업_개월_평균   -0.053953  0.815697 -0.037521"
      ]
     },
     "execution_count": 71,
     "metadata": {},
     "output_type": "execute_result"
    }
   ],
   "source": [
    "fa = FactorAnalyzer(n_factors=3,rotation = \"varimax\")\n",
    "fa.fit(d1_1_s)\n",
    "efa_result = pd.DataFrame(fa.loadings_,index = d1_1_s.columns)\n",
    "efa_result"
   ]
  },
  {
   "cell_type": "code",
   "execution_count": 72,
   "metadata": {},
   "outputs": [
    {
     "data": {
      "text/plain": [
       "<AxesSubplot: >"
      ]
     },
     "execution_count": 72,
     "metadata": {},
     "output_type": "execute_result"
    },
    {
     "data": {
      "image/png": "[encoded data removed]",
      "text/plain": [
       "<Figure size 400x400 with 2 Axes>"
      ]
     },
     "metadata": {},
     "output_type": "display_data"
    }
   ],
   "source": [
    "plt.figure(figsize = (4,4))\n",
    "sns.heatmap(efa_result,cmap = \"Blues\",annot = True, fmt = '.2f')"
   ]
  },
  {
   "cell_type": "code",
   "execution_count": 73,
   "metadata": {},
   "outputs": [
    {
     "data": {
      "text/html": [
       "<div>\n",
       "<style scoped>\n",
       "    .dataframe tbody tr th:only-of-type {\n",
       "        vertical-align: middle;\n",
       "    }\n",
       "\n",
       "    .dataframe tbody tr th {\n",
       "        vertical-align: top;\n",
       "    }\n",
       "\n",
       "    .dataframe thead th {\n",
       "        text-align: right;\n",
       "    }\n",
       "</style>\n",
       "<table border=\"1\" class=\"dataframe\">\n",
       "  <thead>\n",
       "    <tr style=\"text-align: right;\">\n",
       "      <th></th>\n",
       "      <th>0</th>\n",
       "      <th>1</th>\n",
       "      <th>2</th>\n",
       "      <th>mean</th>\n",
       "    </tr>\n",
       "  </thead>\n",
       "  <tbody>\n",
       "    <tr>\n",
       "      <th>SUM_SELNG_AMT</th>\n",
       "      <td>0.970647</td>\n",
       "      <td>-0.016422</td>\n",
       "      <td>0.042845</td>\n",
       "      <td>0.332357</td>\n",
       "    </tr>\n",
       "    <tr>\n",
       "      <th>SUM_SELNG_CO</th>\n",
       "      <td>0.968635</td>\n",
       "      <td>-0.064958</td>\n",
       "      <td>-0.038414</td>\n",
       "      <td>0.288421</td>\n",
       "    </tr>\n",
       "    <tr>\n",
       "      <th>운영_영업_개월_평균</th>\n",
       "      <td>0.029150</td>\n",
       "      <td>0.815111</td>\n",
       "      <td>0.038297</td>\n",
       "      <td>0.294186</td>\n",
       "    </tr>\n",
       "    <tr>\n",
       "      <th>폐업_영업_개월_평균</th>\n",
       "      <td>-0.053953</td>\n",
       "      <td>0.815697</td>\n",
       "      <td>-0.037521</td>\n",
       "      <td>0.241408</td>\n",
       "    </tr>\n",
       "  </tbody>\n",
       "</table>\n",
       "</div>"
      ],
      "text/plain": [
       "                      0         1         2      mean\n",
       "SUM_SELNG_AMT  0.970647 -0.016422  0.042845  0.332357\n",
       "SUM_SELNG_CO   0.968635 -0.064958 -0.038414  0.288421\n",
       "운영_영업_개월_평균    0.029150  0.815111  0.038297  0.294186\n",
       "폐업_영업_개월_평균   -0.053953  0.815697 -0.037521  0.241408"
      ]
     },
     "execution_count": 73,
     "metadata": {},
     "output_type": "execute_result"
    }
   ],
   "source": [
    "#값나온대로 변경하기\n",
    "efa_result['mean'] = (efa_result[0] +efa_result[1]+efa_result[2])/3\n",
    "efa_result"
   ]
  },
  {
   "cell_type": "code",
   "execution_count": 74,
   "metadata": {},
   "outputs": [
    {
     "name": "stdout",
     "output_type": "stream",
     "text": [
      "가중치_상업\n",
      "1위 SUM_SELNG_AMT: 0.29\n",
      "2위 운영_영업_개월_평균: 0.25\n",
      "3위 SUM_SELNG_CO: 0.25\n",
      "4위 폐업_영업_개월_평균: 0.21\n"
     ]
    }
   ],
   "source": [
    "print('가중치_상업')\n",
    "print('1위 SUM_SELNG_AMT:',round(0.332357/(0.332357+0.294186+0.288421+0.241408),2))\n",
    "print('2위 운영_영업_개월_평균:',round(0.294186/(0.332357+0.294186+0.288421+0.241408),2))\n",
    "print('3위 SUM_SELNG_CO:',round(0.288421/(0.332357+0.294186+0.288421+0.241408),2))\n",
    "print('4위 폐업_영업_개월_평균:',round(0.241408/(0.332357+0.294186+0.288421+0.241408),2))\n"
   ]
  },
  {
   "cell_type": "markdown",
   "metadata": {},
   "source": [
    "### 2-2. 상업_최종지표"
   ]
  },
  {
   "cell_type": "code",
   "execution_count": 75,
   "metadata": {},
   "outputs": [
    {
     "name": "stdout",
     "output_type": "stream",
     "text": [
      "      자치구명          행정동  SUM_SELNG_AMT  SUM_SELNG_CO  운영_영업_개월_평균  \\\n",
      "51930  강남구         역삼1동       1.000000      1.000000     0.477558   \n",
      "3387   종로구  종로1.2.3.4가동       0.629086      0.573802     0.804309   \n",
      "50066  마포구          서교동       0.846377      0.830552     0.377020   \n",
      "30877   중구           명동       0.498397      0.527745     0.836625   \n",
      "52030  송파구         가락1동       0.135054      0.065196     1.000000   \n",
      "\n",
      "       폐업_영업_개월_평균      상업지표  \n",
      "51930     0.167677  0.694602  \n",
      "3387      0.339394  0.598236  \n",
      "50066     0.169697  0.582979  \n",
      "30877     0.254545  0.539082  \n",
      "52030     1.000000  0.515465  \n",
      "(417, 7)\n",
      "(417,)\n",
      "(417,)\n"
     ]
    }
   ],
   "source": [
    "commercial_final = pd.concat([d1[['자치구명','행정동']], d1_1_s],axis = 1)\n",
    "commercial_final['상업지표'] = (commercial_final['SUM_SELNG_AMT']*0.29 + commercial_final['운영_영업_개월_평균']*0.25 \n",
    "                             + commercial_final['SUM_SELNG_CO']*0.25 + commercial_final['폐업_영업_개월_평균']*0.21)\n",
    "                             \n",
    "commercial_final.sort_values(by = ['상업지표'],ascending = False,inplace = True)\n",
    "#accessibility_final.rename(columns = {'Gu':'자치구명'},inplace=True)\n",
    "print(commercial_final.head())\n",
    "print(commercial_final.shape)\n",
    "print(commercial_final['상업지표'].shape)\n",
    "print(commercial_final['행정동'].shape)"
   ]
  },
  {
   "cell_type": "code",
   "execution_count": 76,
   "metadata": {},
   "outputs": [
    {
     "name": "stdout",
     "output_type": "stream",
     "text": [
      "      자치구명          행정동      상업지표\n",
      "51930  강남구         역삼1동  0.694602\n",
      "3387   종로구  종로1.2.3.4가동  0.598236\n",
      "50066  마포구          서교동  0.582979\n",
      "30877   중구           명동  0.539082\n",
      "52030  송파구         가락1동  0.515465\n",
      "(417, 3)\n"
     ]
    }
   ],
   "source": [
    "commercial_dong = commercial_final.drop(['SUM_SELNG_AMT','SUM_SELNG_CO','운영_영업_개월_평균',\n",
    "                                '폐업_영업_개월_평균'],axis=1)\n",
    "commercial_dong.sort_values(by = ['상업지표'],ascending = False,inplace= True)\n",
    "\n",
    "print(commercial_dong.head())\n",
    "print(commercial_dong.shape)\n"
   ]
  },
  {
   "cell_type": "code",
   "execution_count": 77,
   "metadata": {},
   "outputs": [],
   "source": [
    "commercial_dong.to_csv('[221026]commercial_dong.csv')"
   ]
  },
  {
   "cell_type": "markdown",
   "metadata": {},
   "source": [
    "## 3. 주거"
   ]
  },
  {
   "cell_type": "markdown",
   "metadata": {},
   "source": [
    "### 3-1. 탐색요인분석"
   ]
  },
  {
   "cell_type": "code",
   "execution_count": 52,
   "metadata": {},
   "outputs": [
    {
     "data": {
      "text/html": [
       "<div>\n",
       "<style scoped>\n",
       "    .dataframe tbody tr th:only-of-type {\n",
       "        vertical-align: middle;\n",
       "    }\n",
       "\n",
       "    .dataframe tbody tr th {\n",
       "        vertical-align: top;\n",
       "    }\n",
       "\n",
       "    .dataframe thead th {\n",
       "        text-align: right;\n",
       "    }\n",
       "</style>\n",
       "<table border=\"1\" class=\"dataframe\">\n",
       "  <thead>\n",
       "    <tr style=\"text-align: right;\">\n",
       "      <th></th>\n",
       "      <th>Unnamed: 0</th>\n",
       "      <th>자치구행정동</th>\n",
       "      <th>자치구</th>\n",
       "      <th>행정동</th>\n",
       "      <th>인구수</th>\n",
       "      <th>생활인구</th>\n",
       "      <th>주택수</th>\n",
       "    </tr>\n",
       "  </thead>\n",
       "  <tbody>\n",
       "    <tr>\n",
       "      <th>0</th>\n",
       "      <td>0</td>\n",
       "      <td>종로구 청운효자동</td>\n",
       "      <td>종로구</td>\n",
       "      <td>청운효자동</td>\n",
       "      <td>12177</td>\n",
       "      <td>1.314577e+07</td>\n",
       "      <td>4134.0</td>\n",
       "    </tr>\n",
       "    <tr>\n",
       "      <th>1</th>\n",
       "      <td>1</td>\n",
       "      <td>종로구 사직동</td>\n",
       "      <td>종로구</td>\n",
       "      <td>사직동</td>\n",
       "      <td>9636</td>\n",
       "      <td>1.831985e+07</td>\n",
       "      <td>2778.0</td>\n",
       "    </tr>\n",
       "    <tr>\n",
       "      <th>2</th>\n",
       "      <td>2</td>\n",
       "      <td>종로구 삼청동</td>\n",
       "      <td>종로구</td>\n",
       "      <td>삼청동</td>\n",
       "      <td>2739</td>\n",
       "      <td>3.799452e+06</td>\n",
       "      <td>730.0</td>\n",
       "    </tr>\n",
       "    <tr>\n",
       "      <th>3</th>\n",
       "      <td>3</td>\n",
       "      <td>종로구 부암동</td>\n",
       "      <td>종로구</td>\n",
       "      <td>부암동</td>\n",
       "      <td>9782</td>\n",
       "      <td>1.057895e+07</td>\n",
       "      <td>3070.0</td>\n",
       "    </tr>\n",
       "    <tr>\n",
       "      <th>4</th>\n",
       "      <td>4</td>\n",
       "      <td>종로구 평창동</td>\n",
       "      <td>종로구</td>\n",
       "      <td>평창동</td>\n",
       "      <td>18329</td>\n",
       "      <td>1.304180e+07</td>\n",
       "      <td>5958.0</td>\n",
       "    </tr>\n",
       "  </tbody>\n",
       "</table>\n",
       "</div>"
      ],
      "text/plain": [
       "   Unnamed: 0     자치구행정동  자치구    행정동    인구수          생활인구     주택수\n",
       "0           0  종로구 청운효자동  종로구  청운효자동  12177  1.314577e+07  4134.0\n",
       "1           1    종로구 사직동  종로구    사직동   9636  1.831985e+07  2778.0\n",
       "2           2    종로구 삼청동  종로구    삼청동   2739  3.799452e+06   730.0\n",
       "3           3    종로구 부암동  종로구    부암동   9782  1.057895e+07  3070.0\n",
       "4           4    종로구 평창동  종로구    평창동  18329  1.304180e+07  5958.0"
      ]
     },
     "execution_count": 52,
     "metadata": {},
     "output_type": "execute_result"
    }
   ],
   "source": [
    "d1 = pd.read_csv('data/주거.csv')\n",
    "d1.head()"
   ]
  },
  {
   "cell_type": "code",
   "execution_count": 53,
   "metadata": {},
   "outputs": [
    {
     "name": "stdout",
     "output_type": "stream",
     "text": [
      "        인구수      생활인구       주택수\n",
      "0  0.215383  0.178611  0.220433\n",
      "1  0.169900  0.248912  0.148128\n",
      "2  0.046449  0.051623  0.038925\n",
      "3  0.172514  0.143736  0.163698\n",
      "4  0.325499  0.177199  0.317692\n",
      "<class 'pandas.core.frame.DataFrame'>\n",
      "Int64Index: 426 entries, 0 to 425\n",
      "Data columns (total 3 columns):\n",
      " #   Column  Non-Null Count  Dtype  \n",
      "---  ------  --------------  -----  \n",
      " 0   인구수     426 non-null    float64\n",
      " 1   생활인구    426 non-null    float64\n",
      " 2   주택수     426 non-null    float64\n",
      "dtypes: float64(3)\n",
      "memory usage: 13.3 KB\n",
      "None\n"
     ]
    }
   ],
   "source": [
    "from sklearn.preprocessing import MinMaxScaler\n",
    "d1_1 = d1.drop(['Unnamed: 0','자치구','행정동','자치구행정동'],axis = 1)\n",
    "min_max_scaler = MinMaxScaler()\n",
    "fitted = min_max_scaler.fit(d1_1)\n",
    "d1_1_s = min_max_scaler.transform(d1_1)\n",
    "d1_1_s = pd.DataFrame(d1_1_s, columns=(d1_1).columns, index=list(d1_1.index.values))\n",
    "print(d1_1_s.head())\n",
    "print(d1_1_s.info())"
   ]
  },
  {
   "cell_type": "code",
   "execution_count": 54,
   "metadata": {},
   "outputs": [
    {
     "data": {
      "text/plain": [
       "(1032.443454555368, 1.6483356122888054e-223)"
      ]
     },
     "execution_count": 54,
     "metadata": {},
     "output_type": "execute_result"
    }
   ],
   "source": [
    "# Bartlett test\n",
    "from factor_analyzer.factor_analyzer import calculate_bartlett_sphericity\n",
    "chi_square_value, p_value = calculate_bartlett_sphericity(d1_1_s)\n",
    "chi_square_value, p_value "
   ]
  },
  {
   "cell_type": "code",
   "execution_count": 55,
   "metadata": {},
   "outputs": [
    {
     "data": {
      "text/plain": [
       "0.6298886039450345"
      ]
     },
     "execution_count": 55,
     "metadata": {},
     "output_type": "execute_result"
    }
   ],
   "source": [
    "#KMO검정\n",
    "from factor_analyzer.factor_analyzer import calculate_kmo\n",
    "kmo_all,kmo_model = calculate_kmo(d1_1_s)\n",
    "kmo_model"
   ]
  },
  {
   "cell_type": "code",
   "execution_count": 56,
   "metadata": {},
   "outputs": [
    {
     "data": {
      "image/png": "[encoded data removed]",
      "text/plain": [
       "<Figure size 640x480 with 1 Axes>"
      ]
     },
     "metadata": {},
     "output_type": "display_data"
    }
   ],
   "source": [
    "#scress plot\n",
    "from factor_analyzer import FactorAnalyzer\n",
    "fa = FactorAnalyzer(n_factors = 10, rotation = None)\n",
    "fa.fit(d1_1_s)\n",
    "ev,v = fa.get_eigenvalues()\n",
    "plt.scatter(range(1,d1_1_s.shape[1]+1),ev)\n",
    "plt.plot(range(1,d1_1_s.shape[1]+1),ev)\n",
    "plt.title('Scree Plot')\n",
    "plt.xlabel('Factors')\n",
    "plt.ylabel('Eigenvalue')\n",
    "plt.grid()\n",
    "plt.show()"
   ]
  },
  {
   "cell_type": "code",
   "execution_count": 57,
   "metadata": {},
   "outputs": [
    {
     "data": {
      "text/html": [
       "<div>\n",
       "<style scoped>\n",
       "    .dataframe tbody tr th:only-of-type {\n",
       "        vertical-align: middle;\n",
       "    }\n",
       "\n",
       "    .dataframe tbody tr th {\n",
       "        vertical-align: top;\n",
       "    }\n",
       "\n",
       "    .dataframe thead th {\n",
       "        text-align: right;\n",
       "    }\n",
       "</style>\n",
       "<table border=\"1\" class=\"dataframe\">\n",
       "  <thead>\n",
       "    <tr style=\"text-align: right;\">\n",
       "      <th></th>\n",
       "      <th>0</th>\n",
       "    </tr>\n",
       "  </thead>\n",
       "  <tbody>\n",
       "    <tr>\n",
       "      <th>인구수</th>\n",
       "      <td>-1.001796</td>\n",
       "    </tr>\n",
       "    <tr>\n",
       "      <th>생활인구</th>\n",
       "      <td>-0.613762</td>\n",
       "    </tr>\n",
       "    <tr>\n",
       "      <th>주택수</th>\n",
       "      <td>-0.919548</td>\n",
       "    </tr>\n",
       "  </tbody>\n",
       "</table>\n",
       "</div>"
      ],
      "text/plain": [
       "             0\n",
       "인구수  -1.001796\n",
       "생활인구 -0.613762\n",
       "주택수  -0.919548"
      ]
     },
     "execution_count": 57,
     "metadata": {},
     "output_type": "execute_result"
    }
   ],
   "source": [
    "fa = FactorAnalyzer(n_factors=1,rotation = \"varimax\")\n",
    "fa.fit(d1_1_s)\n",
    "efa_result = pd.DataFrame(fa.loadings_,index = d1_1_s.columns)\n",
    "efa_result"
   ]
  },
  {
   "cell_type": "code",
   "execution_count": 58,
   "metadata": {},
   "outputs": [
    {
     "data": {
      "text/html": [
       "<div>\n",
       "<style scoped>\n",
       "    .dataframe tbody tr th:only-of-type {\n",
       "        vertical-align: middle;\n",
       "    }\n",
       "\n",
       "    .dataframe tbody tr th {\n",
       "        vertical-align: top;\n",
       "    }\n",
       "\n",
       "    .dataframe thead th {\n",
       "        text-align: right;\n",
       "    }\n",
       "</style>\n",
       "<table border=\"1\" class=\"dataframe\">\n",
       "  <thead>\n",
       "    <tr style=\"text-align: right;\">\n",
       "      <th></th>\n",
       "      <th>0</th>\n",
       "      <th>1</th>\n",
       "    </tr>\n",
       "  </thead>\n",
       "  <tbody>\n",
       "    <tr>\n",
       "      <th>인구수</th>\n",
       "      <td>0.722738</td>\n",
       "      <td>0.677568</td>\n",
       "    </tr>\n",
       "    <tr>\n",
       "      <th>생활인구</th>\n",
       "      <td>0.344227</td>\n",
       "      <td>0.550635</td>\n",
       "    </tr>\n",
       "    <tr>\n",
       "      <th>주택수</th>\n",
       "      <td>0.804913</td>\n",
       "      <td>0.507904</td>\n",
       "    </tr>\n",
       "  </tbody>\n",
       "</table>\n",
       "</div>"
      ],
      "text/plain": [
       "             0         1\n",
       "인구수   0.722738  0.677568\n",
       "생활인구  0.344227  0.550635\n",
       "주택수   0.804913  0.507904"
      ]
     },
     "execution_count": 58,
     "metadata": {},
     "output_type": "execute_result"
    }
   ],
   "source": [
    "fa = FactorAnalyzer(n_factors=2,rotation = \"varimax\")\n",
    "fa.fit(d1_1_s)\n",
    "efa_result = pd.DataFrame(fa.loadings_,index = d1_1_s.columns)\n",
    "efa_result"
   ]
  },
  {
   "cell_type": "code",
   "execution_count": 59,
   "metadata": {},
   "outputs": [
    {
     "data": {
      "text/plain": [
       "<AxesSubplot: >"
      ]
     },
     "execution_count": 59,
     "metadata": {},
     "output_type": "execute_result"
    },
    {
     "data": {
      "image/png": "[encoded data removed]",
      "text/plain": [
       "<Figure size 400x400 with 2 Axes>"
      ]
     },
     "metadata": {},
     "output_type": "display_data"
    }
   ],
   "source": [
    "plt.figure(figsize = (4,4))\n",
    "sns.heatmap(efa_result,cmap = \"Blues\",annot = True, fmt = '.2f')"
   ]
  },
  {
   "cell_type": "code",
   "execution_count": 60,
   "metadata": {},
   "outputs": [
    {
     "data": {
      "text/html": [
       "<div>\n",
       "<style scoped>\n",
       "    .dataframe tbody tr th:only-of-type {\n",
       "        vertical-align: middle;\n",
       "    }\n",
       "\n",
       "    .dataframe tbody tr th {\n",
       "        vertical-align: top;\n",
       "    }\n",
       "\n",
       "    .dataframe thead th {\n",
       "        text-align: right;\n",
       "    }\n",
       "</style>\n",
       "<table border=\"1\" class=\"dataframe\">\n",
       "  <thead>\n",
       "    <tr style=\"text-align: right;\">\n",
       "      <th></th>\n",
       "      <th>0</th>\n",
       "      <th>1</th>\n",
       "      <th>mean</th>\n",
       "    </tr>\n",
       "  </thead>\n",
       "  <tbody>\n",
       "    <tr>\n",
       "      <th>인구수</th>\n",
       "      <td>0.722738</td>\n",
       "      <td>0.677568</td>\n",
       "      <td>0.700153</td>\n",
       "    </tr>\n",
       "    <tr>\n",
       "      <th>생활인구</th>\n",
       "      <td>0.344227</td>\n",
       "      <td>0.550635</td>\n",
       "      <td>0.447431</td>\n",
       "    </tr>\n",
       "    <tr>\n",
       "      <th>주택수</th>\n",
       "      <td>0.804913</td>\n",
       "      <td>0.507904</td>\n",
       "      <td>0.656408</td>\n",
       "    </tr>\n",
       "  </tbody>\n",
       "</table>\n",
       "</div>"
      ],
      "text/plain": [
       "             0         1      mean\n",
       "인구수   0.722738  0.677568  0.700153\n",
       "생활인구  0.344227  0.550635  0.447431\n",
       "주택수   0.804913  0.507904  0.656408"
      ]
     },
     "execution_count": 60,
     "metadata": {},
     "output_type": "execute_result"
    }
   ],
   "source": [
    "#값나온대로 변경하기\n",
    "efa_result['mean'] = (efa_result[0] +efa_result[1])/2\n",
    "efa_result"
   ]
  },
  {
   "cell_type": "code",
   "execution_count": 61,
   "metadata": {},
   "outputs": [
    {
     "name": "stdout",
     "output_type": "stream",
     "text": [
      "가중치_주거\n",
      "1위 인구수: 0.39\n",
      "2위 주택수: 0.36\n",
      "3위 생활인구: 0.25\n"
     ]
    }
   ],
   "source": [
    "print('가중치_주거')\n",
    "print('1위 인구수:',round(0.700153/(0.700153+0.656408+0.447431),2))\n",
    "print('2위 주택수:',round(0.656408/(0.700153+0.656408+0.447431),2))\n",
    "print('3위 생활인구:',round(0.447431/(0.700153+0.656408+0.447431),2))\n"
   ]
  },
  {
   "cell_type": "markdown",
   "metadata": {},
   "source": [
    "### 3-2. 주거_최종지표"
   ]
  },
  {
   "cell_type": "code",
   "execution_count": 63,
   "metadata": {},
   "outputs": [
    {
     "name": "stdout",
     "output_type": "stream",
     "text": [
      "     자치구    행정동       인구수      생활인구       주택수      주거지표\n",
      "191  은평구    진관동  1.000000  0.587438  0.914258  0.865993\n",
      "244  강서구  화곡제1동  0.941970  0.466745  1.000000  0.844055\n",
      "236  양천구   신정3동  0.892013  0.417842  0.823291  0.748731\n",
      "423  강동구     길동  0.820309  0.531368  0.787885  0.736401\n",
      "368  강남구   역삼1동  0.652359  1.000000  0.639597  0.734675\n",
      "(426, 6)\n",
      "(426,)\n",
      "(426,)\n"
     ]
    }
   ],
   "source": [
    "residence_final = pd.concat([d1[['자치구','행정동']], d1_1_s],axis = 1)\n",
    "residence_final['주거지표'] = (residence_final['인구수']*0.39 + residence_final['주택수']*0.36 \n",
    "                             + residence_final['생활인구']*0.25 )\n",
    "residence_final.sort_values(by = ['주거지표'],ascending = False,inplace = True)\n",
    "#accessibility_final.rename(columns = {'Gu':'자치구명'},inplace=True)\n",
    "print(residence_final.head())\n",
    "print(residence_final.shape)\n",
    "print(residence_final['주거지표'].shape)\n",
    "print(residence_final['행정동'].shape)"
   ]
  },
  {
   "cell_type": "code",
   "execution_count": 64,
   "metadata": {},
   "outputs": [
    {
     "name": "stdout",
     "output_type": "stream",
     "text": [
      "     자치구    행정동      주거지표\n",
      "191  은평구    진관동  0.865993\n",
      "244  강서구  화곡제1동  0.844055\n",
      "236  양천구   신정3동  0.748731\n",
      "423  강동구     길동  0.736401\n",
      "368  강남구   역삼1동  0.734675\n",
      "(426, 3)\n",
      "     자치구    행정동      주거지표\n",
      "191  은평구    진관동  0.865993\n",
      "244  강서구  화곡제1동  0.844055\n",
      "236  양천구   신정3동  0.748731\n",
      "423  강동구     길동  0.736401\n",
      "368  강남구   역삼1동  0.734675\n",
      "(426, 3)\n"
     ]
    }
   ],
   "source": [
    "residence_dong = residence_final.drop(['인구수','생활인구','주택수'],axis=1)\n",
    "residence_dong.sort_values(by = ['주거지표'],ascending = False,inplace= True)\n",
    "\n",
    "print(residence_dong.head())\n",
    "print(residence_dong.shape)\n",
    "residence_dong= residence_dong.drop_duplicates()\n",
    "print(residence_dong.head())\n",
    "print(residence_dong.shape)"
   ]
  },
  {
   "cell_type": "code",
   "execution_count": 65,
   "metadata": {},
   "outputs": [],
   "source": [
    "residence_dong.to_csv('[221026]residence_dong.csv')"
   ]
  },
  {
   "cell_type": "markdown",
   "metadata": {},
   "source": [
    "## 4. 학교"
   ]
  },
  {
   "cell_type": "code",
   "execution_count": 5,
   "metadata": {},
   "outputs": [
    {
     "name": "stdout",
     "output_type": "stream",
     "text": [
      "   Unnamed: 0                   도로명         위도          경도  법정동\n",
      "0           0     서울특별시 강남구 자곡로 150  37.472191  127.099434  자곡동\n",
      "1           1  서울특별시 강남구 밤고개로21길 15  37.474524  127.108306  자곡동\n",
      "2           2      서울특별시 강남구 자곡로 81  37.471924  127.091949  자곡동\n",
      "3           3      서울특별시 강남구 자곡로 55  37.468777  127.090952  세곡동\n",
      "4           4     서울특별시 강남구 역삼로 541  37.505562  127.061815  대치동\n",
      "<class 'pandas.core.frame.DataFrame'>\n",
      "RangeIndex: 3879 entries, 0 to 3878\n",
      "Data columns (total 5 columns):\n",
      " #   Column      Non-Null Count  Dtype  \n",
      "---  ------      --------------  -----  \n",
      " 0   Unnamed: 0  3879 non-null   int64  \n",
      " 1   도로명         3879 non-null   object \n",
      " 2   위도          3848 non-null   float64\n",
      " 3   경도          3848 non-null   float64\n",
      " 4   법정동         3879 non-null   object \n",
      "dtypes: float64(2), int64(1), object(2)\n",
      "memory usage: 151.6+ KB\n",
      "None\n"
     ]
    }
   ],
   "source": [
    "d1 = pd.read_csv('data/school_법정동.csv')\n",
    "print(d1.head())\n",
    "print(d1.info())"
   ]
  },
  {
   "cell_type": "code",
   "execution_count": 13,
   "metadata": {},
   "outputs": [
    {
     "name": "stdout",
     "output_type": "stream",
     "text": [
      "   법정동  만3세유아수  만4세유아수  만5세유아수  혼합유아수  특수유아수\n",
      "0  독산동     8.0    13.0    21.0      0    3.0\n",
      "1  송파동    25.0    37.0    37.0      0    NaN\n",
      "2  문정동    37.0    16.0    17.0      0    NaN\n",
      "3  신내동    13.0    22.0    16.0      0    4.0\n",
      "4   묵동    10.0     2.0    14.0      0    NaN\n",
      "<class 'pandas.core.frame.DataFrame'>\n",
      "RangeIndex: 932 entries, 0 to 931\n",
      "Data columns (total 6 columns):\n",
      " #   Column  Non-Null Count  Dtype  \n",
      "---  ------  --------------  -----  \n",
      " 0   법정동     932 non-null    object \n",
      " 1   만3세유아수  785 non-null    float64\n",
      " 2   만4세유아수  829 non-null    float64\n",
      " 3   만5세유아수  874 non-null    float64\n",
      " 4   혼합유아수   932 non-null    int64  \n",
      " 5   특수유아수   130 non-null    float64\n",
      "dtypes: float64(4), int64(1), object(1)\n",
      "memory usage: 43.8+ KB\n",
      "None\n",
      "221\n"
     ]
    }
   ],
   "source": [
    "d2 = pd.read_csv('data/kid_법정동.csv')\n",
    "d2 = d2[['법정동','만3세유아수','만4세유아수','만5세유아수','혼합유아수','특수유아수']]\n",
    "print(d2.head())\n",
    "print(d2.info())\n",
    "print(d2['법정동'].nunique())"
   ]
  },
  {
   "cell_type": "code",
   "execution_count": 16,
   "metadata": {},
   "outputs": [
    {
     "name": "stdout",
     "output_type": "stream",
     "text": [
      "   Unnamed: 0 자치구명  행정구역명    행정동  법정동   행정구역분류\n",
      "0           2  종로구  청운효자동  청운효자동  청운동  1101072\n",
      "1           3  종로구  청운효자동  청운효자동  신교동  1101072\n",
      "2           4  종로구  청운효자동  청운효자동  궁정동  1101072\n",
      "3           5  종로구  청운효자동  청운효자동  효자동  1101072\n",
      "4           6  종로구  청운효자동  청운효자동  창성동  1101072\n",
      "425\n",
      "425\n",
      "465\n"
     ]
    }
   ],
   "source": [
    "df_dong = pd.read_csv('data/행정구역전처리.csv')\n",
    "print(df_dong.head())\n",
    "print(df_dong['행정구역명'].nunique())\n",
    "print(df_dong['행정동'].nunique())\n",
    "print(df_dong['법정동'].nunique())"
   ]
  },
  {
   "cell_type": "code",
   "execution_count": null,
   "metadata": {},
   "outputs": [],
   "source": [
    "school_dong_1 = pd.merge(d1,df_dong)\n",
    "school_dong_1.drop([])"
   ]
  }
 ],
 "metadata": {
  "kernelspec": {
   "display_name": "Python 3.10.6 ('adv_analysis')",
   "language": "python",
   "name": "python3"
  },
  "language_info": {
   "codemirror_mode": {
    "name": "ipython",
    "version": 3
   },
   "file_extension": ".py",
   "mimetype": "text/x-python",
   "name": "python",
   "nbconvert_exporter": "python",
   "pygments_lexer": "ipython3",
   "version": "3.10.6"
  },
  "orig_nbformat": 4,
  "vscode": {
   "interpreter": {
    "hash": "fd4ca7ec3520f3d442737cc20e06f79c0e856b30e86c015e6f25d8bfdc13a88a"
   }
  }
 },
 "nbformat": 4,
 "nbformat_minor": 2
}
